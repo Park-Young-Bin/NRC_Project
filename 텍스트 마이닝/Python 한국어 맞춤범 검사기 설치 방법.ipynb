{
 "cells": [
  {
   "attachments": {
    "00f6ee7b-5cfe-43ef-88d5-442db213fd0d.png": {
     "image/png": "[encoded data removed]"
    }
   },
   "cell_type": "markdown",
   "id": "5236c23c-c1bc-4309-9b41-2e732b3aa224",
   "metadata": {},
   "source": [
    "##  Python 한국어 맞춤법 검사기 설치 방법\n",
    "\n",
    "[참고 자료](https://github.com/ssut/py-hanspell)\n",
    "\n",
    "1. 위 링크에 접속해 hanspell 안의 파일을 모두 다운 받고 본인의 프로젝트 폴더에 'hanspell' 폴더를 만든다.\n",
    "1. 다운 받은 4개 파일을 모두 'hanspell' 폴더에 넣는다.\n",
    "1. 아래 코드를 실행한다. (pip install py-hanspell)\n",
    "1. **ERROR, WARNING 오류는 무시한다**\n",
    "\n",
    "![image.png](attachment:00f6ee7b-5cfe-43ef-88d5-442db213fd0d.png)"
   ]
  },
  {
   "cell_type": "code",
   "execution_count": 23,
   "id": "1a52bec1-f4e7-4ec9-8b23-c3c8b6c53f67",
   "metadata": {
    "collapsed": true,
    "jupyter": {
     "outputs_hidden": true
    },
    "tags": []
   },
   "outputs": [
    {
     "name": "stdout",
     "output_type": "stream",
     "text": [
      "Collecting py-hanspell\n",
      "  Using cached py-hanspell-1.1.tar.gz (3.0 kB)\n",
      "  Using cached py-hanspell-1.0.tar.gz (3.0 kB)\n",
      "Note: you may need to restart the kernel to use updated packages.\n"
     ]
    },
    {
     "name": "stderr",
     "output_type": "stream",
     "text": [
      "    ERROR: Command errored out with exit status 1:\n",
      "     command: 'C:\\Users\\user\\anaconda3\\python.exe' -c 'import io, os, sys, setuptools, tokenize; sys.argv[0] = '\"'\"'C:\\\\Users\\\\user\\\\AppData\\\\Local\\\\Temp\\\\pip-install-frdencta\\\\py-hanspell_796ba05080a444b58edcafe5b5acc6bf\\\\setup.py'\"'\"'; __file__='\"'\"'C:\\\\Users\\\\user\\\\AppData\\\\Local\\\\Temp\\\\pip-install-frdencta\\\\py-hanspell_796ba05080a444b58edcafe5b5acc6bf\\\\setup.py'\"'\"';f = getattr(tokenize, '\"'\"'open'\"'\"', open)(__file__) if os.path.exists(__file__) else io.StringIO('\"'\"'from setuptools import setup; setup()'\"'\"');code = f.read().replace('\"'\"'\\r\\n'\"'\"', '\"'\"'\\n'\"'\"');f.close();exec(compile(code, __file__, '\"'\"'exec'\"'\"'))' egg_info --egg-base 'C:\\Users\\user\\AppData\\Local\\Temp\\pip-pip-egg-info-39h_hnow'\n",
      "         cwd: C:\\Users\\user\\AppData\\Local\\Temp\\pip-install-frdencta\\py-hanspell_796ba05080a444b58edcafe5b5acc6bf\\\n",
      "    Complete output (5 lines):\n",
      "    Traceback (most recent call last):\n",
      "      File \"<string>\", line 1, in <module>\n",
      "      File \"C:\\Users\\user\\AppData\\Local\\Temp\\pip-install-frdencta\\py-hanspell_796ba05080a444b58edcafe5b5acc6bf\\setup.py\", line 2, in <module>\n",
      "        from pip.req import parse_requirements\n",
      "    ModuleNotFoundError: No module named 'pip.req'\n",
      "    ----------------------------------------\n",
      "WARNING: Discarding https://files.pythonhosted.org/packages/24/81/baac88868b58eea5b0aab675da7ef0cdd72bee62b080cd50336a76faf57f/py-hanspell-1.1.tar.gz#sha256=e44953f3defb058eabe2e6b4e83a6219c3501de18385ee8c5bfa064b63005e05 (from https://pypi.org/simple/py-hanspell/). Command errored out with exit status 1: python setup.py egg_info Check the logs for full command output.\n",
      "    ERROR: Command errored out with exit status 1:\n",
      "     command: 'C:\\Users\\user\\anaconda3\\python.exe' -c 'import io, os, sys, setuptools, tokenize; sys.argv[0] = '\"'\"'C:\\\\Users\\\\user\\\\AppData\\\\Local\\\\Temp\\\\pip-install-frdencta\\\\py-hanspell_bbb0f36eba2f40eea446b50a685e3693\\\\setup.py'\"'\"'; __file__='\"'\"'C:\\\\Users\\\\user\\\\AppData\\\\Local\\\\Temp\\\\pip-install-frdencta\\\\py-hanspell_bbb0f36eba2f40eea446b50a685e3693\\\\setup.py'\"'\"';f = getattr(tokenize, '\"'\"'open'\"'\"', open)(__file__) if os.path.exists(__file__) else io.StringIO('\"'\"'from setuptools import setup; setup()'\"'\"');code = f.read().replace('\"'\"'\\r\\n'\"'\"', '\"'\"'\\n'\"'\"');f.close();exec(compile(code, __file__, '\"'\"'exec'\"'\"'))' egg_info --egg-base 'C:\\Users\\user\\AppData\\Local\\Temp\\pip-pip-egg-info-re0y46k3'\n",
      "         cwd: C:\\Users\\user\\AppData\\Local\\Temp\\pip-install-frdencta\\py-hanspell_bbb0f36eba2f40eea446b50a685e3693\\\n",
      "    Complete output (5 lines):\n",
      "    Traceback (most recent call last):\n",
      "      File \"<string>\", line 1, in <module>\n",
      "      File \"C:\\Users\\user\\AppData\\Local\\Temp\\pip-install-frdencta\\py-hanspell_bbb0f36eba2f40eea446b50a685e3693\\setup.py\", line 2, in <module>\n",
      "        from pip.req import parse_requirements\n",
      "    ModuleNotFoundError: No module named 'pip.req'\n",
      "    ----------------------------------------\n",
      "WARNING: Discarding https://files.pythonhosted.org/packages/be/4d/bf6a3b891f30fceacce5a83a987a294317ec41ab899b4b5a2b404a0f88d5/py-hanspell-1.0.tar.gz#sha256=e1468423c130f4fbc99de1909dc0509412792ec19c3fbed949f9778170161cf5 (from https://pypi.org/simple/py-hanspell/). Command errored out with exit status 1: python setup.py egg_info Check the logs for full command output.\n",
      "ERROR: Could not find a version that satisfies the requirement py-hanspell (from versions: 1.0, 1.1)\n",
      "ERROR: No matching distribution found for py-hanspell\n"
     ]
    }
   ],
   "source": [
    "# pip install py-hanspell"
   ]
  },
  {
   "cell_type": "code",
   "execution_count": 24,
   "id": "082d08c0-ab16-4690-8e78-fb632440f4cb",
   "metadata": {},
   "outputs": [
    {
     "name": "stdout",
     "output_type": "stream",
     "text": [
      "한글 맞춤법검사기 제대로 작동되는지 테스트\n"
     ]
    }
   ],
   "source": [
    "from hanspell import spell_checker\n",
    " \n",
    "sent = \"한글 맞춤법검사기 재대로작동돼는지테스트\"\n",
    "spelled_sent = spell_checker.check(sent)\n",
    "checked_sent = spelled_sent.checked\n",
    " \n",
    "print(checked_sent)"
   ]
  },
  {
   "cell_type": "code",
   "execution_count": 1,
   "id": "6b702d6b-64b0-42f8-832d-2c0cb028a402",
   "metadata": {},
   "outputs": [
    {
     "name": "stdout",
     "output_type": "stream",
     "text": [
      "공부하는 것은 매우 힘듦\n"
     ]
    }
   ],
   "source": [
    "from hanspell import spell_checker\n",
    " \n",
    "sent = \"공부하는 것은 매우 힘듬\"\n",
    "spelled_sent = spell_checker.check(sent)\n",
    "checked_sent = spelled_sent.checked\n",
    " \n",
    "print(checked_sent)"
   ]
  },
  {
   "cell_type": "code",
   "execution_count": 7,
   "id": "2c1b0b30-f447-4775-aef2-78ddb35aa58f",
   "metadata": {},
   "outputs": [
    {
     "name": "stdout",
     "output_type": "stream",
     "text": [
      "사람들이 맞춤법을 왜 안 하는지 잘 모르겠어\n"
     ]
    }
   ],
   "source": [
    "from hanspell import spell_checker\n",
    " \n",
    "sent = \"사람드리 마춤뻡을 왜 않하는지 잘 모르겟어\"\n",
    "spelled_sent = spell_checker.check(sent)\n",
    "checked_sent = spelled_sent.checked\n",
    " \n",
    "print(checked_sent)"
   ]
  },
  {
   "cell_type": "code",
   "execution_count": 3,
   "id": "d52c934f-294e-40af-a4da-590759d3d9c4",
   "metadata": {},
   "outputs": [
    {
     "data": {
      "text/plain": [
       "Checked(result=True, original='안녕 하세요. 저는 한국인 입니다. 이문장은 한글로 작성됬습니다.', checked='안녕하세요. 저는 한국인입니다. 이 문장은 한글로 작성됐습니다.', errors=4, words=OrderedDict([('안녕하세요.', 2), ('저는', 0), ('한국인입니다.', 2), ('이', 2), ('문장은', 2), ('한글로', 0), ('작성됐습니다.', 1)]), time=0.07845568656921387)"
      ]
     },
     "execution_count": 3,
     "metadata": {},
     "output_type": "execute_result"
    }
   ],
   "source": [
    "from hanspell import spell_checker\n",
    "\n",
    "result = spell_checker.check(u'안녕 하세요. 저는 한국인 입니다. 이문장은 한글로 작성됬습니다.')\n",
    "result.as_dict()  # dict로 출력\n",
    "{'checked': '안녕하세요. 저는 한국인입니다. 이 문장은 한글로 작성됐습니다.',\n",
    " 'errors': 4,\n",
    " 'original': '안녕 하세요. 저는 한국인 입니다. 이문장은 한글로 작성됬습니다.',\n",
    " 'result': True,\n",
    " 'time': 0.07065701484680176,\n",
    " 'words': {'안녕하세요.': 2,\n",
    "           '저는': 0,\n",
    "           '한국인입니다.': 2,\n",
    "           '이': 2,\n",
    "           '문장은': 2,\n",
    "           '한글로': 0,\n",
    "           '작성됐습니다.': 1}}\n",
    "result"
   ]
  }
 ],
 "metadata": {
  "kernelspec": {
   "display_name": "Python 3",
   "language": "python",
   "name": "python3"
  },
  "language_info": {
   "codemirror_mode": {
    "name": "ipython",
    "version": 3
   },
   "file_extension": ".py",
   "mimetype": "text/x-python",
   "name": "python",
   "nbconvert_exporter": "python",
   "pygments_lexer": "ipython3",
   "version": "3.8.8"
  }
 },
 "nbformat": 4,
 "nbformat_minor": 5
}
