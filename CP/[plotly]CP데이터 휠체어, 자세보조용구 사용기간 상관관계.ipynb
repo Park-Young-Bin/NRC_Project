{
 "cells": [
  {
   "cell_type": "code",
   "execution_count": 23,
   "id": "2e50be02-93d5-4fa4-8492-0a56412fe037",
   "metadata": {},
   "outputs": [
    {
     "name": "stdout",
     "output_type": "stream",
     "text": [
      "Collecting statsmodels\n",
      "  Downloading statsmodels-0.13.1-cp38-none-win_amd64.whl (9.4 MB)\n",
      "Collecting patsy>=0.5.2\n",
      "  Downloading patsy-0.5.2-py2.py3-none-any.whl (233 kB)\n",
      "Requirement already satisfied: pandas>=0.25 in c:\\python\\lib\\site-packages (from statsmodels) (1.3.4)\n",
      "Requirement already satisfied: scipy>=1.3 in c:\\python\\lib\\site-packages (from statsmodels) (1.7.1)\n",
      "Requirement already satisfied: numpy>=1.17 in c:\\python\\lib\\site-packages (from statsmodels) (1.21.2)\n",
      "Requirement already satisfied: pytz>=2017.3 in c:\\python\\lib\\site-packages (from pandas>=0.25->statsmodels) (2021.3)\n",
      "Requirement already satisfied: python-dateutil>=2.7.3 in c:\\python\\lib\\site-packages (from pandas>=0.25->statsmodels) (2.8.2)\n",
      "Requirement already satisfied: six in c:\\python\\lib\\site-packages (from patsy>=0.5.2->statsmodels) (1.16.0)\n",
      "Installing collected packages: patsy, statsmodels\n",
      "Successfully installed patsy-0.5.2 statsmodels-0.13.1\n"
     ]
    }
   ],
   "source": [
    "#!pip install statsmodels"
   ]
  },
  {
   "cell_type": "code",
   "execution_count": 75,
   "id": "22428574-44e0-4bd0-8a84-8b17488b7878",
   "metadata": {},
   "outputs": [],
   "source": [
    "import pandas as pd\n",
    "import plotly\n",
    "import matplotlib as plt\n",
    "import plotly.express as px\n",
    "import statsmodels.api as sm"
   ]
  },
  {
   "cell_type": "code",
   "execution_count": 177,
   "id": "ae350f02-e8f7-4974-aa7a-52723f143103",
   "metadata": {},
   "outputs": [],
   "source": [
    "df=pd.read_excel(\"CP_전처리 작업.xlsx\",sheet_name=1,dtype = {'GMFCS_Level': str,'생리학적분류': str,'해부학적분류': str})\n",
    "df=df.fillna(\"\")"
   ]
  },
  {
   "cell_type": "code",
   "execution_count": 178,
   "id": "0c61cd34-5361-4a49-880a-3af2a52d2331",
   "metadata": {},
   "outputs": [
    {
     "data": {
      "text/plain": [
       "Index(['No', '성별', '등급', 'GMFCS_Level', '생리학적분류', '해부학적분류', '설문1', '휠체어 사용기간',\n",
       "       '설문1연도', '설문1_1', '설문2', '자세보조용구 사용기간', '설문2연도', '설문2_1', '사용중인 보조기기',\n",
       "       '휠체어', '전동휠체어', '유모차형 휠체어', '이너', '워커', '발 보조기', '스탠더', '피더시트', '카시트',\n",
       "       '다리 보조기', '목욕의자', '신발보조기', '기타'],\n",
       "      dtype='object')"
      ]
     },
     "execution_count": 178,
     "metadata": {},
     "output_type": "execute_result"
    }
   ],
   "source": [
    "df.columns"
   ]
  },
  {
   "cell_type": "code",
   "execution_count": 179,
   "id": "3576fbf8-9e95-498f-9e9e-ebd6f857cbaf",
   "metadata": {},
   "outputs": [
    {
     "data": {
      "text/html": [
       "<div>\n",
       "<style scoped>\n",
       "    .dataframe tbody tr th:only-of-type {\n",
       "        vertical-align: middle;\n",
       "    }\n",
       "\n",
       "    .dataframe tbody tr th {\n",
       "        vertical-align: top;\n",
       "    }\n",
       "\n",
       "    .dataframe thead th {\n",
       "        text-align: right;\n",
       "    }\n",
       "</style>\n",
       "<table border=\"1\" class=\"dataframe\">\n",
       "  <thead>\n",
       "    <tr style=\"text-align: right;\">\n",
       "      <th></th>\n",
       "      <th>No</th>\n",
       "      <th>성별</th>\n",
       "      <th>등급</th>\n",
       "      <th>GMFCS_Level</th>\n",
       "      <th>생리학적분류</th>\n",
       "      <th>해부학적분류</th>\n",
       "      <th>설문1</th>\n",
       "      <th>휠체어 사용기간</th>\n",
       "      <th>설문1연도</th>\n",
       "      <th>설문1_1</th>\n",
       "      <th>...</th>\n",
       "      <th>이너</th>\n",
       "      <th>워커</th>\n",
       "      <th>발 보조기</th>\n",
       "      <th>스탠더</th>\n",
       "      <th>피더시트</th>\n",
       "      <th>카시트</th>\n",
       "      <th>다리 보조기</th>\n",
       "      <th>목욕의자</th>\n",
       "      <th>신발보조기</th>\n",
       "      <th>기타</th>\n",
       "    </tr>\n",
       "  </thead>\n",
       "  <tbody>\n",
       "    <tr>\n",
       "      <th>0</th>\n",
       "      <td>1</td>\n",
       "      <td>M</td>\n",
       "      <td>1</td>\n",
       "      <td>4</td>\n",
       "      <td>1</td>\n",
       "      <td>2</td>\n",
       "      <td>1</td>\n",
       "      <td>8</td>\n",
       "      <td>2008.0</td>\n",
       "      <td>3.0</td>\n",
       "      <td>...</td>\n",
       "      <td></td>\n",
       "      <td></td>\n",
       "      <td></td>\n",
       "      <td></td>\n",
       "      <td></td>\n",
       "      <td></td>\n",
       "      <td></td>\n",
       "      <td></td>\n",
       "      <td></td>\n",
       "      <td></td>\n",
       "    </tr>\n",
       "    <tr>\n",
       "      <th>1</th>\n",
       "      <td>2</td>\n",
       "      <td>M</td>\n",
       "      <td>1</td>\n",
       "      <td>3</td>\n",
       "      <td>4</td>\n",
       "      <td>3</td>\n",
       "      <td>1</td>\n",
       "      <td>6</td>\n",
       "      <td>2010.0</td>\n",
       "      <td>3.0</td>\n",
       "      <td>...</td>\n",
       "      <td></td>\n",
       "      <td>워커</td>\n",
       "      <td></td>\n",
       "      <td></td>\n",
       "      <td></td>\n",
       "      <td></td>\n",
       "      <td></td>\n",
       "      <td></td>\n",
       "      <td></td>\n",
       "      <td></td>\n",
       "    </tr>\n",
       "    <tr>\n",
       "      <th>2</th>\n",
       "      <td>3</td>\n",
       "      <td>F</td>\n",
       "      <td>1</td>\n",
       "      <td>5</td>\n",
       "      <td>1</td>\n",
       "      <td>3</td>\n",
       "      <td>1</td>\n",
       "      <td>8</td>\n",
       "      <td>2008.0</td>\n",
       "      <td>3.0</td>\n",
       "      <td>...</td>\n",
       "      <td>이너</td>\n",
       "      <td>워커</td>\n",
       "      <td>발 보조기(발목)</td>\n",
       "      <td>스탠더</td>\n",
       "      <td></td>\n",
       "      <td></td>\n",
       "      <td></td>\n",
       "      <td></td>\n",
       "      <td></td>\n",
       "      <td>휠체어 의자</td>\n",
       "    </tr>\n",
       "    <tr>\n",
       "      <th>3</th>\n",
       "      <td>4</td>\n",
       "      <td>F</td>\n",
       "      <td>1</td>\n",
       "      <td>5</td>\n",
       "      <td>1</td>\n",
       "      <td>3</td>\n",
       "      <td>1</td>\n",
       "      <td>6</td>\n",
       "      <td>2010.0</td>\n",
       "      <td>3.0</td>\n",
       "      <td>...</td>\n",
       "      <td>이너</td>\n",
       "      <td></td>\n",
       "      <td>발 보조기(발목)</td>\n",
       "      <td></td>\n",
       "      <td></td>\n",
       "      <td></td>\n",
       "      <td></td>\n",
       "      <td></td>\n",
       "      <td></td>\n",
       "      <td></td>\n",
       "    </tr>\n",
       "    <tr>\n",
       "      <th>4</th>\n",
       "      <td>5</td>\n",
       "      <td>F</td>\n",
       "      <td>1</td>\n",
       "      <td>5</td>\n",
       "      <td>4</td>\n",
       "      <td>3</td>\n",
       "      <td>1</td>\n",
       "      <td>17</td>\n",
       "      <td>1999.0</td>\n",
       "      <td>3.0</td>\n",
       "      <td>...</td>\n",
       "      <td></td>\n",
       "      <td></td>\n",
       "      <td>발 보조기(발목)</td>\n",
       "      <td></td>\n",
       "      <td></td>\n",
       "      <td></td>\n",
       "      <td></td>\n",
       "      <td></td>\n",
       "      <td>신발보조기(정형구두)</td>\n",
       "      <td>척추 보조기</td>\n",
       "    </tr>\n",
       "    <tr>\n",
       "      <th>...</th>\n",
       "      <td>...</td>\n",
       "      <td>...</td>\n",
       "      <td>...</td>\n",
       "      <td>...</td>\n",
       "      <td>...</td>\n",
       "      <td>...</td>\n",
       "      <td>...</td>\n",
       "      <td>...</td>\n",
       "      <td>...</td>\n",
       "      <td>...</td>\n",
       "      <td>...</td>\n",
       "      <td>...</td>\n",
       "      <td>...</td>\n",
       "      <td>...</td>\n",
       "      <td>...</td>\n",
       "      <td>...</td>\n",
       "      <td>...</td>\n",
       "      <td>...</td>\n",
       "      <td>...</td>\n",
       "      <td>...</td>\n",
       "      <td>...</td>\n",
       "    </tr>\n",
       "    <tr>\n",
       "      <th>149</th>\n",
       "      <td>151</td>\n",
       "      <td>F</td>\n",
       "      <td>2</td>\n",
       "      <td>4</td>\n",
       "      <td>1</td>\n",
       "      <td>3</td>\n",
       "      <td>1</td>\n",
       "      <td>10</td>\n",
       "      <td>2006.0</td>\n",
       "      <td>3.0</td>\n",
       "      <td>...</td>\n",
       "      <td></td>\n",
       "      <td>워커</td>\n",
       "      <td></td>\n",
       "      <td></td>\n",
       "      <td></td>\n",
       "      <td></td>\n",
       "      <td></td>\n",
       "      <td></td>\n",
       "      <td></td>\n",
       "      <td></td>\n",
       "    </tr>\n",
       "    <tr>\n",
       "      <th>150</th>\n",
       "      <td>152</td>\n",
       "      <td>F</td>\n",
       "      <td>1</td>\n",
       "      <td>4</td>\n",
       "      <td>1</td>\n",
       "      <td>3</td>\n",
       "      <td>1</td>\n",
       "      <td>13</td>\n",
       "      <td>2003.0</td>\n",
       "      <td>3.0</td>\n",
       "      <td>...</td>\n",
       "      <td></td>\n",
       "      <td></td>\n",
       "      <td></td>\n",
       "      <td></td>\n",
       "      <td></td>\n",
       "      <td></td>\n",
       "      <td></td>\n",
       "      <td></td>\n",
       "      <td></td>\n",
       "      <td></td>\n",
       "    </tr>\n",
       "    <tr>\n",
       "      <th>151</th>\n",
       "      <td>153</td>\n",
       "      <td>F</td>\n",
       "      <td>1</td>\n",
       "      <td>4</td>\n",
       "      <td>2</td>\n",
       "      <td>3</td>\n",
       "      <td>1</td>\n",
       "      <td>11</td>\n",
       "      <td>2005.0</td>\n",
       "      <td>4.0</td>\n",
       "      <td>...</td>\n",
       "      <td></td>\n",
       "      <td></td>\n",
       "      <td>발 보조기(단하지)</td>\n",
       "      <td></td>\n",
       "      <td></td>\n",
       "      <td></td>\n",
       "      <td></td>\n",
       "      <td></td>\n",
       "      <td></td>\n",
       "      <td>목발, 전동스쿠터</td>\n",
       "    </tr>\n",
       "    <tr>\n",
       "      <th>152</th>\n",
       "      <td>154</td>\n",
       "      <td>M</td>\n",
       "      <td>1</td>\n",
       "      <td>5</td>\n",
       "      <td>4</td>\n",
       "      <td>3</td>\n",
       "      <td>1</td>\n",
       "      <td>4</td>\n",
       "      <td>2012.0</td>\n",
       "      <td>3.0</td>\n",
       "      <td>...</td>\n",
       "      <td></td>\n",
       "      <td></td>\n",
       "      <td></td>\n",
       "      <td></td>\n",
       "      <td></td>\n",
       "      <td></td>\n",
       "      <td></td>\n",
       "      <td></td>\n",
       "      <td>신발보조기</td>\n",
       "      <td>틸팅 휠체어</td>\n",
       "    </tr>\n",
       "    <tr>\n",
       "      <th>153</th>\n",
       "      <td>155</td>\n",
       "      <td>F</td>\n",
       "      <td>3</td>\n",
       "      <td>2</td>\n",
       "      <td>1</td>\n",
       "      <td>3</td>\n",
       "      <td>2</td>\n",
       "      <td>2016</td>\n",
       "      <td></td>\n",
       "      <td></td>\n",
       "      <td>...</td>\n",
       "      <td></td>\n",
       "      <td></td>\n",
       "      <td></td>\n",
       "      <td></td>\n",
       "      <td></td>\n",
       "      <td></td>\n",
       "      <td></td>\n",
       "      <td></td>\n",
       "      <td></td>\n",
       "      <td></td>\n",
       "    </tr>\n",
       "  </tbody>\n",
       "</table>\n",
       "<p>154 rows × 28 columns</p>\n",
       "</div>"
      ],
      "text/plain": [
       "      No 성별  등급 GMFCS_Level 생리학적분류 해부학적분류  설문1  휠체어 사용기간   설문1연도 설문1_1  ...  \\\n",
       "0      1  M   1           4      1      2    1         8  2008.0   3.0  ...   \n",
       "1      2  M   1           3      4      3    1         6  2010.0   3.0  ...   \n",
       "2      3  F   1           5      1      3    1         8  2008.0   3.0  ...   \n",
       "3      4  F   1           5      1      3    1         6  2010.0   3.0  ...   \n",
       "4      5  F   1           5      4      3    1        17  1999.0   3.0  ...   \n",
       "..   ... ..  ..         ...    ...    ...  ...       ...     ...   ...  ...   \n",
       "149  151  F   2           4      1      3    1        10  2006.0   3.0  ...   \n",
       "150  152  F   1           4      1      3    1        13  2003.0   3.0  ...   \n",
       "151  153  F   1           4      2      3    1        11  2005.0   4.0  ...   \n",
       "152  154  M   1           5      4      3    1         4  2012.0   3.0  ...   \n",
       "153  155  F   3           2      1      3    2      2016                ...   \n",
       "\n",
       "     이너  워커       발 보조기  스탠더 피더시트 카시트 다리 보조기 목욕의자        신발보조기         기타  \n",
       "0                                                                          \n",
       "1        워커                                                                \n",
       "2    이너  워커   발 보조기(발목)  스탠더                                       휠체어 의자  \n",
       "3    이너       발 보조기(발목)                                                    \n",
       "4             발 보조기(발목)                            신발보조기(정형구두)     척추 보조기  \n",
       "..   ..  ..         ...  ...  ...  ..    ...  ...          ...        ...  \n",
       "149      워커                                                                \n",
       "150                                                                        \n",
       "151          발 보조기(단하지)                                         목발, 전동스쿠터  \n",
       "152                                                      신발보조기     틸팅 휠체어  \n",
       "153                                                                        \n",
       "\n",
       "[154 rows x 28 columns]"
      ]
     },
     "execution_count": 179,
     "metadata": {},
     "output_type": "execute_result"
    }
   ],
   "source": [
    "df"
   ]
  },
  {
   "cell_type": "code",
   "execution_count": 180,
   "id": "ee437175-6934-41e6-9134-2e9979e5fcd9",
   "metadata": {},
   "outputs": [
    {
     "data": {
      "text/plain": [
       "38"
      ]
     },
     "execution_count": 180,
     "metadata": {},
     "output_type": "execute_result"
    }
   ],
   "source": [
    "len(df[df['휠체어 사용기간']==2016])  #9건\n",
    "len(df[df['자세보조용구 사용기간']==2016]) #38건"
   ]
  },
  {
   "cell_type": "code",
   "execution_count": 181,
   "id": "bb5f5cc2-152c-4466-9fc4-58799b5bcac1",
   "metadata": {},
   "outputs": [],
   "source": [
    "df=df[df['휠체어 사용기간']!=2016]\n",
    "df=df[df['자세보조용구 사용기간']!=2016]"
   ]
  },
  {
   "cell_type": "code",
   "execution_count": 182,
   "id": "33b10090-eb4b-4da5-8c05-9b24f344c272",
   "metadata": {
    "tags": []
   },
   "outputs": [
    {
     "data": {
      "application/vnd.plotly.v1+json": {
       "config": {
        "plotlyServerURL": "https://plot.ly"
       },
       "data": [
        {
         "hovertemplate": "GMFCS_Level=3<br>휠체어 사용기간=%{x}<br>자세보조용구 사용기간=%{y}<extra></extra>",
         "legendgroup": "3",
         "marker": {
          "color": "#636efa",
          "symbol": "circle"
         },
         "mode": "markers",
         "name": "3",
         "orientation": "v",
         "showlegend": true,
         "type": "scatter",
         "x": [
          3,
          6,
          2,
          5,
          15,
          4,
          4,
          0,
          16,
          1
         ],
         "xaxis": "x",
         "y": [
          1,
          6,
          7,
          2,
          12,
          2,
          4,
          0,
          16,
          2
         ],
         "yaxis": "y"
        },
        {
         "hovertemplate": "<b>OLS trendline</b><br>자세보조용구 사용기간 = 0.852041 * 휠체어 사용기간 + 0.428571<br>R<sup>2</sup>=0.817763<br><br>GMFCS_Level=3<br>휠체어 사용기간=%{x}<br>자세보조용구 사용기간=%{y} <b>(trend)</b><extra></extra>",
         "legendgroup": "3",
         "line": {
          "dash": "dot",
          "width": 4
         },
         "marker": {
          "color": "#636efa",
          "symbol": "circle"
         },
         "mode": "lines",
         "name": "3",
         "showlegend": false,
         "type": "scatter",
         "x": [
          0,
          1,
          2,
          3,
          4,
          4,
          5,
          6,
          15,
          16
         ],
         "xaxis": "x",
         "y": [
          0.42857142857142705,
          1.280612244897958,
          2.132653061224489,
          2.98469387755102,
          3.836734693877551,
          3.836734693877551,
          4.688775510204081,
          5.540816326530613,
          13.209183673469392,
          14.061224489795922
         ],
         "yaxis": "y"
        },
        {
         "hovertemplate": "GMFCS_Level=4<br>휠체어 사용기간=%{x}<br>자세보조용구 사용기간=%{y}<extra></extra>",
         "legendgroup": "4",
         "marker": {
          "color": "#EF553B",
          "symbol": "circle"
         },
         "mode": "markers",
         "name": "4",
         "orientation": "v",
         "showlegend": true,
         "type": "scatter",
         "x": [
          1,
          4,
          9,
          8,
          4,
          11,
          10,
          7,
          8
         ],
         "xaxis": "x2",
         "y": [
          1,
          4,
          8,
          8,
          1,
          8,
          10,
          7,
          12
         ],
         "yaxis": "y2"
        },
        {
         "hovertemplate": "<b>OLS trendline</b><br>자세보조용구 사용기간 = 0.984293 * 휠체어 사용기간 + -0.225131<br>R<sup>2</sup>=0.707637<br><br>GMFCS_Level=4<br>휠체어 사용기간=%{x}<br>자세보조용구 사용기간=%{y} <b>(trend)</b><extra></extra>",
         "legendgroup": "4",
         "line": {
          "dash": "dot",
          "width": 4
         },
         "marker": {
          "color": "#EF553B",
          "symbol": "circle"
         },
         "mode": "lines",
         "name": "4",
         "showlegend": false,
         "type": "scatter",
         "x": [
          1,
          4,
          4,
          7,
          8,
          8,
          9,
          10,
          11
         ],
         "xaxis": "x2",
         "y": [
          0.7591623036649211,
          3.7120418848167542,
          3.7120418848167542,
          6.664921465968587,
          7.649214659685865,
          7.649214659685865,
          8.633507853403142,
          9.61780104712042,
          10.602094240837697
         ],
         "yaxis": "y2"
        },
        {
         "hovertemplate": "GMFCS_Level=5<br>휠체어 사용기간=%{x}<br>자세보조용구 사용기간=%{y}<extra></extra>",
         "legendgroup": "5",
         "marker": {
          "color": "#00cc96",
          "symbol": "circle"
         },
         "mode": "markers",
         "name": "5",
         "orientation": "v",
         "showlegend": true,
         "type": "scatter",
         "x": [
          5,
          5,
          6,
          8,
          6,
          7,
          20,
          10,
          15,
          17,
          2,
          28,
          10,
          18,
          3,
          9,
          2,
          3,
          2,
          18,
          6,
          3,
          0,
          7,
          0,
          14,
          20,
          1,
          12,
          7,
          15,
          7,
          5,
          10,
          6,
          4,
          1,
          12,
          6,
          4,
          19,
          1,
          10,
          7,
          18,
          9,
          19,
          6,
          11,
          7,
          16,
          18,
          4,
          13,
          3,
          11,
          16,
          16,
          0,
          5,
          16,
          4,
          17,
          6,
          8,
          8,
          9,
          7,
          9,
          11,
          28,
          4,
          17,
          7,
          8,
          8,
          8,
          7,
          12,
          3,
          2,
          11,
          1,
          6,
          13,
          8,
          14,
          9,
          11,
          6,
          13,
          7,
          4
         ],
         "xaxis": "x3",
         "y": [
          5,
          3,
          6,
          8,
          6,
          7,
          12,
          10,
          15,
          11,
          2,
          27,
          9,
          11,
          3,
          9,
          2,
          3,
          1,
          6,
          5,
          4,
          1,
          3,
          3,
          14,
          10,
          2,
          11,
          7,
          15,
          9,
          3,
          10,
          4,
          0,
          4,
          8,
          6,
          5,
          14,
          3,
          8,
          7,
          18,
          9,
          14,
          5,
          9,
          7,
          16,
          16,
          2,
          15,
          5,
          11,
          16,
          7,
          0,
          3,
          15,
          4,
          14,
          7,
          8,
          3,
          9,
          6,
          10,
          9,
          2,
          4,
          19,
          7,
          11,
          8,
          8,
          3,
          11,
          3,
          2,
          9,
          1,
          2,
          6,
          8,
          12,
          4,
          11,
          6,
          12,
          7,
          2
         ],
         "yaxis": "y3"
        },
        {
         "hovertemplate": "<b>OLS trendline</b><br>자세보조용구 사용기간 = 0.643796 * 휠체어 사용기간 + 1.76336<br>R<sup>2</sup>=0.610329<br><br>GMFCS_Level=5<br>휠체어 사용기간=%{x}<br>자세보조용구 사용기간=%{y} <b>(trend)</b><extra></extra>",
         "legendgroup": "5",
         "line": {
          "dash": "dot",
          "width": 4
         },
         "marker": {
          "color": "#00cc96",
          "symbol": "circle"
         },
         "mode": "lines",
         "name": "5",
         "showlegend": false,
         "type": "scatter",
         "x": [
          0,
          0,
          0,
          1,
          1,
          1,
          1,
          2,
          2,
          2,
          2,
          3,
          3,
          3,
          3,
          3,
          4,
          4,
          4,
          4,
          4,
          4,
          5,
          5,
          5,
          5,
          6,
          6,
          6,
          6,
          6,
          6,
          6,
          6,
          6,
          7,
          7,
          7,
          7,
          7,
          7,
          7,
          7,
          7,
          7,
          8,
          8,
          8,
          8,
          8,
          8,
          8,
          9,
          9,
          9,
          9,
          9,
          10,
          10,
          10,
          10,
          11,
          11,
          11,
          11,
          11,
          12,
          12,
          12,
          13,
          13,
          13,
          14,
          14,
          15,
          15,
          16,
          16,
          16,
          16,
          17,
          17,
          17,
          18,
          18,
          18,
          18,
          19,
          19,
          20,
          20,
          28,
          28
         ],
         "xaxis": "x3",
         "y": [
          1.7633592740914774,
          1.7633592740914774,
          1.7633592740914774,
          2.4071552356411727,
          2.4071552356411727,
          2.4071552356411727,
          2.4071552356411727,
          3.0509511971908676,
          3.0509511971908676,
          3.0509511971908676,
          3.0509511971908676,
          3.694747158740563,
          3.694747158740563,
          3.694747158740563,
          3.694747158740563,
          3.694747158740563,
          4.338543120290258,
          4.338543120290258,
          4.338543120290258,
          4.338543120290258,
          4.338543120290258,
          4.338543120290258,
          4.982339081839953,
          4.982339081839953,
          4.982339081839953,
          4.982339081839953,
          5.626135043389649,
          5.626135043389649,
          5.626135043389649,
          5.626135043389649,
          5.626135043389649,
          5.626135043389649,
          5.626135043389649,
          5.626135043389649,
          5.626135043389649,
          6.269931004939345,
          6.269931004939345,
          6.269931004939345,
          6.269931004939345,
          6.269931004939345,
          6.269931004939345,
          6.269931004939345,
          6.269931004939345,
          6.269931004939345,
          6.269931004939345,
          6.913726966489039,
          6.913726966489039,
          6.913726966489039,
          6.913726966489039,
          6.913726966489039,
          6.913726966489039,
          6.913726966489039,
          7.557522928038734,
          7.557522928038734,
          7.557522928038734,
          7.557522928038734,
          7.557522928038734,
          8.20131888958843,
          8.20131888958843,
          8.20131888958843,
          8.20131888958843,
          8.845114851138124,
          8.845114851138124,
          8.845114851138124,
          8.845114851138124,
          8.845114851138124,
          9.48891081268782,
          9.48891081268782,
          9.48891081268782,
          10.132706774237516,
          10.132706774237516,
          10.132706774237516,
          10.776502735787211,
          10.776502735787211,
          11.420298697336905,
          11.420298697336905,
          12.064094658886601,
          12.064094658886601,
          12.064094658886601,
          12.064094658886601,
          12.707890620436297,
          12.707890620436297,
          12.707890620436297,
          13.351686581985991,
          13.351686581985991,
          13.351686581985991,
          13.351686581985991,
          13.995482543535687,
          13.995482543535687,
          14.639278505085382,
          14.639278505085382,
          19.789646197482945,
          19.789646197482945
         ],
         "yaxis": "y3"
        }
       ],
       "layout": {
        "annotations": [
         {
          "font": {},
          "showarrow": false,
          "text": "GMFCS_Level=3",
          "x": 0.15999999999999998,
          "xanchor": "center",
          "xref": "paper",
          "y": 1,
          "yanchor": "bottom",
          "yref": "paper"
         },
         {
          "font": {},
          "showarrow": false,
          "text": "GMFCS_Level=4",
          "x": 0.49999999999999994,
          "xanchor": "center",
          "xref": "paper",
          "y": 1,
          "yanchor": "bottom",
          "yref": "paper"
         },
         {
          "font": {},
          "showarrow": false,
          "text": "GMFCS_Level=5",
          "x": 0.8399999999999999,
          "xanchor": "center",
          "xref": "paper",
          "y": 1,
          "yanchor": "bottom",
          "yref": "paper"
         }
        ],
        "autosize": true,
        "legend": {
         "title": {
          "text": "GMFCS_Level"
         },
         "tracegroupgap": 0
        },
        "template": {
         "data": {
          "bar": [
           {
            "error_x": {
             "color": "#2a3f5f"
            },
            "error_y": {
             "color": "#2a3f5f"
            },
            "marker": {
             "line": {
              "color": "#E5ECF6",
              "width": 0.5
             },
             "pattern": {
              "fillmode": "overlay",
              "size": 10,
              "solidity": 0.2
             }
            },
            "type": "bar"
           }
          ],
          "barpolar": [
           {
            "marker": {
             "line": {
              "color": "#E5ECF6",
              "width": 0.5
             },
             "pattern": {
              "fillmode": "overlay",
              "size": 10,
              "solidity": 0.2
             }
            },
            "type": "barpolar"
           }
          ],
          "carpet": [
           {
            "aaxis": {
             "endlinecolor": "#2a3f5f",
             "gridcolor": "white",
             "linecolor": "white",
             "minorgridcolor": "white",
             "startlinecolor": "#2a3f5f"
            },
            "baxis": {
             "endlinecolor": "#2a3f5f",
             "gridcolor": "white",
             "linecolor": "white",
             "minorgridcolor": "white",
             "startlinecolor": "#2a3f5f"
            },
            "type": "carpet"
           }
          ],
          "choropleth": [
           {
            "colorbar": {
             "outlinewidth": 0,
             "ticks": ""
            },
            "type": "choropleth"
           }
          ],
          "contour": [
           {
            "colorbar": {
             "outlinewidth": 0,
             "ticks": ""
            },
            "colorscale": [
             [
              0,
              "#0d0887"
             ],
             [
              0.1111111111111111,
              "#46039f"
             ],
             [
              0.2222222222222222,
              "#7201a8"
             ],
             [
              0.3333333333333333,
              "#9c179e"
             ],
             [
              0.4444444444444444,
              "#bd3786"
             ],
             [
              0.5555555555555556,
              "#d8576b"
             ],
             [
              0.6666666666666666,
              "#ed7953"
             ],
             [
              0.7777777777777778,
              "#fb9f3a"
             ],
             [
              0.8888888888888888,
              "#fdca26"
             ],
             [
              1,
              "#f0f921"
             ]
            ],
            "type": "contour"
           }
          ],
          "contourcarpet": [
           {
            "colorbar": {
             "outlinewidth": 0,
             "ticks": ""
            },
            "type": "contourcarpet"
           }
          ],
          "heatmap": [
           {
            "colorbar": {
             "outlinewidth": 0,
             "ticks": ""
            },
            "colorscale": [
             [
              0,
              "#0d0887"
             ],
             [
              0.1111111111111111,
              "#46039f"
             ],
             [
              0.2222222222222222,
              "#7201a8"
             ],
             [
              0.3333333333333333,
              "#9c179e"
             ],
             [
              0.4444444444444444,
              "#bd3786"
             ],
             [
              0.5555555555555556,
              "#d8576b"
             ],
             [
              0.6666666666666666,
              "#ed7953"
             ],
             [
              0.7777777777777778,
              "#fb9f3a"
             ],
             [
              0.8888888888888888,
              "#fdca26"
             ],
             [
              1,
              "#f0f921"
             ]
            ],
            "type": "heatmap"
           }
          ],
          "heatmapgl": [
           {
            "colorbar": {
             "outlinewidth": 0,
             "ticks": ""
            },
            "colorscale": [
             [
              0,
              "#0d0887"
             ],
             [
              0.1111111111111111,
              "#46039f"
             ],
             [
              0.2222222222222222,
              "#7201a8"
             ],
             [
              0.3333333333333333,
              "#9c179e"
             ],
             [
              0.4444444444444444,
              "#bd3786"
             ],
             [
              0.5555555555555556,
              "#d8576b"
             ],
             [
              0.6666666666666666,
              "#ed7953"
             ],
             [
              0.7777777777777778,
              "#fb9f3a"
             ],
             [
              0.8888888888888888,
              "#fdca26"
             ],
             [
              1,
              "#f0f921"
             ]
            ],
            "type": "heatmapgl"
           }
          ],
          "histogram": [
           {
            "marker": {
             "pattern": {
              "fillmode": "overlay",
              "size": 10,
              "solidity": 0.2
             }
            },
            "type": "histogram"
           }
          ],
          "histogram2d": [
           {
            "colorbar": {
             "outlinewidth": 0,
             "ticks": ""
            },
            "colorscale": [
             [
              0,
              "#0d0887"
             ],
             [
              0.1111111111111111,
              "#46039f"
             ],
             [
              0.2222222222222222,
              "#7201a8"
             ],
             [
              0.3333333333333333,
              "#9c179e"
             ],
             [
              0.4444444444444444,
              "#bd3786"
             ],
             [
              0.5555555555555556,
              "#d8576b"
             ],
             [
              0.6666666666666666,
              "#ed7953"
             ],
             [
              0.7777777777777778,
              "#fb9f3a"
             ],
             [
              0.8888888888888888,
              "#fdca26"
             ],
             [
              1,
              "#f0f921"
             ]
            ],
            "type": "histogram2d"
           }
          ],
          "histogram2dcontour": [
           {
            "colorbar": {
             "outlinewidth": 0,
             "ticks": ""
            },
            "colorscale": [
             [
              0,
              "#0d0887"
             ],
             [
              0.1111111111111111,
              "#46039f"
             ],
             [
              0.2222222222222222,
              "#7201a8"
             ],
             [
              0.3333333333333333,
              "#9c179e"
             ],
             [
              0.4444444444444444,
              "#bd3786"
             ],
             [
              0.5555555555555556,
              "#d8576b"
             ],
             [
              0.6666666666666666,
              "#ed7953"
             ],
             [
              0.7777777777777778,
              "#fb9f3a"
             ],
             [
              0.8888888888888888,
              "#fdca26"
             ],
             [
              1,
              "#f0f921"
             ]
            ],
            "type": "histogram2dcontour"
           }
          ],
          "mesh3d": [
           {
            "colorbar": {
             "outlinewidth": 0,
             "ticks": ""
            },
            "type": "mesh3d"
           }
          ],
          "parcoords": [
           {
            "line": {
             "colorbar": {
              "outlinewidth": 0,
              "ticks": ""
             }
            },
            "type": "parcoords"
           }
          ],
          "pie": [
           {
            "automargin": true,
            "type": "pie"
           }
          ],
          "scatter": [
           {
            "marker": {
             "colorbar": {
              "outlinewidth": 0,
              "ticks": ""
             }
            },
            "type": "scatter"
           }
          ],
          "scatter3d": [
           {
            "line": {
             "colorbar": {
              "outlinewidth": 0,
              "ticks": ""
             }
            },
            "marker": {
             "colorbar": {
              "outlinewidth": 0,
              "ticks": ""
             }
            },
            "type": "scatter3d"
           }
          ],
          "scattercarpet": [
           {
            "marker": {
             "colorbar": {
              "outlinewidth": 0,
              "ticks": ""
             }
            },
            "type": "scattercarpet"
           }
          ],
          "scattergeo": [
           {
            "marker": {
             "colorbar": {
              "outlinewidth": 0,
              "ticks": ""
             }
            },
            "type": "scattergeo"
           }
          ],
          "scattergl": [
           {
            "marker": {
             "colorbar": {
              "outlinewidth": 0,
              "ticks": ""
             }
            },
            "type": "scattergl"
           }
          ],
          "scattermapbox": [
           {
            "marker": {
             "colorbar": {
              "outlinewidth": 0,
              "ticks": ""
             }
            },
            "type": "scattermapbox"
           }
          ],
          "scatterpolar": [
           {
            "marker": {
             "colorbar": {
              "outlinewidth": 0,
              "ticks": ""
             }
            },
            "type": "scatterpolar"
           }
          ],
          "scatterpolargl": [
           {
            "marker": {
             "colorbar": {
              "outlinewidth": 0,
              "ticks": ""
             }
            },
            "type": "scatterpolargl"
           }
          ],
          "scatterternary": [
           {
            "marker": {
             "colorbar": {
              "outlinewidth": 0,
              "ticks": ""
             }
            },
            "type": "scatterternary"
           }
          ],
          "surface": [
           {
            "colorbar": {
             "outlinewidth": 0,
             "ticks": ""
            },
            "colorscale": [
             [
              0,
              "#0d0887"
             ],
             [
              0.1111111111111111,
              "#46039f"
             ],
             [
              0.2222222222222222,
              "#7201a8"
             ],
             [
              0.3333333333333333,
              "#9c179e"
             ],
             [
              0.4444444444444444,
              "#bd3786"
             ],
             [
              0.5555555555555556,
              "#d8576b"
             ],
             [
              0.6666666666666666,
              "#ed7953"
             ],
             [
              0.7777777777777778,
              "#fb9f3a"
             ],
             [
              0.8888888888888888,
              "#fdca26"
             ],
             [
              1,
              "#f0f921"
             ]
            ],
            "type": "surface"
           }
          ],
          "table": [
           {
            "cells": {
             "fill": {
              "color": "#EBF0F8"
             },
             "line": {
              "color": "white"
             }
            },
            "header": {
             "fill": {
              "color": "#C8D4E3"
             },
             "line": {
              "color": "white"
             }
            },
            "type": "table"
           }
          ]
         },
         "layout": {
          "annotationdefaults": {
           "arrowcolor": "#2a3f5f",
           "arrowhead": 0,
           "arrowwidth": 1
          },
          "autotypenumbers": "strict",
          "coloraxis": {
           "colorbar": {
            "outlinewidth": 0,
            "ticks": ""
           }
          },
          "colorscale": {
           "diverging": [
            [
             0,
             "#8e0152"
            ],
            [
             0.1,
             "#c51b7d"
            ],
            [
             0.2,
             "#de77ae"
            ],
            [
             0.3,
             "#f1b6da"
            ],
            [
             0.4,
             "#fde0ef"
            ],
            [
             0.5,
             "#f7f7f7"
            ],
            [
             0.6,
             "#e6f5d0"
            ],
            [
             0.7,
             "#b8e186"
            ],
            [
             0.8,
             "#7fbc41"
            ],
            [
             0.9,
             "#4d9221"
            ],
            [
             1,
             "#276419"
            ]
           ],
           "sequential": [
            [
             0,
             "#0d0887"
            ],
            [
             0.1111111111111111,
             "#46039f"
            ],
            [
             0.2222222222222222,
             "#7201a8"
            ],
            [
             0.3333333333333333,
             "#9c179e"
            ],
            [
             0.4444444444444444,
             "#bd3786"
            ],
            [
             0.5555555555555556,
             "#d8576b"
            ],
            [
             0.6666666666666666,
             "#ed7953"
            ],
            [
             0.7777777777777778,
             "#fb9f3a"
            ],
            [
             0.8888888888888888,
             "#fdca26"
            ],
            [
             1,
             "#f0f921"
            ]
           ],
           "sequentialminus": [
            [
             0,
             "#0d0887"
            ],
            [
             0.1111111111111111,
             "#46039f"
            ],
            [
             0.2222222222222222,
             "#7201a8"
            ],
            [
             0.3333333333333333,
             "#9c179e"
            ],
            [
             0.4444444444444444,
             "#bd3786"
            ],
            [
             0.5555555555555556,
             "#d8576b"
            ],
            [
             0.6666666666666666,
             "#ed7953"
            ],
            [
             0.7777777777777778,
             "#fb9f3a"
            ],
            [
             0.8888888888888888,
             "#fdca26"
            ],
            [
             1,
             "#f0f921"
            ]
           ]
          },
          "colorway": [
           "#636efa",
           "#EF553B",
           "#00cc96",
           "#ab63fa",
           "#FFA15A",
           "#19d3f3",
           "#FF6692",
           "#B6E880",
           "#FF97FF",
           "#FECB52"
          ],
          "font": {
           "color": "#2a3f5f"
          },
          "geo": {
           "bgcolor": "white",
           "lakecolor": "white",
           "landcolor": "#E5ECF6",
           "showlakes": true,
           "showland": true,
           "subunitcolor": "white"
          },
          "hoverlabel": {
           "align": "left"
          },
          "hovermode": "closest",
          "mapbox": {
           "style": "light"
          },
          "paper_bgcolor": "white",
          "plot_bgcolor": "#E5ECF6",
          "polar": {
           "angularaxis": {
            "gridcolor": "white",
            "linecolor": "white",
            "ticks": ""
           },
           "bgcolor": "#E5ECF6",
           "radialaxis": {
            "gridcolor": "white",
            "linecolor": "white",
            "ticks": ""
           }
          },
          "scene": {
           "xaxis": {
            "backgroundcolor": "#E5ECF6",
            "gridcolor": "white",
            "gridwidth": 2,
            "linecolor": "white",
            "showbackground": true,
            "ticks": "",
            "zerolinecolor": "white"
           },
           "yaxis": {
            "backgroundcolor": "#E5ECF6",
            "gridcolor": "white",
            "gridwidth": 2,
            "linecolor": "white",
            "showbackground": true,
            "ticks": "",
            "zerolinecolor": "white"
           },
           "zaxis": {
            "backgroundcolor": "#E5ECF6",
            "gridcolor": "white",
            "gridwidth": 2,
            "linecolor": "white",
            "showbackground": true,
            "ticks": "",
            "zerolinecolor": "white"
           }
          },
          "shapedefaults": {
           "line": {
            "color": "#2a3f5f"
           }
          },
          "ternary": {
           "aaxis": {
            "gridcolor": "white",
            "linecolor": "white",
            "ticks": ""
           },
           "baxis": {
            "gridcolor": "white",
            "linecolor": "white",
            "ticks": ""
           },
           "bgcolor": "#E5ECF6",
           "caxis": {
            "gridcolor": "white",
            "linecolor": "white",
            "ticks": ""
           }
          },
          "title": {
           "x": 0.05
          },
          "xaxis": {
           "automargin": true,
           "gridcolor": "white",
           "linecolor": "white",
           "ticks": "",
           "title": {
            "standoff": 15
           },
           "zerolinecolor": "white",
           "zerolinewidth": 2
          },
          "yaxis": {
           "automargin": true,
           "gridcolor": "white",
           "linecolor": "white",
           "ticks": "",
           "title": {
            "standoff": 15
           },
           "zerolinecolor": "white",
           "zerolinewidth": 2
          }
         }
        },
        "title": {
         "font": {
          "size": 24
         },
         "text": "GMFCS_Level별 자세보조용구와 휠체어 사용시간 상관관계",
         "x": 0.5
        },
        "xaxis": {
         "anchor": "y",
         "autorange": true,
         "domain": [
          0,
          0.31999999999999995
         ],
         "range": [
          -2.093556895947467,
          30.093556895947465
         ],
         "showgrid": false,
         "title": {
          "text": "휠체어 사용기간"
         },
         "type": "linear"
        },
        "xaxis2": {
         "anchor": "y2",
         "autorange": true,
         "domain": [
          0.33999999999999997,
          0.6599999999999999
         ],
         "matches": "x",
         "range": [
          -2.093556895947467,
          30.093556895947465
         ],
         "showgrid": false,
         "title": {
          "text": "휠체어 사용기간"
         },
         "type": "linear"
        },
        "xaxis3": {
         "anchor": "y3",
         "autorange": true,
         "domain": [
          0.6799999999999999,
          0.9999999999999999
         ],
         "matches": "x",
         "range": [
          -2.093556895947467,
          30.093556895947465
         ],
         "showgrid": false,
         "title": {
          "text": "휠체어 사용기간"
         },
         "type": "linear"
        },
        "yaxis": {
         "anchor": "x",
         "autorange": true,
         "domain": [
          0,
          1
         ],
         "range": [
          -2.2281553398058254,
          29.228155339805824
         ],
         "title": {
          "text": "자세보조용구 사용기간"
         },
         "type": "linear"
        },
        "yaxis2": {
         "anchor": "x2",
         "autorange": true,
         "domain": [
          0,
          1
         ],
         "matches": "y",
         "range": [
          -2.2281553398058254,
          29.228155339805824
         ],
         "showticklabels": false,
         "type": "linear"
        },
        "yaxis3": {
         "anchor": "x3",
         "autorange": true,
         "domain": [
          0,
          1
         ],
         "matches": "y",
         "range": [
          -2.2281553398058254,
          29.228155339805824
         ],
         "showticklabels": false,
         "type": "linear"
        }
       }
      },
      "image/png": "[encoded data removed]",
      "text/html": [
       "<div>                            <div id=\"a9b3c6c2-a27e-4567-bcd9-e51f5004f227\" class=\"plotly-graph-div\" style=\"height:525px; width:100%;\"></div>            <script type=\"text/javascript\">                require([\"plotly\"], function(Plotly) {                    window.PLOTLYENV=window.PLOTLYENV || {};                                    if (document.getElementById(\"a9b3c6c2-a27e-4567-bcd9-e51f5004f227\")) {                    Plotly.newPlot(                        \"a9b3c6c2-a27e-4567-bcd9-e51f5004f227\",                        [{\"hovertemplate\":\"GMFCS_Level=3<br>\\ud720\\uccb4\\uc5b4 \\uc0ac\\uc6a9\\uae30\\uac04=%{x}<br>\\uc790\\uc138\\ubcf4\\uc870\\uc6a9\\uad6c \\uc0ac\\uc6a9\\uae30\\uac04=%{y}<extra></extra>\",\"legendgroup\":\"3\",\"marker\":{\"color\":\"#636efa\",\"symbol\":\"circle\"},\"mode\":\"markers\",\"name\":\"3\",\"orientation\":\"v\",\"showlegend\":true,\"type\":\"scatter\",\"x\":[3,6,2,5,15,4,4,0,16,1],\"xaxis\":\"x\",\"y\":[1,6,7,2,12,2,4,0,16,2],\"yaxis\":\"y\"},{\"hovertemplate\":\"<b>OLS trendline</b><br>\\uc790\\uc138\\ubcf4\\uc870\\uc6a9\\uad6c \\uc0ac\\uc6a9\\uae30\\uac04 = 0.852041 * \\ud720\\uccb4\\uc5b4 \\uc0ac\\uc6a9\\uae30\\uac04 + 0.428571<br>R<sup>2</sup>=0.817763<br><br>GMFCS_Level=3<br>\\ud720\\uccb4\\uc5b4 \\uc0ac\\uc6a9\\uae30\\uac04=%{x}<br>\\uc790\\uc138\\ubcf4\\uc870\\uc6a9\\uad6c \\uc0ac\\uc6a9\\uae30\\uac04=%{y} <b>(trend)</b><extra></extra>\",\"legendgroup\":\"3\",\"line\":{\"dash\":\"dot\",\"width\":4},\"marker\":{\"color\":\"#636efa\",\"symbol\":\"circle\"},\"mode\":\"lines\",\"name\":\"3\",\"showlegend\":false,\"type\":\"scatter\",\"x\":[0,1,2,3,4,4,5,6,15,16],\"xaxis\":\"x\",\"y\":[0.42857142857142705,1.280612244897958,2.132653061224489,2.98469387755102,3.836734693877551,3.836734693877551,4.688775510204081,5.540816326530613,13.209183673469392,14.061224489795922],\"yaxis\":\"y\"},{\"hovertemplate\":\"GMFCS_Level=4<br>\\ud720\\uccb4\\uc5b4 \\uc0ac\\uc6a9\\uae30\\uac04=%{x}<br>\\uc790\\uc138\\ubcf4\\uc870\\uc6a9\\uad6c \\uc0ac\\uc6a9\\uae30\\uac04=%{y}<extra></extra>\",\"legendgroup\":\"4\",\"marker\":{\"color\":\"#EF553B\",\"symbol\":\"circle\"},\"mode\":\"markers\",\"name\":\"4\",\"orientation\":\"v\",\"showlegend\":true,\"type\":\"scatter\",\"x\":[1,4,9,8,4,11,10,7,8],\"xaxis\":\"x2\",\"y\":[1,4,8,8,1,8,10,7,12],\"yaxis\":\"y2\"},{\"hovertemplate\":\"<b>OLS trendline</b><br>\\uc790\\uc138\\ubcf4\\uc870\\uc6a9\\uad6c \\uc0ac\\uc6a9\\uae30\\uac04 = 0.984293 * \\ud720\\uccb4\\uc5b4 \\uc0ac\\uc6a9\\uae30\\uac04 + -0.225131<br>R<sup>2</sup>=0.707637<br><br>GMFCS_Level=4<br>\\ud720\\uccb4\\uc5b4 \\uc0ac\\uc6a9\\uae30\\uac04=%{x}<br>\\uc790\\uc138\\ubcf4\\uc870\\uc6a9\\uad6c \\uc0ac\\uc6a9\\uae30\\uac04=%{y} <b>(trend)</b><extra></extra>\",\"legendgroup\":\"4\",\"line\":{\"dash\":\"dot\",\"width\":4},\"marker\":{\"color\":\"#EF553B\",\"symbol\":\"circle\"},\"mode\":\"lines\",\"name\":\"4\",\"showlegend\":false,\"type\":\"scatter\",\"x\":[1,4,4,7,8,8,9,10,11],\"xaxis\":\"x2\",\"y\":[0.7591623036649211,3.7120418848167542,3.7120418848167542,6.664921465968587,7.649214659685865,7.649214659685865,8.633507853403142,9.61780104712042,10.602094240837697],\"yaxis\":\"y2\"},{\"hovertemplate\":\"GMFCS_Level=5<br>\\ud720\\uccb4\\uc5b4 \\uc0ac\\uc6a9\\uae30\\uac04=%{x}<br>\\uc790\\uc138\\ubcf4\\uc870\\uc6a9\\uad6c \\uc0ac\\uc6a9\\uae30\\uac04=%{y}<extra></extra>\",\"legendgroup\":\"5\",\"marker\":{\"color\":\"#00cc96\",\"symbol\":\"circle\"},\"mode\":\"markers\",\"name\":\"5\",\"orientation\":\"v\",\"showlegend\":true,\"type\":\"scatter\",\"x\":[5,5,6,8,6,7,20,10,15,17,2,28,10,18,3,9,2,3,2,18,6,3,0,7,0,14,20,1,12,7,15,7,5,10,6,4,1,12,6,4,19,1,10,7,18,9,19,6,11,7,16,18,4,13,3,11,16,16,0,5,16,4,17,6,8,8,9,7,9,11,28,4,17,7,8,8,8,7,12,3,2,11,1,6,13,8,14,9,11,6,13,7,4],\"xaxis\":\"x3\",\"y\":[5,3,6,8,6,7,12,10,15,11,2,27,9,11,3,9,2,3,1,6,5,4,1,3,3,14,10,2,11,7,15,9,3,10,4,0,4,8,6,5,14,3,8,7,18,9,14,5,9,7,16,16,2,15,5,11,16,7,0,3,15,4,14,7,8,3,9,6,10,9,2,4,19,7,11,8,8,3,11,3,2,9,1,2,6,8,12,4,11,6,12,7,2],\"yaxis\":\"y3\"},{\"hovertemplate\":\"<b>OLS trendline</b><br>\\uc790\\uc138\\ubcf4\\uc870\\uc6a9\\uad6c \\uc0ac\\uc6a9\\uae30\\uac04 = 0.643796 * \\ud720\\uccb4\\uc5b4 \\uc0ac\\uc6a9\\uae30\\uac04 + 1.76336<br>R<sup>2</sup>=0.610329<br><br>GMFCS_Level=5<br>\\ud720\\uccb4\\uc5b4 \\uc0ac\\uc6a9\\uae30\\uac04=%{x}<br>\\uc790\\uc138\\ubcf4\\uc870\\uc6a9\\uad6c \\uc0ac\\uc6a9\\uae30\\uac04=%{y} <b>(trend)</b><extra></extra>\",\"legendgroup\":\"5\",\"line\":{\"dash\":\"dot\",\"width\":4},\"marker\":{\"color\":\"#00cc96\",\"symbol\":\"circle\"},\"mode\":\"lines\",\"name\":\"5\",\"showlegend\":false,\"type\":\"scatter\",\"x\":[0,0,0,1,1,1,1,2,2,2,2,3,3,3,3,3,4,4,4,4,4,4,5,5,5,5,6,6,6,6,6,6,6,6,6,7,7,7,7,7,7,7,7,7,7,8,8,8,8,8,8,8,9,9,9,9,9,10,10,10,10,11,11,11,11,11,12,12,12,13,13,13,14,14,15,15,16,16,16,16,17,17,17,18,18,18,18,19,19,20,20,28,28],\"xaxis\":\"x3\",\"y\":[1.7633592740914774,1.7633592740914774,1.7633592740914774,2.4071552356411727,2.4071552356411727,2.4071552356411727,2.4071552356411727,3.0509511971908676,3.0509511971908676,3.0509511971908676,3.0509511971908676,3.694747158740563,3.694747158740563,3.694747158740563,3.694747158740563,3.694747158740563,4.338543120290258,4.338543120290258,4.338543120290258,4.338543120290258,4.338543120290258,4.338543120290258,4.982339081839953,4.982339081839953,4.982339081839953,4.982339081839953,5.626135043389649,5.626135043389649,5.626135043389649,5.626135043389649,5.626135043389649,5.626135043389649,5.626135043389649,5.626135043389649,5.626135043389649,6.269931004939345,6.269931004939345,6.269931004939345,6.269931004939345,6.269931004939345,6.269931004939345,6.269931004939345,6.269931004939345,6.269931004939345,6.269931004939345,6.913726966489039,6.913726966489039,6.913726966489039,6.913726966489039,6.913726966489039,6.913726966489039,6.913726966489039,7.557522928038734,7.557522928038734,7.557522928038734,7.557522928038734,7.557522928038734,8.20131888958843,8.20131888958843,8.20131888958843,8.20131888958843,8.845114851138124,8.845114851138124,8.845114851138124,8.845114851138124,8.845114851138124,9.48891081268782,9.48891081268782,9.48891081268782,10.132706774237516,10.132706774237516,10.132706774237516,10.776502735787211,10.776502735787211,11.420298697336905,11.420298697336905,12.064094658886601,12.064094658886601,12.064094658886601,12.064094658886601,12.707890620436297,12.707890620436297,12.707890620436297,13.351686581985991,13.351686581985991,13.351686581985991,13.351686581985991,13.995482543535687,13.995482543535687,14.639278505085382,14.639278505085382,19.789646197482945,19.789646197482945],\"yaxis\":\"y3\"}],                        {\"annotations\":[{\"font\":{},\"showarrow\":false,\"text\":\"GMFCS_Level=3\",\"x\":0.15999999999999998,\"xanchor\":\"center\",\"xref\":\"paper\",\"y\":1.0,\"yanchor\":\"bottom\",\"yref\":\"paper\"},{\"font\":{},\"showarrow\":false,\"text\":\"GMFCS_Level=4\",\"x\":0.49999999999999994,\"xanchor\":\"center\",\"xref\":\"paper\",\"y\":1.0,\"yanchor\":\"bottom\",\"yref\":\"paper\"},{\"font\":{},\"showarrow\":false,\"text\":\"GMFCS_Level=5\",\"x\":0.8399999999999999,\"xanchor\":\"center\",\"xref\":\"paper\",\"y\":1.0,\"yanchor\":\"bottom\",\"yref\":\"paper\"}],\"legend\":{\"title\":{\"text\":\"GMFCS_Level\"},\"tracegroupgap\":0},\"template\":{\"data\":{\"bar\":[{\"error_x\":{\"color\":\"#2a3f5f\"},\"error_y\":{\"color\":\"#2a3f5f\"},\"marker\":{\"line\":{\"color\":\"#E5ECF6\",\"width\":0.5},\"pattern\":{\"fillmode\":\"overlay\",\"size\":10,\"solidity\":0.2}},\"type\":\"bar\"}],\"barpolar\":[{\"marker\":{\"line\":{\"color\":\"#E5ECF6\",\"width\":0.5},\"pattern\":{\"fillmode\":\"overlay\",\"size\":10,\"solidity\":0.2}},\"type\":\"barpolar\"}],\"carpet\":[{\"aaxis\":{\"endlinecolor\":\"#2a3f5f\",\"gridcolor\":\"white\",\"linecolor\":\"white\",\"minorgridcolor\":\"white\",\"startlinecolor\":\"#2a3f5f\"},\"baxis\":{\"endlinecolor\":\"#2a3f5f\",\"gridcolor\":\"white\",\"linecolor\":\"white\",\"minorgridcolor\":\"white\",\"startlinecolor\":\"#2a3f5f\"},\"type\":\"carpet\"}],\"choropleth\":[{\"colorbar\":{\"outlinewidth\":0,\"ticks\":\"\"},\"type\":\"choropleth\"}],\"contour\":[{\"colorbar\":{\"outlinewidth\":0,\"ticks\":\"\"},\"colorscale\":[[0.0,\"#0d0887\"],[0.1111111111111111,\"#46039f\"],[0.2222222222222222,\"#7201a8\"],[0.3333333333333333,\"#9c179e\"],[0.4444444444444444,\"#bd3786\"],[0.5555555555555556,\"#d8576b\"],[0.6666666666666666,\"#ed7953\"],[0.7777777777777778,\"#fb9f3a\"],[0.8888888888888888,\"#fdca26\"],[1.0,\"#f0f921\"]],\"type\":\"contour\"}],\"contourcarpet\":[{\"colorbar\":{\"outlinewidth\":0,\"ticks\":\"\"},\"type\":\"contourcarpet\"}],\"heatmap\":[{\"colorbar\":{\"outlinewidth\":0,\"ticks\":\"\"},\"colorscale\":[[0.0,\"#0d0887\"],[0.1111111111111111,\"#46039f\"],[0.2222222222222222,\"#7201a8\"],[0.3333333333333333,\"#9c179e\"],[0.4444444444444444,\"#bd3786\"],[0.5555555555555556,\"#d8576b\"],[0.6666666666666666,\"#ed7953\"],[0.7777777777777778,\"#fb9f3a\"],[0.8888888888888888,\"#fdca26\"],[1.0,\"#f0f921\"]],\"type\":\"heatmap\"}],\"heatmapgl\":[{\"colorbar\":{\"outlinewidth\":0,\"ticks\":\"\"},\"colorscale\":[[0.0,\"#0d0887\"],[0.1111111111111111,\"#46039f\"],[0.2222222222222222,\"#7201a8\"],[0.3333333333333333,\"#9c179e\"],[0.4444444444444444,\"#bd3786\"],[0.5555555555555556,\"#d8576b\"],[0.6666666666666666,\"#ed7953\"],[0.7777777777777778,\"#fb9f3a\"],[0.8888888888888888,\"#fdca26\"],[1.0,\"#f0f921\"]],\"type\":\"heatmapgl\"}],\"histogram\":[{\"marker\":{\"pattern\":{\"fillmode\":\"overlay\",\"size\":10,\"solidity\":0.2}},\"type\":\"histogram\"}],\"histogram2d\":[{\"colorbar\":{\"outlinewidth\":0,\"ticks\":\"\"},\"colorscale\":[[0.0,\"#0d0887\"],[0.1111111111111111,\"#46039f\"],[0.2222222222222222,\"#7201a8\"],[0.3333333333333333,\"#9c179e\"],[0.4444444444444444,\"#bd3786\"],[0.5555555555555556,\"#d8576b\"],[0.6666666666666666,\"#ed7953\"],[0.7777777777777778,\"#fb9f3a\"],[0.8888888888888888,\"#fdca26\"],[1.0,\"#f0f921\"]],\"type\":\"histogram2d\"}],\"histogram2dcontour\":[{\"colorbar\":{\"outlinewidth\":0,\"ticks\":\"\"},\"colorscale\":[[0.0,\"#0d0887\"],[0.1111111111111111,\"#46039f\"],[0.2222222222222222,\"#7201a8\"],[0.3333333333333333,\"#9c179e\"],[0.4444444444444444,\"#bd3786\"],[0.5555555555555556,\"#d8576b\"],[0.6666666666666666,\"#ed7953\"],[0.7777777777777778,\"#fb9f3a\"],[0.8888888888888888,\"#fdca26\"],[1.0,\"#f0f921\"]],\"type\":\"histogram2dcontour\"}],\"mesh3d\":[{\"colorbar\":{\"outlinewidth\":0,\"ticks\":\"\"},\"type\":\"mesh3d\"}],\"parcoords\":[{\"line\":{\"colorbar\":{\"outlinewidth\":0,\"ticks\":\"\"}},\"type\":\"parcoords\"}],\"pie\":[{\"automargin\":true,\"type\":\"pie\"}],\"scatter\":[{\"marker\":{\"colorbar\":{\"outlinewidth\":0,\"ticks\":\"\"}},\"type\":\"scatter\"}],\"scatter3d\":[{\"line\":{\"colorbar\":{\"outlinewidth\":0,\"ticks\":\"\"}},\"marker\":{\"colorbar\":{\"outlinewidth\":0,\"ticks\":\"\"}},\"type\":\"scatter3d\"}],\"scattercarpet\":[{\"marker\":{\"colorbar\":{\"outlinewidth\":0,\"ticks\":\"\"}},\"type\":\"scattercarpet\"}],\"scattergeo\":[{\"marker\":{\"colorbar\":{\"outlinewidth\":0,\"ticks\":\"\"}},\"type\":\"scattergeo\"}],\"scattergl\":[{\"marker\":{\"colorbar\":{\"outlinewidth\":0,\"ticks\":\"\"}},\"type\":\"scattergl\"}],\"scattermapbox\":[{\"marker\":{\"colorbar\":{\"outlinewidth\":0,\"ticks\":\"\"}},\"type\":\"scattermapbox\"}],\"scatterpolar\":[{\"marker\":{\"colorbar\":{\"outlinewidth\":0,\"ticks\":\"\"}},\"type\":\"scatterpolar\"}],\"scatterpolargl\":[{\"marker\":{\"colorbar\":{\"outlinewidth\":0,\"ticks\":\"\"}},\"type\":\"scatterpolargl\"}],\"scatterternary\":[{\"marker\":{\"colorbar\":{\"outlinewidth\":0,\"ticks\":\"\"}},\"type\":\"scatterternary\"}],\"surface\":[{\"colorbar\":{\"outlinewidth\":0,\"ticks\":\"\"},\"colorscale\":[[0.0,\"#0d0887\"],[0.1111111111111111,\"#46039f\"],[0.2222222222222222,\"#7201a8\"],[0.3333333333333333,\"#9c179e\"],[0.4444444444444444,\"#bd3786\"],[0.5555555555555556,\"#d8576b\"],[0.6666666666666666,\"#ed7953\"],[0.7777777777777778,\"#fb9f3a\"],[0.8888888888888888,\"#fdca26\"],[1.0,\"#f0f921\"]],\"type\":\"surface\"}],\"table\":[{\"cells\":{\"fill\":{\"color\":\"#EBF0F8\"},\"line\":{\"color\":\"white\"}},\"header\":{\"fill\":{\"color\":\"#C8D4E3\"},\"line\":{\"color\":\"white\"}},\"type\":\"table\"}]},\"layout\":{\"annotationdefaults\":{\"arrowcolor\":\"#2a3f5f\",\"arrowhead\":0,\"arrowwidth\":1},\"autotypenumbers\":\"strict\",\"coloraxis\":{\"colorbar\":{\"outlinewidth\":0,\"ticks\":\"\"}},\"colorscale\":{\"diverging\":[[0,\"#8e0152\"],[0.1,\"#c51b7d\"],[0.2,\"#de77ae\"],[0.3,\"#f1b6da\"],[0.4,\"#fde0ef\"],[0.5,\"#f7f7f7\"],[0.6,\"#e6f5d0\"],[0.7,\"#b8e186\"],[0.8,\"#7fbc41\"],[0.9,\"#4d9221\"],[1,\"#276419\"]],\"sequential\":[[0.0,\"#0d0887\"],[0.1111111111111111,\"#46039f\"],[0.2222222222222222,\"#7201a8\"],[0.3333333333333333,\"#9c179e\"],[0.4444444444444444,\"#bd3786\"],[0.5555555555555556,\"#d8576b\"],[0.6666666666666666,\"#ed7953\"],[0.7777777777777778,\"#fb9f3a\"],[0.8888888888888888,\"#fdca26\"],[1.0,\"#f0f921\"]],\"sequentialminus\":[[0.0,\"#0d0887\"],[0.1111111111111111,\"#46039f\"],[0.2222222222222222,\"#7201a8\"],[0.3333333333333333,\"#9c179e\"],[0.4444444444444444,\"#bd3786\"],[0.5555555555555556,\"#d8576b\"],[0.6666666666666666,\"#ed7953\"],[0.7777777777777778,\"#fb9f3a\"],[0.8888888888888888,\"#fdca26\"],[1.0,\"#f0f921\"]]},\"colorway\":[\"#636efa\",\"#EF553B\",\"#00cc96\",\"#ab63fa\",\"#FFA15A\",\"#19d3f3\",\"#FF6692\",\"#B6E880\",\"#FF97FF\",\"#FECB52\"],\"font\":{\"color\":\"#2a3f5f\"},\"geo\":{\"bgcolor\":\"white\",\"lakecolor\":\"white\",\"landcolor\":\"#E5ECF6\",\"showlakes\":true,\"showland\":true,\"subunitcolor\":\"white\"},\"hoverlabel\":{\"align\":\"left\"},\"hovermode\":\"closest\",\"mapbox\":{\"style\":\"light\"},\"paper_bgcolor\":\"white\",\"plot_bgcolor\":\"#E5ECF6\",\"polar\":{\"angularaxis\":{\"gridcolor\":\"white\",\"linecolor\":\"white\",\"ticks\":\"\"},\"bgcolor\":\"#E5ECF6\",\"radialaxis\":{\"gridcolor\":\"white\",\"linecolor\":\"white\",\"ticks\":\"\"}},\"scene\":{\"xaxis\":{\"backgroundcolor\":\"#E5ECF6\",\"gridcolor\":\"white\",\"gridwidth\":2,\"linecolor\":\"white\",\"showbackground\":true,\"ticks\":\"\",\"zerolinecolor\":\"white\"},\"yaxis\":{\"backgroundcolor\":\"#E5ECF6\",\"gridcolor\":\"white\",\"gridwidth\":2,\"linecolor\":\"white\",\"showbackground\":true,\"ticks\":\"\",\"zerolinecolor\":\"white\"},\"zaxis\":{\"backgroundcolor\":\"#E5ECF6\",\"gridcolor\":\"white\",\"gridwidth\":2,\"linecolor\":\"white\",\"showbackground\":true,\"ticks\":\"\",\"zerolinecolor\":\"white\"}},\"shapedefaults\":{\"line\":{\"color\":\"#2a3f5f\"}},\"ternary\":{\"aaxis\":{\"gridcolor\":\"white\",\"linecolor\":\"white\",\"ticks\":\"\"},\"baxis\":{\"gridcolor\":\"white\",\"linecolor\":\"white\",\"ticks\":\"\"},\"bgcolor\":\"#E5ECF6\",\"caxis\":{\"gridcolor\":\"white\",\"linecolor\":\"white\",\"ticks\":\"\"}},\"title\":{\"x\":0.05},\"xaxis\":{\"automargin\":true,\"gridcolor\":\"white\",\"linecolor\":\"white\",\"ticks\":\"\",\"title\":{\"standoff\":15},\"zerolinecolor\":\"white\",\"zerolinewidth\":2},\"yaxis\":{\"automargin\":true,\"gridcolor\":\"white\",\"linecolor\":\"white\",\"ticks\":\"\",\"title\":{\"standoff\":15},\"zerolinecolor\":\"white\",\"zerolinewidth\":2}}},\"title\":{\"font\":{\"size\":24},\"text\":\"GMFCS_Level\\ubcc4 \\uc790\\uc138\\ubcf4\\uc870\\uc6a9\\uad6c\\uc640 \\ud720\\uccb4\\uc5b4 \\uc0ac\\uc6a9\\uc2dc\\uac04 \\uc0c1\\uad00\\uad00\\uacc4\",\"x\":0.5},\"xaxis\":{\"anchor\":\"y\",\"domain\":[0.0,0.31999999999999995],\"showgrid\":false,\"title\":{\"text\":\"\\ud720\\uccb4\\uc5b4 \\uc0ac\\uc6a9\\uae30\\uac04\"}},\"xaxis2\":{\"anchor\":\"y2\",\"domain\":[0.33999999999999997,0.6599999999999999],\"matches\":\"x\",\"showgrid\":false,\"title\":{\"text\":\"\\ud720\\uccb4\\uc5b4 \\uc0ac\\uc6a9\\uae30\\uac04\"}},\"xaxis3\":{\"anchor\":\"y3\",\"domain\":[0.6799999999999999,0.9999999999999999],\"matches\":\"x\",\"showgrid\":false,\"title\":{\"text\":\"\\ud720\\uccb4\\uc5b4 \\uc0ac\\uc6a9\\uae30\\uac04\"}},\"yaxis\":{\"anchor\":\"x\",\"domain\":[0.0,1.0],\"title\":{\"text\":\"\\uc790\\uc138\\ubcf4\\uc870\\uc6a9\\uad6c \\uc0ac\\uc6a9\\uae30\\uac04\"}},\"yaxis2\":{\"anchor\":\"x2\",\"domain\":[0.0,1.0],\"matches\":\"y\",\"showticklabels\":false},\"yaxis3\":{\"anchor\":\"x3\",\"domain\":[0.0,1.0],\"matches\":\"y\",\"showticklabels\":false}},                        {\"responsive\": true}                    ).then(function(){\n",
       "                            \n",
       "var gd = document.getElementById('a9b3c6c2-a27e-4567-bcd9-e51f5004f227');\n",
       "var x = new MutationObserver(function (mutations, observer) {{\n",
       "        var display = window.getComputedStyle(gd).display;\n",
       "        if (!display || display === 'none') {{\n",
       "            console.log([gd, 'removed!']);\n",
       "            Plotly.purge(gd);\n",
       "            observer.disconnect();\n",
       "        }}\n",
       "}});\n",
       "\n",
       "// Listen for the removal of the full notebook cells\n",
       "var notebookContainer = gd.closest('#notebook-container');\n",
       "if (notebookContainer) {{\n",
       "    x.observe(notebookContainer, {childList: true});\n",
       "}}\n",
       "\n",
       "// Listen for the clearing of the current output cell\n",
       "var outputEl = gd.closest('.output');\n",
       "if (outputEl) {{\n",
       "    x.observe(outputEl, {childList: true});\n",
       "}}\n",
       "\n",
       "                        })                };                });            </script>        </div>"
      ]
     },
     "metadata": {},
     "output_type": "display_data"
    }
   ],
   "source": [
    "df2 = df.sort_values(by=['GMFCS_Level'], ascending=True)\n",
    "\n",
    "fig=px.scatter(df2, x=\"휠체어 사용기간\", y=\"자세보조용구 사용기간\", color=\"GMFCS_Level\",\n",
    "            facet_col=\"GMFCS_Level\", trendline=\"ols\",\n",
    "            title=\"GMFCS_Level별 자세보조용구와 휠체어 사용시간 상관관계\")\n",
    "fig.update_layout(title_font_size=24,title_x=0.5)\n",
    "fig.update_xaxes(showgrid=False)\n",
    "fig.update_traces(\n",
    "     line=dict(dash=\"dot\", width=4),\n",
    "     selector=dict(type=\"scatter\", mode=\"lines\"))\n",
    "fig.show()"
   ]
  },
  {
   "cell_type": "code",
   "execution_count": 54,
   "id": "40461ea8-1231-4ffb-87c6-e555f9e899ae",
   "metadata": {},
   "outputs": [
    {
     "data": {
      "text/plain": [
       "'GMFCS_Level별 자세보조용구와 휠체어 사용시간 상관관계.html'"
      ]
     },
     "execution_count": 54,
     "metadata": {},
     "output_type": "execute_result"
    }
   ],
   "source": [
    "plotly.offline.plot(fig,filename='GMFCS_Level별 자세보조용구와 휠체어 사용시간 상관관계.html',config={'displayModeBar': True}) #html로 내보내기, bar 조정 불가하게 "
   ]
  },
  {
   "cell_type": "code",
   "execution_count": 183,
   "id": "867a9910-8bc8-4813-8ad0-a09943acc8c2",
   "metadata": {},
   "outputs": [
    {
     "data": {
      "application/vnd.plotly.v1+json": {
       "config": {
        "plotlyServerURL": "https://plot.ly"
       },
       "data": [
        {
         "hovertemplate": "생리학적분류=1<br>휠체어 사용기간=%{x}<br>자세보조용구 사용기간=%{y}<extra></extra>",
         "legendgroup": "1",
         "marker": {
          "color": "#636efa",
          "symbol": "circle"
         },
         "mode": "markers",
         "name": "1",
         "orientation": "v",
         "showlegend": true,
         "type": "scatter",
         "x": [
          8,
          6,
          7,
          2,
          8,
          8,
          8,
          7,
          4,
          28,
          10,
          10,
          19,
          12,
          17,
          10,
          15,
          4,
          3,
          6,
          10,
          4,
          7,
          15,
          7,
          9,
          12,
          6,
          4,
          6,
          1,
          9,
          18,
          19,
          9,
          18,
          13,
          16,
          16,
          7,
          6,
          8
         ],
         "xaxis": "x",
         "y": [
          8,
          2,
          7,
          2,
          8,
          12,
          11,
          7,
          4,
          2,
          10,
          8,
          14,
          8,
          11,
          9,
          15,
          5,
          3,
          4,
          10,
          2,
          9,
          15,
          7,
          8,
          11,
          5,
          1,
          6,
          3,
          10,
          16,
          14,
          9,
          18,
          12,
          16,
          7,
          7,
          7,
          8
         ],
         "yaxis": "y"
        },
        {
         "hovertemplate": "<b>OLS trendline</b><br>자세보조용구 사용기간 = 0.467834 * 휠체어 사용기간 + 3.76792<br>R<sup>2</sup>=0.365844<br><br>생리학적분류=1<br>휠체어 사용기간=%{x}<br>자세보조용구 사용기간=%{y} <b>(trend)</b><extra></extra>",
         "legendgroup": "1",
         "line": {
          "dash": "dot",
          "width": 4
         },
         "marker": {
          "color": "#636efa",
          "symbol": "circle"
         },
         "mode": "lines",
         "name": "1",
         "showlegend": false,
         "type": "scatter",
         "x": [
          1,
          2,
          3,
          4,
          4,
          4,
          4,
          6,
          6,
          6,
          6,
          6,
          7,
          7,
          7,
          7,
          7,
          8,
          8,
          8,
          8,
          8,
          9,
          9,
          9,
          10,
          10,
          10,
          10,
          12,
          12,
          13,
          15,
          15,
          16,
          16,
          17,
          18,
          18,
          19,
          19,
          28
         ],
         "xaxis": "x",
         "y": [
          4.235749185667751,
          4.703583061889249,
          5.171416938110748,
          5.639250814332247,
          5.639250814332247,
          5.639250814332247,
          5.639250814332247,
          6.574918566775244,
          6.574918566775244,
          6.574918566775244,
          6.574918566775244,
          6.574918566775244,
          7.042752442996742,
          7.042752442996742,
          7.042752442996742,
          7.042752442996742,
          7.042752442996742,
          7.510586319218241,
          7.510586319218241,
          7.510586319218241,
          7.510586319218241,
          7.510586319218241,
          7.978420195439739,
          7.978420195439739,
          7.978420195439739,
          8.446254071661238,
          8.446254071661238,
          8.446254071661238,
          8.446254071661238,
          9.381921824104234,
          9.381921824104234,
          9.849755700325733,
          10.78542345276873,
          10.78542345276873,
          11.253257328990228,
          11.253257328990228,
          11.721091205211728,
          12.188925081433226,
          12.188925081433226,
          12.656758957654723,
          12.656758957654723,
          16.86726384364821
         ],
         "yaxis": "y"
        },
        {
         "hovertemplate": "생리학적분류=2<br>휠체어 사용기간=%{x}<br>자세보조용구 사용기간=%{y}<extra></extra>",
         "legendgroup": "2",
         "marker": {
          "color": "#EF553B",
          "symbol": "circle"
         },
         "mode": "markers",
         "name": "2",
         "orientation": "v",
         "showlegend": true,
         "type": "scatter",
         "x": [
          3,
          11,
          17,
          9,
          7
         ],
         "xaxis": "x2",
         "y": [
          3,
          11,
          19,
          9,
          6
         ],
         "yaxis": "y2"
        },
        {
         "hovertemplate": "<b>OLS trendline</b><br>자세보조용구 사용기간 = 1.16418 * 휠체어 사용기간 + -1.34328<br>R<sup>2</sup>=0.987021<br><br>생리학적분류=2<br>휠체어 사용기간=%{x}<br>자세보조용구 사용기간=%{y} <b>(trend)</b><extra></extra>",
         "legendgroup": "2",
         "line": {
          "dash": "dot",
          "width": 4
         },
         "marker": {
          "color": "#EF553B",
          "symbol": "circle"
         },
         "mode": "lines",
         "name": "2",
         "showlegend": false,
         "type": "scatter",
         "x": [
          3,
          7,
          9,
          11,
          17
         ],
         "xaxis": "x2",
         "y": [
          2.1492537313432845,
          6.805970149253733,
          9.134328358208956,
          11.46268656716418,
          18.44776119402985
         ],
         "yaxis": "y2"
        },
        {
         "hovertemplate": "생리학적분류=3<br>휠체어 사용기간=%{x}<br>자세보조용구 사용기간=%{y}<extra></extra>",
         "legendgroup": "3",
         "marker": {
          "color": "#00cc96",
          "symbol": "circle"
         },
         "mode": "markers",
         "name": "3",
         "orientation": "v",
         "showlegend": true,
         "type": "scatter",
         "x": [
          15,
          5,
          1,
          2,
          1,
          0,
          3,
          0,
          4,
          4,
          0,
          6,
          13
         ],
         "xaxis": "x3",
         "y": [
          12,
          3,
          2,
          2,
          2,
          3,
          5,
          1,
          0,
          4,
          0,
          6,
          6
         ],
         "yaxis": "y3"
        },
        {
         "hovertemplate": "<b>OLS trendline</b><br>자세보조용구 사용기간 = 0.565097 * 휠체어 사용기간 + 1.19114<br>R<sup>2</sup>=0.708107<br><br>생리학적분류=3<br>휠체어 사용기간=%{x}<br>자세보조용구 사용기간=%{y} <b>(trend)</b><extra></extra>",
         "legendgroup": "3",
         "line": {
          "dash": "dot",
          "width": 4
         },
         "marker": {
          "color": "#00cc96",
          "symbol": "circle"
         },
         "mode": "lines",
         "name": "3",
         "showlegend": false,
         "type": "scatter",
         "x": [
          0,
          0,
          0,
          1,
          1,
          2,
          3,
          4,
          4,
          5,
          6,
          13,
          15
         ],
         "xaxis": "x3",
         "y": [
          1.1911357340720214,
          1.1911357340720214,
          1.1911357340720214,
          1.7562326869806089,
          1.7562326869806089,
          2.3213296398891963,
          2.8864265927977835,
          3.451523545706371,
          3.451523545706371,
          4.016620498614959,
          4.581717451523546,
          8.537396121883658,
          9.667590027700832
         ],
         "yaxis": "y3"
        },
        {
         "hovertemplate": "생리학적분류=4<br>휠체어 사용기간=%{x}<br>자세보조용구 사용기간=%{y}<extra></extra>",
         "legendgroup": "4",
         "marker": {
          "color": "#ab63fa",
          "symbol": "circle"
         },
         "mode": "markers",
         "name": "4",
         "orientation": "v",
         "showlegend": true,
         "type": "scatter",
         "x": [
          9,
          13,
          11,
          0,
          5,
          4,
          1,
          1,
          16,
          4,
          3,
          17,
          1,
          8,
          20,
          14,
          16,
          2,
          7,
          14,
          5,
          3,
          18,
          11,
          7,
          16,
          7,
          11,
          6,
          4,
          7,
          9,
          10,
          8,
          2,
          8,
          20,
          6,
          18,
          7,
          11,
          2,
          3,
          6,
          8,
          6,
          5,
          5,
          12,
          11,
          28,
          4
         ],
         "xaxis": "x4",
         "y": [
          4,
          15,
          9,
          0,
          3,
          4,
          1,
          1,
          15,
          4,
          1,
          14,
          4,
          8,
          10,
          14,
          16,
          1,
          3,
          12,
          2,
          4,
          6,
          9,
          7,
          16,
          7,
          9,
          5,
          2,
          7,
          9,
          10,
          8,
          2,
          3,
          12,
          6,
          11,
          3,
          8,
          7,
          3,
          6,
          8,
          6,
          3,
          5,
          11,
          11,
          27,
          2
         ],
         "yaxis": "y4"
        },
        {
         "hovertemplate": "<b>OLS trendline</b><br>자세보조용구 사용기간 = 0.756676 * 휠체어 사용기간 + 0.644154<br>R<sup>2</sup>=0.760760<br><br>생리학적분류=4<br>휠체어 사용기간=%{x}<br>자세보조용구 사용기간=%{y} <b>(trend)</b><extra></extra>",
         "legendgroup": "4",
         "line": {
          "dash": "dot",
          "width": 4
         },
         "marker": {
          "color": "#ab63fa",
          "symbol": "circle"
         },
         "mode": "lines",
         "name": "4",
         "showlegend": false,
         "type": "scatter",
         "x": [
          0,
          1,
          1,
          1,
          2,
          2,
          2,
          3,
          3,
          3,
          4,
          4,
          4,
          4,
          5,
          5,
          5,
          5,
          6,
          6,
          6,
          6,
          7,
          7,
          7,
          7,
          7,
          8,
          8,
          8,
          8,
          9,
          9,
          10,
          11,
          11,
          11,
          11,
          11,
          12,
          13,
          14,
          14,
          16,
          16,
          16,
          17,
          18,
          18,
          20,
          20,
          28
         ],
         "xaxis": "x4",
         "y": [
          0.6441538656849053,
          1.4008294189835384,
          1.4008294189835384,
          1.4008294189835384,
          2.1575049722821715,
          2.1575049722821715,
          2.1575049722821715,
          2.9141805255808046,
          2.9141805255808046,
          2.9141805255808046,
          3.6708560788794378,
          3.6708560788794378,
          3.6708560788794378,
          3.6708560788794378,
          4.427531632178071,
          4.427531632178071,
          4.427531632178071,
          4.427531632178071,
          5.184207185476704,
          5.184207185476704,
          5.184207185476704,
          5.184207185476704,
          5.940882738775337,
          5.940882738775337,
          5.940882738775337,
          5.940882738775337,
          5.940882738775337,
          6.69755829207397,
          6.69755829207397,
          6.69755829207397,
          6.69755829207397,
          7.454233845372603,
          7.454233845372603,
          8.210909398671237,
          8.967584951969869,
          8.967584951969869,
          8.967584951969869,
          8.967584951969869,
          8.967584951969869,
          9.724260505268504,
          10.480936058567135,
          11.23761161186577,
          11.23761161186577,
          12.750962718463036,
          12.750962718463036,
          12.750962718463036,
          13.507638271761667,
          14.264313825060302,
          14.264313825060302,
          15.777664931657569,
          15.777664931657569,
          21.831069358046634
         ],
         "yaxis": "y4"
        }
       ],
       "layout": {
        "annotations": [
         {
          "font": {},
          "showarrow": false,
          "text": "생리학적분류=1",
          "x": 0.1175,
          "xanchor": "center",
          "xref": "paper",
          "y": 1,
          "yanchor": "bottom",
          "yref": "paper"
         },
         {
          "font": {},
          "showarrow": false,
          "text": "생리학적분류=2",
          "x": 0.3725,
          "xanchor": "center",
          "xref": "paper",
          "y": 1,
          "yanchor": "bottom",
          "yref": "paper"
         },
         {
          "font": {},
          "showarrow": false,
          "text": "생리학적분류=3",
          "x": 0.6275,
          "xanchor": "center",
          "xref": "paper",
          "y": 1,
          "yanchor": "bottom",
          "yref": "paper"
         },
         {
          "font": {},
          "showarrow": false,
          "text": "생리학적분류=4",
          "x": 0.8824999999999998,
          "xanchor": "center",
          "xref": "paper",
          "y": 1,
          "yanchor": "bottom",
          "yref": "paper"
         }
        ],
        "autosize": true,
        "legend": {
         "title": {
          "text": "생리학적분류"
         },
         "tracegroupgap": 0
        },
        "template": {
         "data": {
          "bar": [
           {
            "error_x": {
             "color": "#2a3f5f"
            },
            "error_y": {
             "color": "#2a3f5f"
            },
            "marker": {
             "line": {
              "color": "#E5ECF6",
              "width": 0.5
             },
             "pattern": {
              "fillmode": "overlay",
              "size": 10,
              "solidity": 0.2
             }
            },
            "type": "bar"
           }
          ],
          "barpolar": [
           {
            "marker": {
             "line": {
              "color": "#E5ECF6",
              "width": 0.5
             },
             "pattern": {
              "fillmode": "overlay",
              "size": 10,
              "solidity": 0.2
             }
            },
            "type": "barpolar"
           }
          ],
          "carpet": [
           {
            "aaxis": {
             "endlinecolor": "#2a3f5f",
             "gridcolor": "white",
             "linecolor": "white",
             "minorgridcolor": "white",
             "startlinecolor": "#2a3f5f"
            },
            "baxis": {
             "endlinecolor": "#2a3f5f",
             "gridcolor": "white",
             "linecolor": "white",
             "minorgridcolor": "white",
             "startlinecolor": "#2a3f5f"
            },
            "type": "carpet"
           }
          ],
          "choropleth": [
           {
            "colorbar": {
             "outlinewidth": 0,
             "ticks": ""
            },
            "type": "choropleth"
           }
          ],
          "contour": [
           {
            "colorbar": {
             "outlinewidth": 0,
             "ticks": ""
            },
            "colorscale": [
             [
              0,
              "#0d0887"
             ],
             [
              0.1111111111111111,
              "#46039f"
             ],
             [
              0.2222222222222222,
              "#7201a8"
             ],
             [
              0.3333333333333333,
              "#9c179e"
             ],
             [
              0.4444444444444444,
              "#bd3786"
             ],
             [
              0.5555555555555556,
              "#d8576b"
             ],
             [
              0.6666666666666666,
              "#ed7953"
             ],
             [
              0.7777777777777778,
              "#fb9f3a"
             ],
             [
              0.8888888888888888,
              "#fdca26"
             ],
             [
              1,
              "#f0f921"
             ]
            ],
            "type": "contour"
           }
          ],
          "contourcarpet": [
           {
            "colorbar": {
             "outlinewidth": 0,
             "ticks": ""
            },
            "type": "contourcarpet"
           }
          ],
          "heatmap": [
           {
            "colorbar": {
             "outlinewidth": 0,
             "ticks": ""
            },
            "colorscale": [
             [
              0,
              "#0d0887"
             ],
             [
              0.1111111111111111,
              "#46039f"
             ],
             [
              0.2222222222222222,
              "#7201a8"
             ],
             [
              0.3333333333333333,
              "#9c179e"
             ],
             [
              0.4444444444444444,
              "#bd3786"
             ],
             [
              0.5555555555555556,
              "#d8576b"
             ],
             [
              0.6666666666666666,
              "#ed7953"
             ],
             [
              0.7777777777777778,
              "#fb9f3a"
             ],
             [
              0.8888888888888888,
              "#fdca26"
             ],
             [
              1,
              "#f0f921"
             ]
            ],
            "type": "heatmap"
           }
          ],
          "heatmapgl": [
           {
            "colorbar": {
             "outlinewidth": 0,
             "ticks": ""
            },
            "colorscale": [
             [
              0,
              "#0d0887"
             ],
             [
              0.1111111111111111,
              "#46039f"
             ],
             [
              0.2222222222222222,
              "#7201a8"
             ],
             [
              0.3333333333333333,
              "#9c179e"
             ],
             [
              0.4444444444444444,
              "#bd3786"
             ],
             [
              0.5555555555555556,
              "#d8576b"
             ],
             [
              0.6666666666666666,
              "#ed7953"
             ],
             [
              0.7777777777777778,
              "#fb9f3a"
             ],
             [
              0.8888888888888888,
              "#fdca26"
             ],
             [
              1,
              "#f0f921"
             ]
            ],
            "type": "heatmapgl"
           }
          ],
          "histogram": [
           {
            "marker": {
             "pattern": {
              "fillmode": "overlay",
              "size": 10,
              "solidity": 0.2
             }
            },
            "type": "histogram"
           }
          ],
          "histogram2d": [
           {
            "colorbar": {
             "outlinewidth": 0,
             "ticks": ""
            },
            "colorscale": [
             [
              0,
              "#0d0887"
             ],
             [
              0.1111111111111111,
              "#46039f"
             ],
             [
              0.2222222222222222,
              "#7201a8"
             ],
             [
              0.3333333333333333,
              "#9c179e"
             ],
             [
              0.4444444444444444,
              "#bd3786"
             ],
             [
              0.5555555555555556,
              "#d8576b"
             ],
             [
              0.6666666666666666,
              "#ed7953"
             ],
             [
              0.7777777777777778,
              "#fb9f3a"
             ],
             [
              0.8888888888888888,
              "#fdca26"
             ],
             [
              1,
              "#f0f921"
             ]
            ],
            "type": "histogram2d"
           }
          ],
          "histogram2dcontour": [
           {
            "colorbar": {
             "outlinewidth": 0,
             "ticks": ""
            },
            "colorscale": [
             [
              0,
              "#0d0887"
             ],
             [
              0.1111111111111111,
              "#46039f"
             ],
             [
              0.2222222222222222,
              "#7201a8"
             ],
             [
              0.3333333333333333,
              "#9c179e"
             ],
             [
              0.4444444444444444,
              "#bd3786"
             ],
             [
              0.5555555555555556,
              "#d8576b"
             ],
             [
              0.6666666666666666,
              "#ed7953"
             ],
             [
              0.7777777777777778,
              "#fb9f3a"
             ],
             [
              0.8888888888888888,
              "#fdca26"
             ],
             [
              1,
              "#f0f921"
             ]
            ],
            "type": "histogram2dcontour"
           }
          ],
          "mesh3d": [
           {
            "colorbar": {
             "outlinewidth": 0,
             "ticks": ""
            },
            "type": "mesh3d"
           }
          ],
          "parcoords": [
           {
            "line": {
             "colorbar": {
              "outlinewidth": 0,
              "ticks": ""
             }
            },
            "type": "parcoords"
           }
          ],
          "pie": [
           {
            "automargin": true,
            "type": "pie"
           }
          ],
          "scatter": [
           {
            "marker": {
             "colorbar": {
              "outlinewidth": 0,
              "ticks": ""
             }
            },
            "type": "scatter"
           }
          ],
          "scatter3d": [
           {
            "line": {
             "colorbar": {
              "outlinewidth": 0,
              "ticks": ""
             }
            },
            "marker": {
             "colorbar": {
              "outlinewidth": 0,
              "ticks": ""
             }
            },
            "type": "scatter3d"
           }
          ],
          "scattercarpet": [
           {
            "marker": {
             "colorbar": {
              "outlinewidth": 0,
              "ticks": ""
             }
            },
            "type": "scattercarpet"
           }
          ],
          "scattergeo": [
           {
            "marker": {
             "colorbar": {
              "outlinewidth": 0,
              "ticks": ""
             }
            },
            "type": "scattergeo"
           }
          ],
          "scattergl": [
           {
            "marker": {
             "colorbar": {
              "outlinewidth": 0,
              "ticks": ""
             }
            },
            "type": "scattergl"
           }
          ],
          "scattermapbox": [
           {
            "marker": {
             "colorbar": {
              "outlinewidth": 0,
              "ticks": ""
             }
            },
            "type": "scattermapbox"
           }
          ],
          "scatterpolar": [
           {
            "marker": {
             "colorbar": {
              "outlinewidth": 0,
              "ticks": ""
             }
            },
            "type": "scatterpolar"
           }
          ],
          "scatterpolargl": [
           {
            "marker": {
             "colorbar": {
              "outlinewidth": 0,
              "ticks": ""
             }
            },
            "type": "scatterpolargl"
           }
          ],
          "scatterternary": [
           {
            "marker": {
             "colorbar": {
              "outlinewidth": 0,
              "ticks": ""
             }
            },
            "type": "scatterternary"
           }
          ],
          "surface": [
           {
            "colorbar": {
             "outlinewidth": 0,
             "ticks": ""
            },
            "colorscale": [
             [
              0,
              "#0d0887"
             ],
             [
              0.1111111111111111,
              "#46039f"
             ],
             [
              0.2222222222222222,
              "#7201a8"
             ],
             [
              0.3333333333333333,
              "#9c179e"
             ],
             [
              0.4444444444444444,
              "#bd3786"
             ],
             [
              0.5555555555555556,
              "#d8576b"
             ],
             [
              0.6666666666666666,
              "#ed7953"
             ],
             [
              0.7777777777777778,
              "#fb9f3a"
             ],
             [
              0.8888888888888888,
              "#fdca26"
             ],
             [
              1,
              "#f0f921"
             ]
            ],
            "type": "surface"
           }
          ],
          "table": [
           {
            "cells": {
             "fill": {
              "color": "#EBF0F8"
             },
             "line": {
              "color": "white"
             }
            },
            "header": {
             "fill": {
              "color": "#C8D4E3"
             },
             "line": {
              "color": "white"
             }
            },
            "type": "table"
           }
          ]
         },
         "layout": {
          "annotationdefaults": {
           "arrowcolor": "#2a3f5f",
           "arrowhead": 0,
           "arrowwidth": 1
          },
          "autotypenumbers": "strict",
          "coloraxis": {
           "colorbar": {
            "outlinewidth": 0,
            "ticks": ""
           }
          },
          "colorscale": {
           "diverging": [
            [
             0,
             "#8e0152"
            ],
            [
             0.1,
             "#c51b7d"
            ],
            [
             0.2,
             "#de77ae"
            ],
            [
             0.3,
             "#f1b6da"
            ],
            [
             0.4,
             "#fde0ef"
            ],
            [
             0.5,
             "#f7f7f7"
            ],
            [
             0.6,
             "#e6f5d0"
            ],
            [
             0.7,
             "#b8e186"
            ],
            [
             0.8,
             "#7fbc41"
            ],
            [
             0.9,
             "#4d9221"
            ],
            [
             1,
             "#276419"
            ]
           ],
           "sequential": [
            [
             0,
             "#0d0887"
            ],
            [
             0.1111111111111111,
             "#46039f"
            ],
            [
             0.2222222222222222,
             "#7201a8"
            ],
            [
             0.3333333333333333,
             "#9c179e"
            ],
            [
             0.4444444444444444,
             "#bd3786"
            ],
            [
             0.5555555555555556,
             "#d8576b"
            ],
            [
             0.6666666666666666,
             "#ed7953"
            ],
            [
             0.7777777777777778,
             "#fb9f3a"
            ],
            [
             0.8888888888888888,
             "#fdca26"
            ],
            [
             1,
             "#f0f921"
            ]
           ],
           "sequentialminus": [
            [
             0,
             "#0d0887"
            ],
            [
             0.1111111111111111,
             "#46039f"
            ],
            [
             0.2222222222222222,
             "#7201a8"
            ],
            [
             0.3333333333333333,
             "#9c179e"
            ],
            [
             0.4444444444444444,
             "#bd3786"
            ],
            [
             0.5555555555555556,
             "#d8576b"
            ],
            [
             0.6666666666666666,
             "#ed7953"
            ],
            [
             0.7777777777777778,
             "#fb9f3a"
            ],
            [
             0.8888888888888888,
             "#fdca26"
            ],
            [
             1,
             "#f0f921"
            ]
           ]
          },
          "colorway": [
           "#636efa",
           "#EF553B",
           "#00cc96",
           "#ab63fa",
           "#FFA15A",
           "#19d3f3",
           "#FF6692",
           "#B6E880",
           "#FF97FF",
           "#FECB52"
          ],
          "font": {
           "color": "#2a3f5f"
          },
          "geo": {
           "bgcolor": "white",
           "lakecolor": "white",
           "landcolor": "#E5ECF6",
           "showlakes": true,
           "showland": true,
           "subunitcolor": "white"
          },
          "hoverlabel": {
           "align": "left"
          },
          "hovermode": "closest",
          "mapbox": {
           "style": "light"
          },
          "paper_bgcolor": "white",
          "plot_bgcolor": "#E5ECF6",
          "polar": {
           "angularaxis": {
            "gridcolor": "white",
            "linecolor": "white",
            "ticks": ""
           },
           "bgcolor": "#E5ECF6",
           "radialaxis": {
            "gridcolor": "white",
            "linecolor": "white",
            "ticks": ""
           }
          },
          "scene": {
           "xaxis": {
            "backgroundcolor": "#E5ECF6",
            "gridcolor": "white",
            "gridwidth": 2,
            "linecolor": "white",
            "showbackground": true,
            "ticks": "",
            "zerolinecolor": "white"
           },
           "yaxis": {
            "backgroundcolor": "#E5ECF6",
            "gridcolor": "white",
            "gridwidth": 2,
            "linecolor": "white",
            "showbackground": true,
            "ticks": "",
            "zerolinecolor": "white"
           },
           "zaxis": {
            "backgroundcolor": "#E5ECF6",
            "gridcolor": "white",
            "gridwidth": 2,
            "linecolor": "white",
            "showbackground": true,
            "ticks": "",
            "zerolinecolor": "white"
           }
          },
          "shapedefaults": {
           "line": {
            "color": "#2a3f5f"
           }
          },
          "ternary": {
           "aaxis": {
            "gridcolor": "white",
            "linecolor": "white",
            "ticks": ""
           },
           "baxis": {
            "gridcolor": "white",
            "linecolor": "white",
            "ticks": ""
           },
           "bgcolor": "#E5ECF6",
           "caxis": {
            "gridcolor": "white",
            "linecolor": "white",
            "ticks": ""
           }
          },
          "title": {
           "x": 0.05
          },
          "xaxis": {
           "automargin": true,
           "gridcolor": "white",
           "linecolor": "white",
           "ticks": "",
           "title": {
            "standoff": 15
           },
           "zerolinecolor": "white",
           "zerolinewidth": 2
          },
          "yaxis": {
           "automargin": true,
           "gridcolor": "white",
           "linecolor": "white",
           "ticks": "",
           "title": {
            "standoff": 15
           },
           "zerolinecolor": "white",
           "zerolinewidth": 2
          }
         }
        },
        "title": {
         "font": {
          "size": 24
         },
         "text": "생리학적분류별 자세보조용구와 휠체어 사용시간 상관관계",
         "x": 0.5
        },
        "xaxis": {
         "anchor": "y",
         "autorange": true,
         "domain": [
          0,
          0.235
         ],
         "range": [
          -2.2856508121266734,
          30.285650812126672
         ],
         "showgrid": false,
         "title": {
          "text": "휠체어 사용기간"
         },
         "type": "linear"
        },
        "xaxis2": {
         "anchor": "y2",
         "autorange": true,
         "domain": [
          0.255,
          0.49
         ],
         "matches": "x",
         "range": [
          -2.2856508121266734,
          30.285650812126672
         ],
         "showgrid": false,
         "title": {
          "text": "휠체어 사용기간"
         },
         "type": "linear"
        },
        "xaxis3": {
         "anchor": "y3",
         "autorange": true,
         "domain": [
          0.51,
          0.745
         ],
         "matches": "x",
         "range": [
          -2.2856508121266734,
          30.285650812126672
         ],
         "showgrid": false,
         "title": {
          "text": "휠체어 사용기간"
         },
         "type": "linear"
        },
        "xaxis4": {
         "anchor": "y4",
         "autorange": true,
         "domain": [
          0.7649999999999999,
          0.9999999999999999
         ],
         "matches": "x",
         "range": [
          -2.2856508121266734,
          30.285650812126672
         ],
         "showgrid": false,
         "title": {
          "text": "휠체어 사용기간"
         },
         "type": "linear"
        },
        "yaxis": {
         "anchor": "x",
         "autorange": true,
         "domain": [
          0,
          1
         ],
         "range": [
          -2.2281553398058254,
          29.228155339805824
         ],
         "title": {
          "text": "자세보조용구 사용기간"
         },
         "type": "linear"
        },
        "yaxis2": {
         "anchor": "x2",
         "autorange": true,
         "domain": [
          0,
          1
         ],
         "matches": "y",
         "range": [
          -2.2281553398058254,
          29.228155339805824
         ],
         "showticklabels": false,
         "type": "linear"
        },
        "yaxis3": {
         "anchor": "x3",
         "autorange": true,
         "domain": [
          0,
          1
         ],
         "matches": "y",
         "range": [
          -2.2281553398058254,
          29.228155339805824
         ],
         "showticklabels": false,
         "type": "linear"
        },
        "yaxis4": {
         "anchor": "x4",
         "autorange": true,
         "domain": [
          0,
          1
         ],
         "matches": "y",
         "range": [
          -2.2281553398058254,
          29.228155339805824
         ],
         "showticklabels": false,
         "type": "linear"
        }
       }
      },
      "image/png": "[encoded data removed]",
      "text/html": [
       "<div>                            <div id=\"d09c69d6-7846-4dba-ac73-fcdedb70148e\" class=\"plotly-graph-div\" style=\"height:525px; width:100%;\"></div>            <script type=\"text/javascript\">                require([\"plotly\"], function(Plotly) {                    window.PLOTLYENV=window.PLOTLYENV || {};                                    if (document.getElementById(\"d09c69d6-7846-4dba-ac73-fcdedb70148e\")) {                    Plotly.newPlot(                        \"d09c69d6-7846-4dba-ac73-fcdedb70148e\",                        [{\"hovertemplate\":\"\\uc0dd\\ub9ac\\ud559\\uc801\\ubd84\\ub958=1<br>\\ud720\\uccb4\\uc5b4 \\uc0ac\\uc6a9\\uae30\\uac04=%{x}<br>\\uc790\\uc138\\ubcf4\\uc870\\uc6a9\\uad6c \\uc0ac\\uc6a9\\uae30\\uac04=%{y}<extra></extra>\",\"legendgroup\":\"1\",\"marker\":{\"color\":\"#636efa\",\"symbol\":\"circle\"},\"mode\":\"markers\",\"name\":\"1\",\"orientation\":\"v\",\"showlegend\":true,\"type\":\"scatter\",\"x\":[8,6,7,2,8,8,8,7,4,28,10,10,19,12,17,10,15,4,3,6,10,4,7,15,7,9,12,6,4,6,1,9,18,19,9,18,13,16,16,7,6,8],\"xaxis\":\"x\",\"y\":[8,2,7,2,8,12,11,7,4,2,10,8,14,8,11,9,15,5,3,4,10,2,9,15,7,8,11,5,1,6,3,10,16,14,9,18,12,16,7,7,7,8],\"yaxis\":\"y\"},{\"hovertemplate\":\"<b>OLS trendline</b><br>\\uc790\\uc138\\ubcf4\\uc870\\uc6a9\\uad6c \\uc0ac\\uc6a9\\uae30\\uac04 = 0.467834 * \\ud720\\uccb4\\uc5b4 \\uc0ac\\uc6a9\\uae30\\uac04 + 3.76792<br>R<sup>2</sup>=0.365844<br><br>\\uc0dd\\ub9ac\\ud559\\uc801\\ubd84\\ub958=1<br>\\ud720\\uccb4\\uc5b4 \\uc0ac\\uc6a9\\uae30\\uac04=%{x}<br>\\uc790\\uc138\\ubcf4\\uc870\\uc6a9\\uad6c \\uc0ac\\uc6a9\\uae30\\uac04=%{y} <b>(trend)</b><extra></extra>\",\"legendgroup\":\"1\",\"line\":{\"dash\":\"dot\",\"width\":4},\"marker\":{\"color\":\"#636efa\",\"symbol\":\"circle\"},\"mode\":\"lines\",\"name\":\"1\",\"showlegend\":false,\"type\":\"scatter\",\"x\":[1,2,3,4,4,4,4,6,6,6,6,6,7,7,7,7,7,8,8,8,8,8,9,9,9,10,10,10,10,12,12,13,15,15,16,16,17,18,18,19,19,28],\"xaxis\":\"x\",\"y\":[4.235749185667751,4.703583061889249,5.171416938110748,5.639250814332247,5.639250814332247,5.639250814332247,5.639250814332247,6.574918566775244,6.574918566775244,6.574918566775244,6.574918566775244,6.574918566775244,7.042752442996742,7.042752442996742,7.042752442996742,7.042752442996742,7.042752442996742,7.510586319218241,7.510586319218241,7.510586319218241,7.510586319218241,7.510586319218241,7.978420195439739,7.978420195439739,7.978420195439739,8.446254071661238,8.446254071661238,8.446254071661238,8.446254071661238,9.381921824104234,9.381921824104234,9.849755700325733,10.78542345276873,10.78542345276873,11.253257328990228,11.253257328990228,11.721091205211728,12.188925081433226,12.188925081433226,12.656758957654723,12.656758957654723,16.86726384364821],\"yaxis\":\"y\"},{\"hovertemplate\":\"\\uc0dd\\ub9ac\\ud559\\uc801\\ubd84\\ub958=2<br>\\ud720\\uccb4\\uc5b4 \\uc0ac\\uc6a9\\uae30\\uac04=%{x}<br>\\uc790\\uc138\\ubcf4\\uc870\\uc6a9\\uad6c \\uc0ac\\uc6a9\\uae30\\uac04=%{y}<extra></extra>\",\"legendgroup\":\"2\",\"marker\":{\"color\":\"#EF553B\",\"symbol\":\"circle\"},\"mode\":\"markers\",\"name\":\"2\",\"orientation\":\"v\",\"showlegend\":true,\"type\":\"scatter\",\"x\":[3,11,17,9,7],\"xaxis\":\"x2\",\"y\":[3,11,19,9,6],\"yaxis\":\"y2\"},{\"hovertemplate\":\"<b>OLS trendline</b><br>\\uc790\\uc138\\ubcf4\\uc870\\uc6a9\\uad6c \\uc0ac\\uc6a9\\uae30\\uac04 = 1.16418 * \\ud720\\uccb4\\uc5b4 \\uc0ac\\uc6a9\\uae30\\uac04 + -1.34328<br>R<sup>2</sup>=0.987021<br><br>\\uc0dd\\ub9ac\\ud559\\uc801\\ubd84\\ub958=2<br>\\ud720\\uccb4\\uc5b4 \\uc0ac\\uc6a9\\uae30\\uac04=%{x}<br>\\uc790\\uc138\\ubcf4\\uc870\\uc6a9\\uad6c \\uc0ac\\uc6a9\\uae30\\uac04=%{y} <b>(trend)</b><extra></extra>\",\"legendgroup\":\"2\",\"line\":{\"dash\":\"dot\",\"width\":4},\"marker\":{\"color\":\"#EF553B\",\"symbol\":\"circle\"},\"mode\":\"lines\",\"name\":\"2\",\"showlegend\":false,\"type\":\"scatter\",\"x\":[3,7,9,11,17],\"xaxis\":\"x2\",\"y\":[2.1492537313432845,6.805970149253733,9.134328358208956,11.46268656716418,18.44776119402985],\"yaxis\":\"y2\"},{\"hovertemplate\":\"\\uc0dd\\ub9ac\\ud559\\uc801\\ubd84\\ub958=3<br>\\ud720\\uccb4\\uc5b4 \\uc0ac\\uc6a9\\uae30\\uac04=%{x}<br>\\uc790\\uc138\\ubcf4\\uc870\\uc6a9\\uad6c \\uc0ac\\uc6a9\\uae30\\uac04=%{y}<extra></extra>\",\"legendgroup\":\"3\",\"marker\":{\"color\":\"#00cc96\",\"symbol\":\"circle\"},\"mode\":\"markers\",\"name\":\"3\",\"orientation\":\"v\",\"showlegend\":true,\"type\":\"scatter\",\"x\":[15,5,1,2,1,0,3,0,4,4,0,6,13],\"xaxis\":\"x3\",\"y\":[12,3,2,2,2,3,5,1,0,4,0,6,6],\"yaxis\":\"y3\"},{\"hovertemplate\":\"<b>OLS trendline</b><br>\\uc790\\uc138\\ubcf4\\uc870\\uc6a9\\uad6c \\uc0ac\\uc6a9\\uae30\\uac04 = 0.565097 * \\ud720\\uccb4\\uc5b4 \\uc0ac\\uc6a9\\uae30\\uac04 + 1.19114<br>R<sup>2</sup>=0.708107<br><br>\\uc0dd\\ub9ac\\ud559\\uc801\\ubd84\\ub958=3<br>\\ud720\\uccb4\\uc5b4 \\uc0ac\\uc6a9\\uae30\\uac04=%{x}<br>\\uc790\\uc138\\ubcf4\\uc870\\uc6a9\\uad6c \\uc0ac\\uc6a9\\uae30\\uac04=%{y} <b>(trend)</b><extra></extra>\",\"legendgroup\":\"3\",\"line\":{\"dash\":\"dot\",\"width\":4},\"marker\":{\"color\":\"#00cc96\",\"symbol\":\"circle\"},\"mode\":\"lines\",\"name\":\"3\",\"showlegend\":false,\"type\":\"scatter\",\"x\":[0,0,0,1,1,2,3,4,4,5,6,13,15],\"xaxis\":\"x3\",\"y\":[1.1911357340720214,1.1911357340720214,1.1911357340720214,1.7562326869806089,1.7562326869806089,2.3213296398891963,2.8864265927977835,3.451523545706371,3.451523545706371,4.016620498614959,4.581717451523546,8.537396121883658,9.667590027700832],\"yaxis\":\"y3\"},{\"hovertemplate\":\"\\uc0dd\\ub9ac\\ud559\\uc801\\ubd84\\ub958=4<br>\\ud720\\uccb4\\uc5b4 \\uc0ac\\uc6a9\\uae30\\uac04=%{x}<br>\\uc790\\uc138\\ubcf4\\uc870\\uc6a9\\uad6c \\uc0ac\\uc6a9\\uae30\\uac04=%{y}<extra></extra>\",\"legendgroup\":\"4\",\"marker\":{\"color\":\"#ab63fa\",\"symbol\":\"circle\"},\"mode\":\"markers\",\"name\":\"4\",\"orientation\":\"v\",\"showlegend\":true,\"type\":\"scatter\",\"x\":[9,13,11,0,5,4,1,1,16,4,3,17,1,8,20,14,16,2,7,14,5,3,18,11,7,16,7,11,6,4,7,9,10,8,2,8,20,6,18,7,11,2,3,6,8,6,5,5,12,11,28,4],\"xaxis\":\"x4\",\"y\":[4,15,9,0,3,4,1,1,15,4,1,14,4,8,10,14,16,1,3,12,2,4,6,9,7,16,7,9,5,2,7,9,10,8,2,3,12,6,11,3,8,7,3,6,8,6,3,5,11,11,27,2],\"yaxis\":\"y4\"},{\"hovertemplate\":\"<b>OLS trendline</b><br>\\uc790\\uc138\\ubcf4\\uc870\\uc6a9\\uad6c \\uc0ac\\uc6a9\\uae30\\uac04 = 0.756676 * \\ud720\\uccb4\\uc5b4 \\uc0ac\\uc6a9\\uae30\\uac04 + 0.644154<br>R<sup>2</sup>=0.760760<br><br>\\uc0dd\\ub9ac\\ud559\\uc801\\ubd84\\ub958=4<br>\\ud720\\uccb4\\uc5b4 \\uc0ac\\uc6a9\\uae30\\uac04=%{x}<br>\\uc790\\uc138\\ubcf4\\uc870\\uc6a9\\uad6c \\uc0ac\\uc6a9\\uae30\\uac04=%{y} <b>(trend)</b><extra></extra>\",\"legendgroup\":\"4\",\"line\":{\"dash\":\"dot\",\"width\":4},\"marker\":{\"color\":\"#ab63fa\",\"symbol\":\"circle\"},\"mode\":\"lines\",\"name\":\"4\",\"showlegend\":false,\"type\":\"scatter\",\"x\":[0,1,1,1,2,2,2,3,3,3,4,4,4,4,5,5,5,5,6,6,6,6,7,7,7,7,7,8,8,8,8,9,9,10,11,11,11,11,11,12,13,14,14,16,16,16,17,18,18,20,20,28],\"xaxis\":\"x4\",\"y\":[0.6441538656849053,1.4008294189835384,1.4008294189835384,1.4008294189835384,2.1575049722821715,2.1575049722821715,2.1575049722821715,2.9141805255808046,2.9141805255808046,2.9141805255808046,3.6708560788794378,3.6708560788794378,3.6708560788794378,3.6708560788794378,4.427531632178071,4.427531632178071,4.427531632178071,4.427531632178071,5.184207185476704,5.184207185476704,5.184207185476704,5.184207185476704,5.940882738775337,5.940882738775337,5.940882738775337,5.940882738775337,5.940882738775337,6.69755829207397,6.69755829207397,6.69755829207397,6.69755829207397,7.454233845372603,7.454233845372603,8.210909398671237,8.967584951969869,8.967584951969869,8.967584951969869,8.967584951969869,8.967584951969869,9.724260505268504,10.480936058567135,11.23761161186577,11.23761161186577,12.750962718463036,12.750962718463036,12.750962718463036,13.507638271761667,14.264313825060302,14.264313825060302,15.777664931657569,15.777664931657569,21.831069358046634],\"yaxis\":\"y4\"}],                        {\"annotations\":[{\"font\":{},\"showarrow\":false,\"text\":\"\\uc0dd\\ub9ac\\ud559\\uc801\\ubd84\\ub958=1\",\"x\":0.1175,\"xanchor\":\"center\",\"xref\":\"paper\",\"y\":1.0,\"yanchor\":\"bottom\",\"yref\":\"paper\"},{\"font\":{},\"showarrow\":false,\"text\":\"\\uc0dd\\ub9ac\\ud559\\uc801\\ubd84\\ub958=2\",\"x\":0.3725,\"xanchor\":\"center\",\"xref\":\"paper\",\"y\":1.0,\"yanchor\":\"bottom\",\"yref\":\"paper\"},{\"font\":{},\"showarrow\":false,\"text\":\"\\uc0dd\\ub9ac\\ud559\\uc801\\ubd84\\ub958=3\",\"x\":0.6275,\"xanchor\":\"center\",\"xref\":\"paper\",\"y\":1.0,\"yanchor\":\"bottom\",\"yref\":\"paper\"},{\"font\":{},\"showarrow\":false,\"text\":\"\\uc0dd\\ub9ac\\ud559\\uc801\\ubd84\\ub958=4\",\"x\":0.8824999999999998,\"xanchor\":\"center\",\"xref\":\"paper\",\"y\":1.0,\"yanchor\":\"bottom\",\"yref\":\"paper\"}],\"legend\":{\"title\":{\"text\":\"\\uc0dd\\ub9ac\\ud559\\uc801\\ubd84\\ub958\"},\"tracegroupgap\":0},\"template\":{\"data\":{\"bar\":[{\"error_x\":{\"color\":\"#2a3f5f\"},\"error_y\":{\"color\":\"#2a3f5f\"},\"marker\":{\"line\":{\"color\":\"#E5ECF6\",\"width\":0.5},\"pattern\":{\"fillmode\":\"overlay\",\"size\":10,\"solidity\":0.2}},\"type\":\"bar\"}],\"barpolar\":[{\"marker\":{\"line\":{\"color\":\"#E5ECF6\",\"width\":0.5},\"pattern\":{\"fillmode\":\"overlay\",\"size\":10,\"solidity\":0.2}},\"type\":\"barpolar\"}],\"carpet\":[{\"aaxis\":{\"endlinecolor\":\"#2a3f5f\",\"gridcolor\":\"white\",\"linecolor\":\"white\",\"minorgridcolor\":\"white\",\"startlinecolor\":\"#2a3f5f\"},\"baxis\":{\"endlinecolor\":\"#2a3f5f\",\"gridcolor\":\"white\",\"linecolor\":\"white\",\"minorgridcolor\":\"white\",\"startlinecolor\":\"#2a3f5f\"},\"type\":\"carpet\"}],\"choropleth\":[{\"colorbar\":{\"outlinewidth\":0,\"ticks\":\"\"},\"type\":\"choropleth\"}],\"contour\":[{\"colorbar\":{\"outlinewidth\":0,\"ticks\":\"\"},\"colorscale\":[[0.0,\"#0d0887\"],[0.1111111111111111,\"#46039f\"],[0.2222222222222222,\"#7201a8\"],[0.3333333333333333,\"#9c179e\"],[0.4444444444444444,\"#bd3786\"],[0.5555555555555556,\"#d8576b\"],[0.6666666666666666,\"#ed7953\"],[0.7777777777777778,\"#fb9f3a\"],[0.8888888888888888,\"#fdca26\"],[1.0,\"#f0f921\"]],\"type\":\"contour\"}],\"contourcarpet\":[{\"colorbar\":{\"outlinewidth\":0,\"ticks\":\"\"},\"type\":\"contourcarpet\"}],\"heatmap\":[{\"colorbar\":{\"outlinewidth\":0,\"ticks\":\"\"},\"colorscale\":[[0.0,\"#0d0887\"],[0.1111111111111111,\"#46039f\"],[0.2222222222222222,\"#7201a8\"],[0.3333333333333333,\"#9c179e\"],[0.4444444444444444,\"#bd3786\"],[0.5555555555555556,\"#d8576b\"],[0.6666666666666666,\"#ed7953\"],[0.7777777777777778,\"#fb9f3a\"],[0.8888888888888888,\"#fdca26\"],[1.0,\"#f0f921\"]],\"type\":\"heatmap\"}],\"heatmapgl\":[{\"colorbar\":{\"outlinewidth\":0,\"ticks\":\"\"},\"colorscale\":[[0.0,\"#0d0887\"],[0.1111111111111111,\"#46039f\"],[0.2222222222222222,\"#7201a8\"],[0.3333333333333333,\"#9c179e\"],[0.4444444444444444,\"#bd3786\"],[0.5555555555555556,\"#d8576b\"],[0.6666666666666666,\"#ed7953\"],[0.7777777777777778,\"#fb9f3a\"],[0.8888888888888888,\"#fdca26\"],[1.0,\"#f0f921\"]],\"type\":\"heatmapgl\"}],\"histogram\":[{\"marker\":{\"pattern\":{\"fillmode\":\"overlay\",\"size\":10,\"solidity\":0.2}},\"type\":\"histogram\"}],\"histogram2d\":[{\"colorbar\":{\"outlinewidth\":0,\"ticks\":\"\"},\"colorscale\":[[0.0,\"#0d0887\"],[0.1111111111111111,\"#46039f\"],[0.2222222222222222,\"#7201a8\"],[0.3333333333333333,\"#9c179e\"],[0.4444444444444444,\"#bd3786\"],[0.5555555555555556,\"#d8576b\"],[0.6666666666666666,\"#ed7953\"],[0.7777777777777778,\"#fb9f3a\"],[0.8888888888888888,\"#fdca26\"],[1.0,\"#f0f921\"]],\"type\":\"histogram2d\"}],\"histogram2dcontour\":[{\"colorbar\":{\"outlinewidth\":0,\"ticks\":\"\"},\"colorscale\":[[0.0,\"#0d0887\"],[0.1111111111111111,\"#46039f\"],[0.2222222222222222,\"#7201a8\"],[0.3333333333333333,\"#9c179e\"],[0.4444444444444444,\"#bd3786\"],[0.5555555555555556,\"#d8576b\"],[0.6666666666666666,\"#ed7953\"],[0.7777777777777778,\"#fb9f3a\"],[0.8888888888888888,\"#fdca26\"],[1.0,\"#f0f921\"]],\"type\":\"histogram2dcontour\"}],\"mesh3d\":[{\"colorbar\":{\"outlinewidth\":0,\"ticks\":\"\"},\"type\":\"mesh3d\"}],\"parcoords\":[{\"line\":{\"colorbar\":{\"outlinewidth\":0,\"ticks\":\"\"}},\"type\":\"parcoords\"}],\"pie\":[{\"automargin\":true,\"type\":\"pie\"}],\"scatter\":[{\"marker\":{\"colorbar\":{\"outlinewidth\":0,\"ticks\":\"\"}},\"type\":\"scatter\"}],\"scatter3d\":[{\"line\":{\"colorbar\":{\"outlinewidth\":0,\"ticks\":\"\"}},\"marker\":{\"colorbar\":{\"outlinewidth\":0,\"ticks\":\"\"}},\"type\":\"scatter3d\"}],\"scattercarpet\":[{\"marker\":{\"colorbar\":{\"outlinewidth\":0,\"ticks\":\"\"}},\"type\":\"scattercarpet\"}],\"scattergeo\":[{\"marker\":{\"colorbar\":{\"outlinewidth\":0,\"ticks\":\"\"}},\"type\":\"scattergeo\"}],\"scattergl\":[{\"marker\":{\"colorbar\":{\"outlinewidth\":0,\"ticks\":\"\"}},\"type\":\"scattergl\"}],\"scattermapbox\":[{\"marker\":{\"colorbar\":{\"outlinewidth\":0,\"ticks\":\"\"}},\"type\":\"scattermapbox\"}],\"scatterpolar\":[{\"marker\":{\"colorbar\":{\"outlinewidth\":0,\"ticks\":\"\"}},\"type\":\"scatterpolar\"}],\"scatterpolargl\":[{\"marker\":{\"colorbar\":{\"outlinewidth\":0,\"ticks\":\"\"}},\"type\":\"scatterpolargl\"}],\"scatterternary\":[{\"marker\":{\"colorbar\":{\"outlinewidth\":0,\"ticks\":\"\"}},\"type\":\"scatterternary\"}],\"surface\":[{\"colorbar\":{\"outlinewidth\":0,\"ticks\":\"\"},\"colorscale\":[[0.0,\"#0d0887\"],[0.1111111111111111,\"#46039f\"],[0.2222222222222222,\"#7201a8\"],[0.3333333333333333,\"#9c179e\"],[0.4444444444444444,\"#bd3786\"],[0.5555555555555556,\"#d8576b\"],[0.6666666666666666,\"#ed7953\"],[0.7777777777777778,\"#fb9f3a\"],[0.8888888888888888,\"#fdca26\"],[1.0,\"#f0f921\"]],\"type\":\"surface\"}],\"table\":[{\"cells\":{\"fill\":{\"color\":\"#EBF0F8\"},\"line\":{\"color\":\"white\"}},\"header\":{\"fill\":{\"color\":\"#C8D4E3\"},\"line\":{\"color\":\"white\"}},\"type\":\"table\"}]},\"layout\":{\"annotationdefaults\":{\"arrowcolor\":\"#2a3f5f\",\"arrowhead\":0,\"arrowwidth\":1},\"autotypenumbers\":\"strict\",\"coloraxis\":{\"colorbar\":{\"outlinewidth\":0,\"ticks\":\"\"}},\"colorscale\":{\"diverging\":[[0,\"#8e0152\"],[0.1,\"#c51b7d\"],[0.2,\"#de77ae\"],[0.3,\"#f1b6da\"],[0.4,\"#fde0ef\"],[0.5,\"#f7f7f7\"],[0.6,\"#e6f5d0\"],[0.7,\"#b8e186\"],[0.8,\"#7fbc41\"],[0.9,\"#4d9221\"],[1,\"#276419\"]],\"sequential\":[[0.0,\"#0d0887\"],[0.1111111111111111,\"#46039f\"],[0.2222222222222222,\"#7201a8\"],[0.3333333333333333,\"#9c179e\"],[0.4444444444444444,\"#bd3786\"],[0.5555555555555556,\"#d8576b\"],[0.6666666666666666,\"#ed7953\"],[0.7777777777777778,\"#fb9f3a\"],[0.8888888888888888,\"#fdca26\"],[1.0,\"#f0f921\"]],\"sequentialminus\":[[0.0,\"#0d0887\"],[0.1111111111111111,\"#46039f\"],[0.2222222222222222,\"#7201a8\"],[0.3333333333333333,\"#9c179e\"],[0.4444444444444444,\"#bd3786\"],[0.5555555555555556,\"#d8576b\"],[0.6666666666666666,\"#ed7953\"],[0.7777777777777778,\"#fb9f3a\"],[0.8888888888888888,\"#fdca26\"],[1.0,\"#f0f921\"]]},\"colorway\":[\"#636efa\",\"#EF553B\",\"#00cc96\",\"#ab63fa\",\"#FFA15A\",\"#19d3f3\",\"#FF6692\",\"#B6E880\",\"#FF97FF\",\"#FECB52\"],\"font\":{\"color\":\"#2a3f5f\"},\"geo\":{\"bgcolor\":\"white\",\"lakecolor\":\"white\",\"landcolor\":\"#E5ECF6\",\"showlakes\":true,\"showland\":true,\"subunitcolor\":\"white\"},\"hoverlabel\":{\"align\":\"left\"},\"hovermode\":\"closest\",\"mapbox\":{\"style\":\"light\"},\"paper_bgcolor\":\"white\",\"plot_bgcolor\":\"#E5ECF6\",\"polar\":{\"angularaxis\":{\"gridcolor\":\"white\",\"linecolor\":\"white\",\"ticks\":\"\"},\"bgcolor\":\"#E5ECF6\",\"radialaxis\":{\"gridcolor\":\"white\",\"linecolor\":\"white\",\"ticks\":\"\"}},\"scene\":{\"xaxis\":{\"backgroundcolor\":\"#E5ECF6\",\"gridcolor\":\"white\",\"gridwidth\":2,\"linecolor\":\"white\",\"showbackground\":true,\"ticks\":\"\",\"zerolinecolor\":\"white\"},\"yaxis\":{\"backgroundcolor\":\"#E5ECF6\",\"gridcolor\":\"white\",\"gridwidth\":2,\"linecolor\":\"white\",\"showbackground\":true,\"ticks\":\"\",\"zerolinecolor\":\"white\"},\"zaxis\":{\"backgroundcolor\":\"#E5ECF6\",\"gridcolor\":\"white\",\"gridwidth\":2,\"linecolor\":\"white\",\"showbackground\":true,\"ticks\":\"\",\"zerolinecolor\":\"white\"}},\"shapedefaults\":{\"line\":{\"color\":\"#2a3f5f\"}},\"ternary\":{\"aaxis\":{\"gridcolor\":\"white\",\"linecolor\":\"white\",\"ticks\":\"\"},\"baxis\":{\"gridcolor\":\"white\",\"linecolor\":\"white\",\"ticks\":\"\"},\"bgcolor\":\"#E5ECF6\",\"caxis\":{\"gridcolor\":\"white\",\"linecolor\":\"white\",\"ticks\":\"\"}},\"title\":{\"x\":0.05},\"xaxis\":{\"automargin\":true,\"gridcolor\":\"white\",\"linecolor\":\"white\",\"ticks\":\"\",\"title\":{\"standoff\":15},\"zerolinecolor\":\"white\",\"zerolinewidth\":2},\"yaxis\":{\"automargin\":true,\"gridcolor\":\"white\",\"linecolor\":\"white\",\"ticks\":\"\",\"title\":{\"standoff\":15},\"zerolinecolor\":\"white\",\"zerolinewidth\":2}}},\"title\":{\"font\":{\"size\":24},\"text\":\"\\uc0dd\\ub9ac\\ud559\\uc801\\ubd84\\ub958\\ubcc4 \\uc790\\uc138\\ubcf4\\uc870\\uc6a9\\uad6c\\uc640 \\ud720\\uccb4\\uc5b4 \\uc0ac\\uc6a9\\uc2dc\\uac04 \\uc0c1\\uad00\\uad00\\uacc4\",\"x\":0.5},\"xaxis\":{\"anchor\":\"y\",\"domain\":[0.0,0.235],\"showgrid\":false,\"title\":{\"text\":\"\\ud720\\uccb4\\uc5b4 \\uc0ac\\uc6a9\\uae30\\uac04\"}},\"xaxis2\":{\"anchor\":\"y2\",\"domain\":[0.255,0.49],\"matches\":\"x\",\"showgrid\":false,\"title\":{\"text\":\"\\ud720\\uccb4\\uc5b4 \\uc0ac\\uc6a9\\uae30\\uac04\"}},\"xaxis3\":{\"anchor\":\"y3\",\"domain\":[0.51,0.745],\"matches\":\"x\",\"showgrid\":false,\"title\":{\"text\":\"\\ud720\\uccb4\\uc5b4 \\uc0ac\\uc6a9\\uae30\\uac04\"}},\"xaxis4\":{\"anchor\":\"y4\",\"domain\":[0.7649999999999999,0.9999999999999999],\"matches\":\"x\",\"showgrid\":false,\"title\":{\"text\":\"\\ud720\\uccb4\\uc5b4 \\uc0ac\\uc6a9\\uae30\\uac04\"}},\"yaxis\":{\"anchor\":\"x\",\"domain\":[0.0,1.0],\"title\":{\"text\":\"\\uc790\\uc138\\ubcf4\\uc870\\uc6a9\\uad6c \\uc0ac\\uc6a9\\uae30\\uac04\"}},\"yaxis2\":{\"anchor\":\"x2\",\"domain\":[0.0,1.0],\"matches\":\"y\",\"showticklabels\":false},\"yaxis3\":{\"anchor\":\"x3\",\"domain\":[0.0,1.0],\"matches\":\"y\",\"showticklabels\":false},\"yaxis4\":{\"anchor\":\"x4\",\"domain\":[0.0,1.0],\"matches\":\"y\",\"showticklabels\":false}},                        {\"responsive\": true}                    ).then(function(){\n",
       "                            \n",
       "var gd = document.getElementById('d09c69d6-7846-4dba-ac73-fcdedb70148e');\n",
       "var x = new MutationObserver(function (mutations, observer) {{\n",
       "        var display = window.getComputedStyle(gd).display;\n",
       "        if (!display || display === 'none') {{\n",
       "            console.log([gd, 'removed!']);\n",
       "            Plotly.purge(gd);\n",
       "            observer.disconnect();\n",
       "        }}\n",
       "}});\n",
       "\n",
       "// Listen for the removal of the full notebook cells\n",
       "var notebookContainer = gd.closest('#notebook-container');\n",
       "if (notebookContainer) {{\n",
       "    x.observe(notebookContainer, {childList: true});\n",
       "}}\n",
       "\n",
       "// Listen for the clearing of the current output cell\n",
       "var outputEl = gd.closest('.output');\n",
       "if (outputEl) {{\n",
       "    x.observe(outputEl, {childList: true});\n",
       "}}\n",
       "\n",
       "                        })                };                });            </script>        </div>"
      ]
     },
     "metadata": {},
     "output_type": "display_data"
    }
   ],
   "source": [
    "df2 = df.sort_values(by=['생리학적분류'], ascending=True)\n",
    "fig=px.scatter(df2, x=\"휠체어 사용기간\", y=\"자세보조용구 사용기간\", color=\"생리학적분류\",\n",
    "            facet_col=\"생리학적분류\", trendline=\"ols\",\n",
    "            title=\"생리학적분류별 자세보조용구와 휠체어 사용시간 상관관계\")\n",
    "fig.update_layout(title_font_size=24,title_x=0.5)\n",
    "fig.update_xaxes(showgrid=False)\n",
    "fig.update_traces(\n",
    "     line=dict(dash=\"dot\", width=4),\n",
    "     selector=dict(type=\"scatter\", mode=\"lines\"))\n",
    "fig.show()"
   ]
  },
  {
   "cell_type": "code",
   "execution_count": 185,
   "id": "9fa7fcbf-ce6c-4043-bc85-c8e8cfd24663",
   "metadata": {},
   "outputs": [
    {
     "data": {
      "text/plain": [
       "'생리학적분류별 자세보조용구와 휠체어 사용시간 상관관계.html'"
      ]
     },
     "execution_count": 185,
     "metadata": {},
     "output_type": "execute_result"
    }
   ],
   "source": [
    "plotly.offline.plot(fig,filename='생리학적분류별 자세보조용구와 휠체어 사용시간 상관관계.html',config={'displayModeBar': True}) #html로 내보내기, bar 조정 불가하게 "
   ]
  },
  {
   "cell_type": "code",
   "execution_count": 186,
   "id": "31e0042d-4560-4b36-9ad1-e4122369e275",
   "metadata": {},
   "outputs": [
    {
     "data": {
      "application/vnd.plotly.v1+json": {
       "config": {
        "plotlyServerURL": "https://plot.ly"
       },
       "data": [
        {
         "hovertemplate": "해부학적분류=1<br>휠체어 사용기간=%{x}<br>자세보조용구 사용기간=%{y}<extra></extra>",
         "legendgroup": "1",
         "marker": {
          "color": "#636efa",
          "symbol": "circle"
         },
         "mode": "markers",
         "name": "1",
         "orientation": "v",
         "showlegend": true,
         "type": "scatter",
         "x": [
          10,
          12,
          13,
          13,
          0,
          15,
          1
         ],
         "xaxis": "x",
         "y": [
          10,
          11,
          12,
          15,
          0,
          15,
          2
         ],
         "yaxis": "y"
        },
        {
         "hovertemplate": "<b>OLS trendline</b><br>자세보조용구 사용기간 = 0.967949 * 휠체어 사용기간 + 0.435897<br>R<sup>2</sup>=0.969232<br><br>해부학적분류=1<br>휠체어 사용기간=%{x}<br>자세보조용구 사용기간=%{y} <b>(trend)</b><extra></extra>",
         "legendgroup": "1",
         "line": {
          "dash": "dot",
          "width": 4
         },
         "marker": {
          "color": "#636efa",
          "symbol": "circle"
         },
         "mode": "lines",
         "name": "1",
         "showlegend": false,
         "type": "scatter",
         "x": [
          0,
          1,
          10,
          12,
          13,
          13,
          15
         ],
         "xaxis": "x",
         "y": [
          0.43589743589743546,
          1.4038461538461537,
          10.115384615384619,
          12.051282051282055,
          13.019230769230772,
          13.019230769230772,
          14.955128205128208
         ],
         "yaxis": "y"
        },
        {
         "hovertemplate": "해부학적분류=2<br>휠체어 사용기간=%{x}<br>자세보조용구 사용기간=%{y}<extra></extra>",
         "legendgroup": "2",
         "marker": {
          "color": "#EF553B",
          "symbol": "circle"
         },
         "mode": "markers",
         "name": "2",
         "orientation": "v",
         "showlegend": true,
         "type": "scatter",
         "x": [
          2,
          1,
          5,
          4,
          4,
          3,
          8,
          16,
          15,
          5
         ],
         "xaxis": "x2",
         "y": [
          7,
          2,
          3,
          4,
          2,
          1,
          8,
          16,
          12,
          2
         ],
         "yaxis": "y2"
        },
        {
         "hovertemplate": "<b>OLS trendline</b><br>자세보조용구 사용기간 = 0.855797 * 휠체어 사용기간 + 0.30848<br>R<sup>2</sup>=0.790694<br><br>해부학적분류=2<br>휠체어 사용기간=%{x}<br>자세보조용구 사용기간=%{y} <b>(trend)</b><extra></extra>",
         "legendgroup": "2",
         "line": {
          "dash": "dot",
          "width": 4
         },
         "marker": {
          "color": "#EF553B",
          "symbol": "circle"
         },
         "mode": "lines",
         "name": "2",
         "showlegend": false,
         "type": "scatter",
         "x": [
          1,
          2,
          3,
          4,
          4,
          5,
          5,
          8,
          15,
          16
         ],
         "xaxis": "x2",
         "y": [
          1.1642769356820974,
          2.020073740270381,
          2.8758705448586643,
          3.731667349446948,
          3.731667349446948,
          4.5874641540352314,
          4.5874641540352314,
          7.154854567800083,
          13.145432199918067,
          14.001229004506351
         ],
         "yaxis": "y2"
        },
        {
         "hovertemplate": "해부학적분류=3<br>휠체어 사용기간=%{x}<br>자세보조용구 사용기간=%{y}<extra></extra>",
         "legendgroup": "3",
         "marker": {
          "color": "#00cc96",
          "symbol": "circle"
         },
         "mode": "markers",
         "name": "3",
         "orientation": "v",
         "showlegend": true,
         "type": "scatter",
         "x": [
          12,
          6,
          3,
          18,
          15,
          4,
          28,
          2,
          18,
          20,
          10,
          2,
          17,
          10,
          9,
          7,
          12,
          19,
          8,
          6,
          5,
          20,
          9,
          14,
          7,
          0,
          7,
          7,
          0,
          10,
          6,
          4,
          9,
          2,
          3,
          6,
          3,
          4,
          6,
          5,
          1,
          1,
          11,
          7,
          18,
          9,
          19,
          6,
          11,
          7,
          16,
          18,
          4,
          3,
          8,
          11,
          11,
          16,
          16,
          0,
          5,
          16,
          4,
          17,
          6,
          8,
          7,
          10,
          3,
          6,
          28,
          7,
          4,
          17,
          7,
          8,
          8,
          8,
          8,
          7,
          2,
          7,
          11,
          1,
          1,
          6,
          13,
          8,
          6,
          14,
          4,
          9,
          11,
          9,
          4
         ],
         "xaxis": "x3",
         "y": [
          11,
          6,
          3,
          6,
          15,
          4,
          27,
          1,
          11,
          12,
          9,
          2,
          11,
          10,
          9,
          7,
          8,
          14,
          8,
          6,
          5,
          10,
          8,
          14,
          7,
          3,
          9,
          3,
          1,
          10,
          4,
          0,
          9,
          2,
          4,
          6,
          3,
          5,
          5,
          3,
          4,
          3,
          9,
          7,
          18,
          9,
          14,
          5,
          9,
          7,
          16,
          16,
          2,
          5,
          3,
          8,
          11,
          16,
          7,
          0,
          3,
          15,
          4,
          14,
          7,
          8,
          6,
          8,
          3,
          6,
          2,
          7,
          4,
          19,
          7,
          11,
          12,
          8,
          8,
          3,
          2,
          7,
          9,
          1,
          1,
          2,
          6,
          8,
          6,
          12,
          1,
          4,
          11,
          10,
          2
         ],
         "yaxis": "y3"
        },
        {
         "hovertemplate": "<b>OLS trendline</b><br>자세보조용구 사용기간 = 0.629916 * 휠체어 사용기간 + 1.79358<br>R<sup>2</sup>=0.599823<br><br>해부학적분류=3<br>휠체어 사용기간=%{x}<br>자세보조용구 사용기간=%{y} <b>(trend)</b><extra></extra>",
         "legendgroup": "3",
         "line": {
          "dash": "dot",
          "width": 4
         },
         "marker": {
          "color": "#00cc96",
          "symbol": "circle"
         },
         "mode": "lines",
         "name": "3",
         "showlegend": false,
         "type": "scatter",
         "x": [
          0,
          0,
          0,
          1,
          1,
          1,
          1,
          2,
          2,
          2,
          2,
          3,
          3,
          3,
          3,
          3,
          4,
          4,
          4,
          4,
          4,
          4,
          4,
          4,
          5,
          5,
          5,
          6,
          6,
          6,
          6,
          6,
          6,
          6,
          6,
          6,
          6,
          7,
          7,
          7,
          7,
          7,
          7,
          7,
          7,
          7,
          7,
          7,
          8,
          8,
          8,
          8,
          8,
          8,
          8,
          8,
          9,
          9,
          9,
          9,
          9,
          9,
          10,
          10,
          10,
          10,
          11,
          11,
          11,
          11,
          11,
          11,
          12,
          12,
          13,
          14,
          14,
          15,
          16,
          16,
          16,
          16,
          17,
          17,
          17,
          18,
          18,
          18,
          18,
          19,
          19,
          20,
          20,
          28,
          28
         ],
         "xaxis": "x3",
         "y": [
          1.7935814209821397,
          1.7935814209821397,
          1.7935814209821397,
          2.4234974078322553,
          2.4234974078322553,
          2.4234974078322553,
          2.4234974078322553,
          3.053413394682371,
          3.053413394682371,
          3.053413394682371,
          3.053413394682371,
          3.6833293815324866,
          3.6833293815324866,
          3.6833293815324866,
          3.6833293815324866,
          3.6833293815324866,
          4.313245368382602,
          4.313245368382602,
          4.313245368382602,
          4.313245368382602,
          4.313245368382602,
          4.313245368382602,
          4.313245368382602,
          4.313245368382602,
          4.943161355232718,
          4.943161355232718,
          4.943161355232718,
          5.573077342082834,
          5.573077342082834,
          5.573077342082834,
          5.573077342082834,
          5.573077342082834,
          5.573077342082834,
          5.573077342082834,
          5.573077342082834,
          5.573077342082834,
          5.573077342082834,
          6.202993328932949,
          6.202993328932949,
          6.202993328932949,
          6.202993328932949,
          6.202993328932949,
          6.202993328932949,
          6.202993328932949,
          6.202993328932949,
          6.202993328932949,
          6.202993328932949,
          6.202993328932949,
          6.8329093157830645,
          6.8329093157830645,
          6.8329093157830645,
          6.8329093157830645,
          6.8329093157830645,
          6.8329093157830645,
          6.8329093157830645,
          6.8329093157830645,
          7.46282530263318,
          7.46282530263318,
          7.46282530263318,
          7.46282530263318,
          7.46282530263318,
          7.46282530263318,
          8.092741289483296,
          8.092741289483296,
          8.092741289483296,
          8.092741289483296,
          8.722657276333411,
          8.722657276333411,
          8.722657276333411,
          8.722657276333411,
          8.722657276333411,
          8.722657276333411,
          9.352573263183528,
          9.352573263183528,
          9.982489250033643,
          10.612405236883758,
          10.612405236883758,
          11.242321223733875,
          11.87223721058399,
          11.87223721058399,
          11.87223721058399,
          11.87223721058399,
          12.502153197434104,
          12.502153197434104,
          12.502153197434104,
          13.132069184284221,
          13.132069184284221,
          13.132069184284221,
          13.132069184284221,
          13.761985171134336,
          13.761985171134336,
          14.391901157984453,
          14.391901157984453,
          19.431229052785376,
          19.431229052785376
         ],
         "yaxis": "y3"
        }
       ],
       "layout": {
        "annotations": [
         {
          "font": {},
          "showarrow": false,
          "text": "해부학적분류=1",
          "x": 0.15999999999999998,
          "xanchor": "center",
          "xref": "paper",
          "y": 1,
          "yanchor": "bottom",
          "yref": "paper"
         },
         {
          "font": {},
          "showarrow": false,
          "text": "해부학적분류=2",
          "x": 0.49999999999999994,
          "xanchor": "center",
          "xref": "paper",
          "y": 1,
          "yanchor": "bottom",
          "yref": "paper"
         },
         {
          "font": {},
          "showarrow": false,
          "text": "해부학적분류=3",
          "x": 0.8399999999999999,
          "xanchor": "center",
          "xref": "paper",
          "y": 1,
          "yanchor": "bottom",
          "yref": "paper"
         }
        ],
        "autosize": true,
        "dragmode": "select",
        "legend": {
         "title": {
          "text": "해부학적분류"
         },
         "tracegroupgap": 0
        },
        "template": {
         "data": {
          "bar": [
           {
            "error_x": {
             "color": "#2a3f5f"
            },
            "error_y": {
             "color": "#2a3f5f"
            },
            "marker": {
             "line": {
              "color": "#E5ECF6",
              "width": 0.5
             },
             "pattern": {
              "fillmode": "overlay",
              "size": 10,
              "solidity": 0.2
             }
            },
            "type": "bar"
           }
          ],
          "barpolar": [
           {
            "marker": {
             "line": {
              "color": "#E5ECF6",
              "width": 0.5
             },
             "pattern": {
              "fillmode": "overlay",
              "size": 10,
              "solidity": 0.2
             }
            },
            "type": "barpolar"
           }
          ],
          "carpet": [
           {
            "aaxis": {
             "endlinecolor": "#2a3f5f",
             "gridcolor": "white",
             "linecolor": "white",
             "minorgridcolor": "white",
             "startlinecolor": "#2a3f5f"
            },
            "baxis": {
             "endlinecolor": "#2a3f5f",
             "gridcolor": "white",
             "linecolor": "white",
             "minorgridcolor": "white",
             "startlinecolor": "#2a3f5f"
            },
            "type": "carpet"
           }
          ],
          "choropleth": [
           {
            "colorbar": {
             "outlinewidth": 0,
             "ticks": ""
            },
            "type": "choropleth"
           }
          ],
          "contour": [
           {
            "colorbar": {
             "outlinewidth": 0,
             "ticks": ""
            },
            "colorscale": [
             [
              0,
              "#0d0887"
             ],
             [
              0.1111111111111111,
              "#46039f"
             ],
             [
              0.2222222222222222,
              "#7201a8"
             ],
             [
              0.3333333333333333,
              "#9c179e"
             ],
             [
              0.4444444444444444,
              "#bd3786"
             ],
             [
              0.5555555555555556,
              "#d8576b"
             ],
             [
              0.6666666666666666,
              "#ed7953"
             ],
             [
              0.7777777777777778,
              "#fb9f3a"
             ],
             [
              0.8888888888888888,
              "#fdca26"
             ],
             [
              1,
              "#f0f921"
             ]
            ],
            "type": "contour"
           }
          ],
          "contourcarpet": [
           {
            "colorbar": {
             "outlinewidth": 0,
             "ticks": ""
            },
            "type": "contourcarpet"
           }
          ],
          "heatmap": [
           {
            "colorbar": {
             "outlinewidth": 0,
             "ticks": ""
            },
            "colorscale": [
             [
              0,
              "#0d0887"
             ],
             [
              0.1111111111111111,
              "#46039f"
             ],
             [
              0.2222222222222222,
              "#7201a8"
             ],
             [
              0.3333333333333333,
              "#9c179e"
             ],
             [
              0.4444444444444444,
              "#bd3786"
             ],
             [
              0.5555555555555556,
              "#d8576b"
             ],
             [
              0.6666666666666666,
              "#ed7953"
             ],
             [
              0.7777777777777778,
              "#fb9f3a"
             ],
             [
              0.8888888888888888,
              "#fdca26"
             ],
             [
              1,
              "#f0f921"
             ]
            ],
            "type": "heatmap"
           }
          ],
          "heatmapgl": [
           {
            "colorbar": {
             "outlinewidth": 0,
             "ticks": ""
            },
            "colorscale": [
             [
              0,
              "#0d0887"
             ],
             [
              0.1111111111111111,
              "#46039f"
             ],
             [
              0.2222222222222222,
              "#7201a8"
             ],
             [
              0.3333333333333333,
              "#9c179e"
             ],
             [
              0.4444444444444444,
              "#bd3786"
             ],
             [
              0.5555555555555556,
              "#d8576b"
             ],
             [
              0.6666666666666666,
              "#ed7953"
             ],
             [
              0.7777777777777778,
              "#fb9f3a"
             ],
             [
              0.8888888888888888,
              "#fdca26"
             ],
             [
              1,
              "#f0f921"
             ]
            ],
            "type": "heatmapgl"
           }
          ],
          "histogram": [
           {
            "marker": {
             "pattern": {
              "fillmode": "overlay",
              "size": 10,
              "solidity": 0.2
             }
            },
            "type": "histogram"
           }
          ],
          "histogram2d": [
           {
            "colorbar": {
             "outlinewidth": 0,
             "ticks": ""
            },
            "colorscale": [
             [
              0,
              "#0d0887"
             ],
             [
              0.1111111111111111,
              "#46039f"
             ],
             [
              0.2222222222222222,
              "#7201a8"
             ],
             [
              0.3333333333333333,
              "#9c179e"
             ],
             [
              0.4444444444444444,
              "#bd3786"
             ],
             [
              0.5555555555555556,
              "#d8576b"
             ],
             [
              0.6666666666666666,
              "#ed7953"
             ],
             [
              0.7777777777777778,
              "#fb9f3a"
             ],
             [
              0.8888888888888888,
              "#fdca26"
             ],
             [
              1,
              "#f0f921"
             ]
            ],
            "type": "histogram2d"
           }
          ],
          "histogram2dcontour": [
           {
            "colorbar": {
             "outlinewidth": 0,
             "ticks": ""
            },
            "colorscale": [
             [
              0,
              "#0d0887"
             ],
             [
              0.1111111111111111,
              "#46039f"
             ],
             [
              0.2222222222222222,
              "#7201a8"
             ],
             [
              0.3333333333333333,
              "#9c179e"
             ],
             [
              0.4444444444444444,
              "#bd3786"
             ],
             [
              0.5555555555555556,
              "#d8576b"
             ],
             [
              0.6666666666666666,
              "#ed7953"
             ],
             [
              0.7777777777777778,
              "#fb9f3a"
             ],
             [
              0.8888888888888888,
              "#fdca26"
             ],
             [
              1,
              "#f0f921"
             ]
            ],
            "type": "histogram2dcontour"
           }
          ],
          "mesh3d": [
           {
            "colorbar": {
             "outlinewidth": 0,
             "ticks": ""
            },
            "type": "mesh3d"
           }
          ],
          "parcoords": [
           {
            "line": {
             "colorbar": {
              "outlinewidth": 0,
              "ticks": ""
             }
            },
            "type": "parcoords"
           }
          ],
          "pie": [
           {
            "automargin": true,
            "type": "pie"
           }
          ],
          "scatter": [
           {
            "marker": {
             "colorbar": {
              "outlinewidth": 0,
              "ticks": ""
             }
            },
            "type": "scatter"
           }
          ],
          "scatter3d": [
           {
            "line": {
             "colorbar": {
              "outlinewidth": 0,
              "ticks": ""
             }
            },
            "marker": {
             "colorbar": {
              "outlinewidth": 0,
              "ticks": ""
             }
            },
            "type": "scatter3d"
           }
          ],
          "scattercarpet": [
           {
            "marker": {
             "colorbar": {
              "outlinewidth": 0,
              "ticks": ""
             }
            },
            "type": "scattercarpet"
           }
          ],
          "scattergeo": [
           {
            "marker": {
             "colorbar": {
              "outlinewidth": 0,
              "ticks": ""
             }
            },
            "type": "scattergeo"
           }
          ],
          "scattergl": [
           {
            "marker": {
             "colorbar": {
              "outlinewidth": 0,
              "ticks": ""
             }
            },
            "type": "scattergl"
           }
          ],
          "scattermapbox": [
           {
            "marker": {
             "colorbar": {
              "outlinewidth": 0,
              "ticks": ""
             }
            },
            "type": "scattermapbox"
           }
          ],
          "scatterpolar": [
           {
            "marker": {
             "colorbar": {
              "outlinewidth": 0,
              "ticks": ""
             }
            },
            "type": "scatterpolar"
           }
          ],
          "scatterpolargl": [
           {
            "marker": {
             "colorbar": {
              "outlinewidth": 0,
              "ticks": ""
             }
            },
            "type": "scatterpolargl"
           }
          ],
          "scatterternary": [
           {
            "marker": {
             "colorbar": {
              "outlinewidth": 0,
              "ticks": ""
             }
            },
            "type": "scatterternary"
           }
          ],
          "surface": [
           {
            "colorbar": {
             "outlinewidth": 0,
             "ticks": ""
            },
            "colorscale": [
             [
              0,
              "#0d0887"
             ],
             [
              0.1111111111111111,
              "#46039f"
             ],
             [
              0.2222222222222222,
              "#7201a8"
             ],
             [
              0.3333333333333333,
              "#9c179e"
             ],
             [
              0.4444444444444444,
              "#bd3786"
             ],
             [
              0.5555555555555556,
              "#d8576b"
             ],
             [
              0.6666666666666666,
              "#ed7953"
             ],
             [
              0.7777777777777778,
              "#fb9f3a"
             ],
             [
              0.8888888888888888,
              "#fdca26"
             ],
             [
              1,
              "#f0f921"
             ]
            ],
            "type": "surface"
           }
          ],
          "table": [
           {
            "cells": {
             "fill": {
              "color": "#EBF0F8"
             },
             "line": {
              "color": "white"
             }
            },
            "header": {
             "fill": {
              "color": "#C8D4E3"
             },
             "line": {
              "color": "white"
             }
            },
            "type": "table"
           }
          ]
         },
         "layout": {
          "annotationdefaults": {
           "arrowcolor": "#2a3f5f",
           "arrowhead": 0,
           "arrowwidth": 1
          },
          "autotypenumbers": "strict",
          "coloraxis": {
           "colorbar": {
            "outlinewidth": 0,
            "ticks": ""
           }
          },
          "colorscale": {
           "diverging": [
            [
             0,
             "#8e0152"
            ],
            [
             0.1,
             "#c51b7d"
            ],
            [
             0.2,
             "#de77ae"
            ],
            [
             0.3,
             "#f1b6da"
            ],
            [
             0.4,
             "#fde0ef"
            ],
            [
             0.5,
             "#f7f7f7"
            ],
            [
             0.6,
             "#e6f5d0"
            ],
            [
             0.7,
             "#b8e186"
            ],
            [
             0.8,
             "#7fbc41"
            ],
            [
             0.9,
             "#4d9221"
            ],
            [
             1,
             "#276419"
            ]
           ],
           "sequential": [
            [
             0,
             "#0d0887"
            ],
            [
             0.1111111111111111,
             "#46039f"
            ],
            [
             0.2222222222222222,
             "#7201a8"
            ],
            [
             0.3333333333333333,
             "#9c179e"
            ],
            [
             0.4444444444444444,
             "#bd3786"
            ],
            [
             0.5555555555555556,
             "#d8576b"
            ],
            [
             0.6666666666666666,
             "#ed7953"
            ],
            [
             0.7777777777777778,
             "#fb9f3a"
            ],
            [
             0.8888888888888888,
             "#fdca26"
            ],
            [
             1,
             "#f0f921"
            ]
           ],
           "sequentialminus": [
            [
             0,
             "#0d0887"
            ],
            [
             0.1111111111111111,
             "#46039f"
            ],
            [
             0.2222222222222222,
             "#7201a8"
            ],
            [
             0.3333333333333333,
             "#9c179e"
            ],
            [
             0.4444444444444444,
             "#bd3786"
            ],
            [
             0.5555555555555556,
             "#d8576b"
            ],
            [
             0.6666666666666666,
             "#ed7953"
            ],
            [
             0.7777777777777778,
             "#fb9f3a"
            ],
            [
             0.8888888888888888,
             "#fdca26"
            ],
            [
             1,
             "#f0f921"
            ]
           ]
          },
          "colorway": [
           "#636efa",
           "#EF553B",
           "#00cc96",
           "#ab63fa",
           "#FFA15A",
           "#19d3f3",
           "#FF6692",
           "#B6E880",
           "#FF97FF",
           "#FECB52"
          ],
          "font": {
           "color": "#2a3f5f"
          },
          "geo": {
           "bgcolor": "white",
           "lakecolor": "white",
           "landcolor": "#E5ECF6",
           "showlakes": true,
           "showland": true,
           "subunitcolor": "white"
          },
          "hoverlabel": {
           "align": "left"
          },
          "hovermode": "closest",
          "mapbox": {
           "style": "light"
          },
          "paper_bgcolor": "white",
          "plot_bgcolor": "#E5ECF6",
          "polar": {
           "angularaxis": {
            "gridcolor": "white",
            "linecolor": "white",
            "ticks": ""
           },
           "bgcolor": "#E5ECF6",
           "radialaxis": {
            "gridcolor": "white",
            "linecolor": "white",
            "ticks": ""
           }
          },
          "scene": {
           "xaxis": {
            "backgroundcolor": "#E5ECF6",
            "gridcolor": "white",
            "gridwidth": 2,
            "linecolor": "white",
            "showbackground": true,
            "ticks": "",
            "zerolinecolor": "white"
           },
           "yaxis": {
            "backgroundcolor": "#E5ECF6",
            "gridcolor": "white",
            "gridwidth": 2,
            "linecolor": "white",
            "showbackground": true,
            "ticks": "",
            "zerolinecolor": "white"
           },
           "zaxis": {
            "backgroundcolor": "#E5ECF6",
            "gridcolor": "white",
            "gridwidth": 2,
            "linecolor": "white",
            "showbackground": true,
            "ticks": "",
            "zerolinecolor": "white"
           }
          },
          "shapedefaults": {
           "line": {
            "color": "#2a3f5f"
           }
          },
          "ternary": {
           "aaxis": {
            "gridcolor": "white",
            "linecolor": "white",
            "ticks": ""
           },
           "baxis": {
            "gridcolor": "white",
            "linecolor": "white",
            "ticks": ""
           },
           "bgcolor": "#E5ECF6",
           "caxis": {
            "gridcolor": "white",
            "linecolor": "white",
            "ticks": ""
           }
          },
          "title": {
           "x": 0.05
          },
          "xaxis": {
           "automargin": true,
           "gridcolor": "white",
           "linecolor": "white",
           "ticks": "",
           "title": {
            "standoff": 15
           },
           "zerolinecolor": "white",
           "zerolinewidth": 2
          },
          "yaxis": {
           "automargin": true,
           "gridcolor": "white",
           "linecolor": "white",
           "ticks": "",
           "title": {
            "standoff": 15
           },
           "zerolinecolor": "white",
           "zerolinewidth": 2
          }
         }
        },
        "title": {
         "font": {
          "size": 24
         },
         "text": "해부학적분류별 자세보조용구와 휠체어 사용시간 상관관계",
         "x": 0.5
        },
        "xaxis": {
         "anchor": "y",
         "autorange": true,
         "domain": [
          0,
          0.31999999999999995
         ],
         "range": [
          -2.085117199556984,
          30.085117199556983
         ],
         "showgrid": false,
         "title": {
          "text": "휠체어 사용기간"
         },
         "type": "linear"
        },
        "xaxis2": {
         "anchor": "y2",
         "autorange": true,
         "domain": [
          0.33999999999999997,
          0.6599999999999999
         ],
         "matches": "x",
         "range": [
          -2.085117199556984,
          30.085117199556983
         ],
         "showgrid": false,
         "title": {
          "text": "휠체어 사용기간"
         },
         "type": "linear"
        },
        "xaxis3": {
         "anchor": "y3",
         "autorange": true,
         "domain": [
          0.6799999999999999,
          0.9999999999999999
         ],
         "matches": "x",
         "range": [
          -2.085117199556984,
          30.085117199556983
         ],
         "showgrid": false,
         "title": {
          "text": "휠체어 사용기간"
         },
         "type": "linear"
        },
        "yaxis": {
         "anchor": "x",
         "autorange": true,
         "domain": [
          0,
          1
         ],
         "range": [
          -2.2281553398058254,
          29.228155339805824
         ],
         "title": {
          "text": "자세보조용구 사용기간"
         },
         "type": "linear"
        },
        "yaxis2": {
         "anchor": "x2",
         "autorange": true,
         "domain": [
          0,
          1
         ],
         "matches": "y",
         "range": [
          -2.2281553398058254,
          29.228155339805824
         ],
         "showticklabels": false,
         "type": "linear"
        },
        "yaxis3": {
         "anchor": "x3",
         "autorange": true,
         "domain": [
          0,
          1
         ],
         "matches": "y",
         "range": [
          -2.2281553398058254,
          29.228155339805824
         ],
         "showticklabels": false,
         "type": "linear"
        }
       }
      },
      "image/png": "[encoded data removed]",
      "text/html": [
       "<div>                            <div id=\"73b2eba0-d8e1-45db-af12-5784f69ffe36\" class=\"plotly-graph-div\" style=\"height:525px; width:100%;\"></div>            <script type=\"text/javascript\">                require([\"plotly\"], function(Plotly) {                    window.PLOTLYENV=window.PLOTLYENV || {};                                    if (document.getElementById(\"73b2eba0-d8e1-45db-af12-5784f69ffe36\")) {                    Plotly.newPlot(                        \"73b2eba0-d8e1-45db-af12-5784f69ffe36\",                        [{\"hovertemplate\":\"\\ud574\\ubd80\\ud559\\uc801\\ubd84\\ub958=1<br>\\ud720\\uccb4\\uc5b4 \\uc0ac\\uc6a9\\uae30\\uac04=%{x}<br>\\uc790\\uc138\\ubcf4\\uc870\\uc6a9\\uad6c \\uc0ac\\uc6a9\\uae30\\uac04=%{y}<extra></extra>\",\"legendgroup\":\"1\",\"marker\":{\"color\":\"#636efa\",\"symbol\":\"circle\"},\"mode\":\"markers\",\"name\":\"1\",\"orientation\":\"v\",\"showlegend\":true,\"type\":\"scatter\",\"x\":[10,12,13,13,0,15,1],\"xaxis\":\"x\",\"y\":[10,11,12,15,0,15,2],\"yaxis\":\"y\"},{\"hovertemplate\":\"<b>OLS trendline</b><br>\\uc790\\uc138\\ubcf4\\uc870\\uc6a9\\uad6c \\uc0ac\\uc6a9\\uae30\\uac04 = 0.967949 * \\ud720\\uccb4\\uc5b4 \\uc0ac\\uc6a9\\uae30\\uac04 + 0.435897<br>R<sup>2</sup>=0.969232<br><br>\\ud574\\ubd80\\ud559\\uc801\\ubd84\\ub958=1<br>\\ud720\\uccb4\\uc5b4 \\uc0ac\\uc6a9\\uae30\\uac04=%{x}<br>\\uc790\\uc138\\ubcf4\\uc870\\uc6a9\\uad6c \\uc0ac\\uc6a9\\uae30\\uac04=%{y} <b>(trend)</b><extra></extra>\",\"legendgroup\":\"1\",\"line\":{\"dash\":\"dot\",\"width\":4},\"marker\":{\"color\":\"#636efa\",\"symbol\":\"circle\"},\"mode\":\"lines\",\"name\":\"1\",\"showlegend\":false,\"type\":\"scatter\",\"x\":[0,1,10,12,13,13,15],\"xaxis\":\"x\",\"y\":[0.43589743589743546,1.4038461538461537,10.115384615384619,12.051282051282055,13.019230769230772,13.019230769230772,14.955128205128208],\"yaxis\":\"y\"},{\"hovertemplate\":\"\\ud574\\ubd80\\ud559\\uc801\\ubd84\\ub958=2<br>\\ud720\\uccb4\\uc5b4 \\uc0ac\\uc6a9\\uae30\\uac04=%{x}<br>\\uc790\\uc138\\ubcf4\\uc870\\uc6a9\\uad6c \\uc0ac\\uc6a9\\uae30\\uac04=%{y}<extra></extra>\",\"legendgroup\":\"2\",\"marker\":{\"color\":\"#EF553B\",\"symbol\":\"circle\"},\"mode\":\"markers\",\"name\":\"2\",\"orientation\":\"v\",\"showlegend\":true,\"type\":\"scatter\",\"x\":[2,1,5,4,4,3,8,16,15,5],\"xaxis\":\"x2\",\"y\":[7,2,3,4,2,1,8,16,12,2],\"yaxis\":\"y2\"},{\"hovertemplate\":\"<b>OLS trendline</b><br>\\uc790\\uc138\\ubcf4\\uc870\\uc6a9\\uad6c \\uc0ac\\uc6a9\\uae30\\uac04 = 0.855797 * \\ud720\\uccb4\\uc5b4 \\uc0ac\\uc6a9\\uae30\\uac04 + 0.30848<br>R<sup>2</sup>=0.790694<br><br>\\ud574\\ubd80\\ud559\\uc801\\ubd84\\ub958=2<br>\\ud720\\uccb4\\uc5b4 \\uc0ac\\uc6a9\\uae30\\uac04=%{x}<br>\\uc790\\uc138\\ubcf4\\uc870\\uc6a9\\uad6c \\uc0ac\\uc6a9\\uae30\\uac04=%{y} <b>(trend)</b><extra></extra>\",\"legendgroup\":\"2\",\"line\":{\"dash\":\"dot\",\"width\":4},\"marker\":{\"color\":\"#EF553B\",\"symbol\":\"circle\"},\"mode\":\"lines\",\"name\":\"2\",\"showlegend\":false,\"type\":\"scatter\",\"x\":[1,2,3,4,4,5,5,8,15,16],\"xaxis\":\"x2\",\"y\":[1.1642769356820974,2.020073740270381,2.8758705448586643,3.731667349446948,3.731667349446948,4.5874641540352314,4.5874641540352314,7.154854567800083,13.145432199918067,14.001229004506351],\"yaxis\":\"y2\"},{\"hovertemplate\":\"\\ud574\\ubd80\\ud559\\uc801\\ubd84\\ub958=3<br>\\ud720\\uccb4\\uc5b4 \\uc0ac\\uc6a9\\uae30\\uac04=%{x}<br>\\uc790\\uc138\\ubcf4\\uc870\\uc6a9\\uad6c \\uc0ac\\uc6a9\\uae30\\uac04=%{y}<extra></extra>\",\"legendgroup\":\"3\",\"marker\":{\"color\":\"#00cc96\",\"symbol\":\"circle\"},\"mode\":\"markers\",\"name\":\"3\",\"orientation\":\"v\",\"showlegend\":true,\"type\":\"scatter\",\"x\":[12,6,3,18,15,4,28,2,18,20,10,2,17,10,9,7,12,19,8,6,5,20,9,14,7,0,7,7,0,10,6,4,9,2,3,6,3,4,6,5,1,1,11,7,18,9,19,6,11,7,16,18,4,3,8,11,11,16,16,0,5,16,4,17,6,8,7,10,3,6,28,7,4,17,7,8,8,8,8,7,2,7,11,1,1,6,13,8,6,14,4,9,11,9,4],\"xaxis\":\"x3\",\"y\":[11,6,3,6,15,4,27,1,11,12,9,2,11,10,9,7,8,14,8,6,5,10,8,14,7,3,9,3,1,10,4,0,9,2,4,6,3,5,5,3,4,3,9,7,18,9,14,5,9,7,16,16,2,5,3,8,11,16,7,0,3,15,4,14,7,8,6,8,3,6,2,7,4,19,7,11,12,8,8,3,2,7,9,1,1,2,6,8,6,12,1,4,11,10,2],\"yaxis\":\"y3\"},{\"hovertemplate\":\"<b>OLS trendline</b><br>\\uc790\\uc138\\ubcf4\\uc870\\uc6a9\\uad6c \\uc0ac\\uc6a9\\uae30\\uac04 = 0.629916 * \\ud720\\uccb4\\uc5b4 \\uc0ac\\uc6a9\\uae30\\uac04 + 1.79358<br>R<sup>2</sup>=0.599823<br><br>\\ud574\\ubd80\\ud559\\uc801\\ubd84\\ub958=3<br>\\ud720\\uccb4\\uc5b4 \\uc0ac\\uc6a9\\uae30\\uac04=%{x}<br>\\uc790\\uc138\\ubcf4\\uc870\\uc6a9\\uad6c \\uc0ac\\uc6a9\\uae30\\uac04=%{y} <b>(trend)</b><extra></extra>\",\"legendgroup\":\"3\",\"line\":{\"dash\":\"dot\",\"width\":4},\"marker\":{\"color\":\"#00cc96\",\"symbol\":\"circle\"},\"mode\":\"lines\",\"name\":\"3\",\"showlegend\":false,\"type\":\"scatter\",\"x\":[0,0,0,1,1,1,1,2,2,2,2,3,3,3,3,3,4,4,4,4,4,4,4,4,5,5,5,6,6,6,6,6,6,6,6,6,6,7,7,7,7,7,7,7,7,7,7,7,8,8,8,8,8,8,8,8,9,9,9,9,9,9,10,10,10,10,11,11,11,11,11,11,12,12,13,14,14,15,16,16,16,16,17,17,17,18,18,18,18,19,19,20,20,28,28],\"xaxis\":\"x3\",\"y\":[1.7935814209821397,1.7935814209821397,1.7935814209821397,2.4234974078322553,2.4234974078322553,2.4234974078322553,2.4234974078322553,3.053413394682371,3.053413394682371,3.053413394682371,3.053413394682371,3.6833293815324866,3.6833293815324866,3.6833293815324866,3.6833293815324866,3.6833293815324866,4.313245368382602,4.313245368382602,4.313245368382602,4.313245368382602,4.313245368382602,4.313245368382602,4.313245368382602,4.313245368382602,4.943161355232718,4.943161355232718,4.943161355232718,5.573077342082834,5.573077342082834,5.573077342082834,5.573077342082834,5.573077342082834,5.573077342082834,5.573077342082834,5.573077342082834,5.573077342082834,5.573077342082834,6.202993328932949,6.202993328932949,6.202993328932949,6.202993328932949,6.202993328932949,6.202993328932949,6.202993328932949,6.202993328932949,6.202993328932949,6.202993328932949,6.202993328932949,6.8329093157830645,6.8329093157830645,6.8329093157830645,6.8329093157830645,6.8329093157830645,6.8329093157830645,6.8329093157830645,6.8329093157830645,7.46282530263318,7.46282530263318,7.46282530263318,7.46282530263318,7.46282530263318,7.46282530263318,8.092741289483296,8.092741289483296,8.092741289483296,8.092741289483296,8.722657276333411,8.722657276333411,8.722657276333411,8.722657276333411,8.722657276333411,8.722657276333411,9.352573263183528,9.352573263183528,9.982489250033643,10.612405236883758,10.612405236883758,11.242321223733875,11.87223721058399,11.87223721058399,11.87223721058399,11.87223721058399,12.502153197434104,12.502153197434104,12.502153197434104,13.132069184284221,13.132069184284221,13.132069184284221,13.132069184284221,13.761985171134336,13.761985171134336,14.391901157984453,14.391901157984453,19.431229052785376,19.431229052785376],\"yaxis\":\"y3\"}],                        {\"annotations\":[{\"font\":{},\"showarrow\":false,\"text\":\"\\ud574\\ubd80\\ud559\\uc801\\ubd84\\ub958=1\",\"x\":0.15999999999999998,\"xanchor\":\"center\",\"xref\":\"paper\",\"y\":1.0,\"yanchor\":\"bottom\",\"yref\":\"paper\"},{\"font\":{},\"showarrow\":false,\"text\":\"\\ud574\\ubd80\\ud559\\uc801\\ubd84\\ub958=2\",\"x\":0.49999999999999994,\"xanchor\":\"center\",\"xref\":\"paper\",\"y\":1.0,\"yanchor\":\"bottom\",\"yref\":\"paper\"},{\"font\":{},\"showarrow\":false,\"text\":\"\\ud574\\ubd80\\ud559\\uc801\\ubd84\\ub958=3\",\"x\":0.8399999999999999,\"xanchor\":\"center\",\"xref\":\"paper\",\"y\":1.0,\"yanchor\":\"bottom\",\"yref\":\"paper\"}],\"legend\":{\"title\":{\"text\":\"\\ud574\\ubd80\\ud559\\uc801\\ubd84\\ub958\"},\"tracegroupgap\":0},\"template\":{\"data\":{\"bar\":[{\"error_x\":{\"color\":\"#2a3f5f\"},\"error_y\":{\"color\":\"#2a3f5f\"},\"marker\":{\"line\":{\"color\":\"#E5ECF6\",\"width\":0.5},\"pattern\":{\"fillmode\":\"overlay\",\"size\":10,\"solidity\":0.2}},\"type\":\"bar\"}],\"barpolar\":[{\"marker\":{\"line\":{\"color\":\"#E5ECF6\",\"width\":0.5},\"pattern\":{\"fillmode\":\"overlay\",\"size\":10,\"solidity\":0.2}},\"type\":\"barpolar\"}],\"carpet\":[{\"aaxis\":{\"endlinecolor\":\"#2a3f5f\",\"gridcolor\":\"white\",\"linecolor\":\"white\",\"minorgridcolor\":\"white\",\"startlinecolor\":\"#2a3f5f\"},\"baxis\":{\"endlinecolor\":\"#2a3f5f\",\"gridcolor\":\"white\",\"linecolor\":\"white\",\"minorgridcolor\":\"white\",\"startlinecolor\":\"#2a3f5f\"},\"type\":\"carpet\"}],\"choropleth\":[{\"colorbar\":{\"outlinewidth\":0,\"ticks\":\"\"},\"type\":\"choropleth\"}],\"contour\":[{\"colorbar\":{\"outlinewidth\":0,\"ticks\":\"\"},\"colorscale\":[[0.0,\"#0d0887\"],[0.1111111111111111,\"#46039f\"],[0.2222222222222222,\"#7201a8\"],[0.3333333333333333,\"#9c179e\"],[0.4444444444444444,\"#bd3786\"],[0.5555555555555556,\"#d8576b\"],[0.6666666666666666,\"#ed7953\"],[0.7777777777777778,\"#fb9f3a\"],[0.8888888888888888,\"#fdca26\"],[1.0,\"#f0f921\"]],\"type\":\"contour\"}],\"contourcarpet\":[{\"colorbar\":{\"outlinewidth\":0,\"ticks\":\"\"},\"type\":\"contourcarpet\"}],\"heatmap\":[{\"colorbar\":{\"outlinewidth\":0,\"ticks\":\"\"},\"colorscale\":[[0.0,\"#0d0887\"],[0.1111111111111111,\"#46039f\"],[0.2222222222222222,\"#7201a8\"],[0.3333333333333333,\"#9c179e\"],[0.4444444444444444,\"#bd3786\"],[0.5555555555555556,\"#d8576b\"],[0.6666666666666666,\"#ed7953\"],[0.7777777777777778,\"#fb9f3a\"],[0.8888888888888888,\"#fdca26\"],[1.0,\"#f0f921\"]],\"type\":\"heatmap\"}],\"heatmapgl\":[{\"colorbar\":{\"outlinewidth\":0,\"ticks\":\"\"},\"colorscale\":[[0.0,\"#0d0887\"],[0.1111111111111111,\"#46039f\"],[0.2222222222222222,\"#7201a8\"],[0.3333333333333333,\"#9c179e\"],[0.4444444444444444,\"#bd3786\"],[0.5555555555555556,\"#d8576b\"],[0.6666666666666666,\"#ed7953\"],[0.7777777777777778,\"#fb9f3a\"],[0.8888888888888888,\"#fdca26\"],[1.0,\"#f0f921\"]],\"type\":\"heatmapgl\"}],\"histogram\":[{\"marker\":{\"pattern\":{\"fillmode\":\"overlay\",\"size\":10,\"solidity\":0.2}},\"type\":\"histogram\"}],\"histogram2d\":[{\"colorbar\":{\"outlinewidth\":0,\"ticks\":\"\"},\"colorscale\":[[0.0,\"#0d0887\"],[0.1111111111111111,\"#46039f\"],[0.2222222222222222,\"#7201a8\"],[0.3333333333333333,\"#9c179e\"],[0.4444444444444444,\"#bd3786\"],[0.5555555555555556,\"#d8576b\"],[0.6666666666666666,\"#ed7953\"],[0.7777777777777778,\"#fb9f3a\"],[0.8888888888888888,\"#fdca26\"],[1.0,\"#f0f921\"]],\"type\":\"histogram2d\"}],\"histogram2dcontour\":[{\"colorbar\":{\"outlinewidth\":0,\"ticks\":\"\"},\"colorscale\":[[0.0,\"#0d0887\"],[0.1111111111111111,\"#46039f\"],[0.2222222222222222,\"#7201a8\"],[0.3333333333333333,\"#9c179e\"],[0.4444444444444444,\"#bd3786\"],[0.5555555555555556,\"#d8576b\"],[0.6666666666666666,\"#ed7953\"],[0.7777777777777778,\"#fb9f3a\"],[0.8888888888888888,\"#fdca26\"],[1.0,\"#f0f921\"]],\"type\":\"histogram2dcontour\"}],\"mesh3d\":[{\"colorbar\":{\"outlinewidth\":0,\"ticks\":\"\"},\"type\":\"mesh3d\"}],\"parcoords\":[{\"line\":{\"colorbar\":{\"outlinewidth\":0,\"ticks\":\"\"}},\"type\":\"parcoords\"}],\"pie\":[{\"automargin\":true,\"type\":\"pie\"}],\"scatter\":[{\"marker\":{\"colorbar\":{\"outlinewidth\":0,\"ticks\":\"\"}},\"type\":\"scatter\"}],\"scatter3d\":[{\"line\":{\"colorbar\":{\"outlinewidth\":0,\"ticks\":\"\"}},\"marker\":{\"colorbar\":{\"outlinewidth\":0,\"ticks\":\"\"}},\"type\":\"scatter3d\"}],\"scattercarpet\":[{\"marker\":{\"colorbar\":{\"outlinewidth\":0,\"ticks\":\"\"}},\"type\":\"scattercarpet\"}],\"scattergeo\":[{\"marker\":{\"colorbar\":{\"outlinewidth\":0,\"ticks\":\"\"}},\"type\":\"scattergeo\"}],\"scattergl\":[{\"marker\":{\"colorbar\":{\"outlinewidth\":0,\"ticks\":\"\"}},\"type\":\"scattergl\"}],\"scattermapbox\":[{\"marker\":{\"colorbar\":{\"outlinewidth\":0,\"ticks\":\"\"}},\"type\":\"scattermapbox\"}],\"scatterpolar\":[{\"marker\":{\"colorbar\":{\"outlinewidth\":0,\"ticks\":\"\"}},\"type\":\"scatterpolar\"}],\"scatterpolargl\":[{\"marker\":{\"colorbar\":{\"outlinewidth\":0,\"ticks\":\"\"}},\"type\":\"scatterpolargl\"}],\"scatterternary\":[{\"marker\":{\"colorbar\":{\"outlinewidth\":0,\"ticks\":\"\"}},\"type\":\"scatterternary\"}],\"surface\":[{\"colorbar\":{\"outlinewidth\":0,\"ticks\":\"\"},\"colorscale\":[[0.0,\"#0d0887\"],[0.1111111111111111,\"#46039f\"],[0.2222222222222222,\"#7201a8\"],[0.3333333333333333,\"#9c179e\"],[0.4444444444444444,\"#bd3786\"],[0.5555555555555556,\"#d8576b\"],[0.6666666666666666,\"#ed7953\"],[0.7777777777777778,\"#fb9f3a\"],[0.8888888888888888,\"#fdca26\"],[1.0,\"#f0f921\"]],\"type\":\"surface\"}],\"table\":[{\"cells\":{\"fill\":{\"color\":\"#EBF0F8\"},\"line\":{\"color\":\"white\"}},\"header\":{\"fill\":{\"color\":\"#C8D4E3\"},\"line\":{\"color\":\"white\"}},\"type\":\"table\"}]},\"layout\":{\"annotationdefaults\":{\"arrowcolor\":\"#2a3f5f\",\"arrowhead\":0,\"arrowwidth\":1},\"autotypenumbers\":\"strict\",\"coloraxis\":{\"colorbar\":{\"outlinewidth\":0,\"ticks\":\"\"}},\"colorscale\":{\"diverging\":[[0,\"#8e0152\"],[0.1,\"#c51b7d\"],[0.2,\"#de77ae\"],[0.3,\"#f1b6da\"],[0.4,\"#fde0ef\"],[0.5,\"#f7f7f7\"],[0.6,\"#e6f5d0\"],[0.7,\"#b8e186\"],[0.8,\"#7fbc41\"],[0.9,\"#4d9221\"],[1,\"#276419\"]],\"sequential\":[[0.0,\"#0d0887\"],[0.1111111111111111,\"#46039f\"],[0.2222222222222222,\"#7201a8\"],[0.3333333333333333,\"#9c179e\"],[0.4444444444444444,\"#bd3786\"],[0.5555555555555556,\"#d8576b\"],[0.6666666666666666,\"#ed7953\"],[0.7777777777777778,\"#fb9f3a\"],[0.8888888888888888,\"#fdca26\"],[1.0,\"#f0f921\"]],\"sequentialminus\":[[0.0,\"#0d0887\"],[0.1111111111111111,\"#46039f\"],[0.2222222222222222,\"#7201a8\"],[0.3333333333333333,\"#9c179e\"],[0.4444444444444444,\"#bd3786\"],[0.5555555555555556,\"#d8576b\"],[0.6666666666666666,\"#ed7953\"],[0.7777777777777778,\"#fb9f3a\"],[0.8888888888888888,\"#fdca26\"],[1.0,\"#f0f921\"]]},\"colorway\":[\"#636efa\",\"#EF553B\",\"#00cc96\",\"#ab63fa\",\"#FFA15A\",\"#19d3f3\",\"#FF6692\",\"#B6E880\",\"#FF97FF\",\"#FECB52\"],\"font\":{\"color\":\"#2a3f5f\"},\"geo\":{\"bgcolor\":\"white\",\"lakecolor\":\"white\",\"landcolor\":\"#E5ECF6\",\"showlakes\":true,\"showland\":true,\"subunitcolor\":\"white\"},\"hoverlabel\":{\"align\":\"left\"},\"hovermode\":\"closest\",\"mapbox\":{\"style\":\"light\"},\"paper_bgcolor\":\"white\",\"plot_bgcolor\":\"#E5ECF6\",\"polar\":{\"angularaxis\":{\"gridcolor\":\"white\",\"linecolor\":\"white\",\"ticks\":\"\"},\"bgcolor\":\"#E5ECF6\",\"radialaxis\":{\"gridcolor\":\"white\",\"linecolor\":\"white\",\"ticks\":\"\"}},\"scene\":{\"xaxis\":{\"backgroundcolor\":\"#E5ECF6\",\"gridcolor\":\"white\",\"gridwidth\":2,\"linecolor\":\"white\",\"showbackground\":true,\"ticks\":\"\",\"zerolinecolor\":\"white\"},\"yaxis\":{\"backgroundcolor\":\"#E5ECF6\",\"gridcolor\":\"white\",\"gridwidth\":2,\"linecolor\":\"white\",\"showbackground\":true,\"ticks\":\"\",\"zerolinecolor\":\"white\"},\"zaxis\":{\"backgroundcolor\":\"#E5ECF6\",\"gridcolor\":\"white\",\"gridwidth\":2,\"linecolor\":\"white\",\"showbackground\":true,\"ticks\":\"\",\"zerolinecolor\":\"white\"}},\"shapedefaults\":{\"line\":{\"color\":\"#2a3f5f\"}},\"ternary\":{\"aaxis\":{\"gridcolor\":\"white\",\"linecolor\":\"white\",\"ticks\":\"\"},\"baxis\":{\"gridcolor\":\"white\",\"linecolor\":\"white\",\"ticks\":\"\"},\"bgcolor\":\"#E5ECF6\",\"caxis\":{\"gridcolor\":\"white\",\"linecolor\":\"white\",\"ticks\":\"\"}},\"title\":{\"x\":0.05},\"xaxis\":{\"automargin\":true,\"gridcolor\":\"white\",\"linecolor\":\"white\",\"ticks\":\"\",\"title\":{\"standoff\":15},\"zerolinecolor\":\"white\",\"zerolinewidth\":2},\"yaxis\":{\"automargin\":true,\"gridcolor\":\"white\",\"linecolor\":\"white\",\"ticks\":\"\",\"title\":{\"standoff\":15},\"zerolinecolor\":\"white\",\"zerolinewidth\":2}}},\"title\":{\"font\":{\"size\":24},\"text\":\"\\ud574\\ubd80\\ud559\\uc801\\ubd84\\ub958\\ubcc4 \\uc790\\uc138\\ubcf4\\uc870\\uc6a9\\uad6c\\uc640 \\ud720\\uccb4\\uc5b4 \\uc0ac\\uc6a9\\uc2dc\\uac04 \\uc0c1\\uad00\\uad00\\uacc4\",\"x\":0.5},\"xaxis\":{\"anchor\":\"y\",\"domain\":[0.0,0.31999999999999995],\"showgrid\":false,\"title\":{\"text\":\"\\ud720\\uccb4\\uc5b4 \\uc0ac\\uc6a9\\uae30\\uac04\"}},\"xaxis2\":{\"anchor\":\"y2\",\"domain\":[0.33999999999999997,0.6599999999999999],\"matches\":\"x\",\"showgrid\":false,\"title\":{\"text\":\"\\ud720\\uccb4\\uc5b4 \\uc0ac\\uc6a9\\uae30\\uac04\"}},\"xaxis3\":{\"anchor\":\"y3\",\"domain\":[0.6799999999999999,0.9999999999999999],\"matches\":\"x\",\"showgrid\":false,\"title\":{\"text\":\"\\ud720\\uccb4\\uc5b4 \\uc0ac\\uc6a9\\uae30\\uac04\"}},\"yaxis\":{\"anchor\":\"x\",\"domain\":[0.0,1.0],\"title\":{\"text\":\"\\uc790\\uc138\\ubcf4\\uc870\\uc6a9\\uad6c \\uc0ac\\uc6a9\\uae30\\uac04\"}},\"yaxis2\":{\"anchor\":\"x2\",\"domain\":[0.0,1.0],\"matches\":\"y\",\"showticklabels\":false},\"yaxis3\":{\"anchor\":\"x3\",\"domain\":[0.0,1.0],\"matches\":\"y\",\"showticklabels\":false}},                        {\"responsive\": true}                    ).then(function(){\n",
       "                            \n",
       "var gd = document.getElementById('73b2eba0-d8e1-45db-af12-5784f69ffe36');\n",
       "var x = new MutationObserver(function (mutations, observer) {{\n",
       "        var display = window.getComputedStyle(gd).display;\n",
       "        if (!display || display === 'none') {{\n",
       "            console.log([gd, 'removed!']);\n",
       "            Plotly.purge(gd);\n",
       "            observer.disconnect();\n",
       "        }}\n",
       "}});\n",
       "\n",
       "// Listen for the removal of the full notebook cells\n",
       "var notebookContainer = gd.closest('#notebook-container');\n",
       "if (notebookContainer) {{\n",
       "    x.observe(notebookContainer, {childList: true});\n",
       "}}\n",
       "\n",
       "// Listen for the clearing of the current output cell\n",
       "var outputEl = gd.closest('.output');\n",
       "if (outputEl) {{\n",
       "    x.observe(outputEl, {childList: true});\n",
       "}}\n",
       "\n",
       "                        })                };                });            </script>        </div>"
      ]
     },
     "metadata": {},
     "output_type": "display_data"
    }
   ],
   "source": [
    "df2 = df.sort_values(by=['해부학적분류'], ascending=True)\n",
    "fig=px.scatter(df2, x=\"휠체어 사용기간\", y=\"자세보조용구 사용기간\", color=\"해부학적분류\",\n",
    "            facet_col=\"해부학적분류\", trendline=\"ols\",\n",
    "            title=\"해부학적분류별 자세보조용구와 휠체어 사용시간 상관관계\")\n",
    "fig.update_layout(title_font_size=24,title_x=0.5)\n",
    "fig.update_xaxes(showgrid=False)\n",
    "fig.update_traces(\n",
    "     line=dict(dash=\"dot\", width=4),\n",
    "     selector=dict(type=\"scatter\", mode=\"lines\"))\n",
    "fig.show()"
   ]
  },
  {
   "cell_type": "code",
   "execution_count": 187,
   "id": "55b25f8e-f9b4-48c2-a249-a0a9638b9ea2",
   "metadata": {},
   "outputs": [
    {
     "data": {
      "text/plain": [
       "'해부학적분류별 자세보조용구와 휠체어 사용시간 상관관계.html'"
      ]
     },
     "execution_count": 187,
     "metadata": {},
     "output_type": "execute_result"
    }
   ],
   "source": [
    "plotly.offline.plot(fig,filename='해부학적분류별 자세보조용구와 휠체어 사용시간 상관관계.html',config={'displayModeBar': True}) #html로 내보내기, bar 조정 불가하게 "
   ]
  },
  {
   "cell_type": "code",
   "execution_count": null,
   "id": "34997a13-d7df-45a0-945d-c127603bb9b2",
   "metadata": {},
   "outputs": [],
   "source": []
  }
 ],
 "metadata": {
  "kernelspec": {
   "display_name": "Python 3 (ipykernel)",
   "language": "python",
   "name": "python3"
  },
  "language_info": {
   "codemirror_mode": {
    "name": "ipython",
    "version": 3
   },
   "file_extension": ".py",
   "mimetype": "text/x-python",
   "name": "python",
   "nbconvert_exporter": "python",
   "pygments_lexer": "ipython3",
   "version": "3.8.8"
  }
 },
 "nbformat": 4,
 "nbformat_minor": 5
}
