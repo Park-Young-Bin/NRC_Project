{
 "cells": [
  {
   "cell_type": "code",
   "execution_count": 150,
   "id": "cbf12c7b-d60d-4356-8aa0-be0d3f36c146",
   "metadata": {},
   "outputs": [],
   "source": [
    "import pandas as pd\n",
    "import matplotlib.pyplot as plt\n",
    "import seaborn as sns"
   ]
  },
  {
   "cell_type": "code",
   "execution_count": 186,
   "id": "dafb019a-a469-4d22-9056-6836737c4ac5",
   "metadata": {},
   "outputs": [],
   "source": [
    "df=pd.read_excel(\"CP_전처리 작업.xlsx\",sheet_name=1,dtype = {'GMFCS_Level': str})\n",
    "df=df.fillna(\"\")"
   ]
  },
  {
   "cell_type": "code",
   "execution_count": 187,
   "id": "52334fc4-18f1-4463-8296-28589a9565c3",
   "metadata": {},
   "outputs": [
    {
     "data": {
      "text/plain": [
       "Index(['No', '성별', '등급', 'GMFCS_Level', '생리학적분류', '해부학적분류', '설문1', '휠체어 사용기간',\n",
       "       '설문1연도', '설문1_1', '설문2', '자세보조용구 사용기간', '설문2연도', '설문2_1', '사용중인 보조기기',\n",
       "       '휠체어', '전동휠체어', '유모차형 휠체어', '이너', '워커', '발 보조기', '스탠더', '피더시트', '카시트',\n",
       "       '다리 보조기', '목욕의자', '신발보조기', '기타'],\n",
       "      dtype='object')"
      ]
     },
     "execution_count": 187,
     "metadata": {},
     "output_type": "execute_result"
    }
   ],
   "source": [
    "df.columns"
   ]
  },
  {
   "cell_type": "code",
   "execution_count": 188,
   "id": "b83f2235-c16c-40d2-b50a-e7f7efb2e62b",
   "metadata": {},
   "outputs": [
    {
     "data": {
      "text/html": [
       "<div>\n",
       "<style scoped>\n",
       "    .dataframe tbody tr th:only-of-type {\n",
       "        vertical-align: middle;\n",
       "    }\n",
       "\n",
       "    .dataframe tbody tr th {\n",
       "        vertical-align: top;\n",
       "    }\n",
       "\n",
       "    .dataframe thead th {\n",
       "        text-align: right;\n",
       "    }\n",
       "</style>\n",
       "<table border=\"1\" class=\"dataframe\">\n",
       "  <thead>\n",
       "    <tr style=\"text-align: right;\">\n",
       "      <th></th>\n",
       "      <th>GMFCS_Level</th>\n",
       "      <th>휠체어</th>\n",
       "      <th>전동휠체어</th>\n",
       "      <th>유모차형 휠체어</th>\n",
       "      <th>이너</th>\n",
       "      <th>워커</th>\n",
       "      <th>발 보조기</th>\n",
       "      <th>스탠더</th>\n",
       "      <th>피더시트</th>\n",
       "      <th>카시트</th>\n",
       "      <th>다리 보조기</th>\n",
       "      <th>목욕의자</th>\n",
       "      <th>신발보조기</th>\n",
       "      <th>기타</th>\n",
       "    </tr>\n",
       "  </thead>\n",
       "  <tbody>\n",
       "    <tr>\n",
       "      <th>0</th>\n",
       "      <td>4</td>\n",
       "      <td>휠체어</td>\n",
       "      <td>전동휠체어</td>\n",
       "      <td></td>\n",
       "      <td></td>\n",
       "      <td></td>\n",
       "      <td></td>\n",
       "      <td></td>\n",
       "      <td></td>\n",
       "      <td></td>\n",
       "      <td></td>\n",
       "      <td></td>\n",
       "      <td></td>\n",
       "      <td></td>\n",
       "    </tr>\n",
       "    <tr>\n",
       "      <th>1</th>\n",
       "      <td>3</td>\n",
       "      <td>휠체어</td>\n",
       "      <td></td>\n",
       "      <td></td>\n",
       "      <td></td>\n",
       "      <td>워커</td>\n",
       "      <td></td>\n",
       "      <td></td>\n",
       "      <td></td>\n",
       "      <td></td>\n",
       "      <td></td>\n",
       "      <td></td>\n",
       "      <td></td>\n",
       "      <td></td>\n",
       "    </tr>\n",
       "    <tr>\n",
       "      <th>2</th>\n",
       "      <td>5</td>\n",
       "      <td>휠체어</td>\n",
       "      <td></td>\n",
       "      <td>유모차형 휠체어</td>\n",
       "      <td>이너</td>\n",
       "      <td>워커</td>\n",
       "      <td>발 보조기(발목)</td>\n",
       "      <td>스탠더</td>\n",
       "      <td></td>\n",
       "      <td></td>\n",
       "      <td></td>\n",
       "      <td></td>\n",
       "      <td></td>\n",
       "      <td>휠체어 의자</td>\n",
       "    </tr>\n",
       "    <tr>\n",
       "      <th>3</th>\n",
       "      <td>5</td>\n",
       "      <td>휠체어</td>\n",
       "      <td></td>\n",
       "      <td>유모차형 휠체어</td>\n",
       "      <td>이너</td>\n",
       "      <td></td>\n",
       "      <td>발 보조기(발목)</td>\n",
       "      <td></td>\n",
       "      <td></td>\n",
       "      <td></td>\n",
       "      <td></td>\n",
       "      <td></td>\n",
       "      <td></td>\n",
       "      <td></td>\n",
       "    </tr>\n",
       "    <tr>\n",
       "      <th>4</th>\n",
       "      <td>5</td>\n",
       "      <td></td>\n",
       "      <td></td>\n",
       "      <td></td>\n",
       "      <td></td>\n",
       "      <td></td>\n",
       "      <td>발 보조기(발목)</td>\n",
       "      <td></td>\n",
       "      <td></td>\n",
       "      <td></td>\n",
       "      <td></td>\n",
       "      <td></td>\n",
       "      <td>신발보조기(정형구두)</td>\n",
       "      <td>척추 보조기</td>\n",
       "    </tr>\n",
       "  </tbody>\n",
       "</table>\n",
       "</div>"
      ],
      "text/plain": [
       "  GMFCS_Level  휠체어  전동휠체어  유모차형 휠체어  이너  워커      발 보조기  스탠더 피더시트 카시트 다리 보조기  \\\n",
       "0           4  휠체어  전동휠체어                                                     \n",
       "1           3  휠체어                       워커                                   \n",
       "2           5  휠체어         유모차형 휠체어  이너  워커  발 보조기(발목)  스탠더                   \n",
       "3           5  휠체어         유모차형 휠체어  이너      발 보조기(발목)                        \n",
       "4           5                                발 보조기(발목)                        \n",
       "\n",
       "  목욕의자        신발보조기      기타  \n",
       "0                            \n",
       "1                            \n",
       "2                    휠체어 의자  \n",
       "3                            \n",
       "4       신발보조기(정형구두)  척추 보조기  "
      ]
     },
     "execution_count": 188,
     "metadata": {},
     "output_type": "execute_result"
    }
   ],
   "source": [
    "df1=df[['GMFCS_Level','휠체어', '전동휠체어', '유모차형 휠체어', '이너', '워커', '발 보조기', '스탠더', '피더시트', '카시트',\n",
    "       '다리 보조기', '목욕의자', '신발보조기', '기타']]\n",
    "df1.head()"
   ]
  },
  {
   "cell_type": "code",
   "execution_count": 189,
   "id": "44780dd4-2c9d-4b8b-a2e9-65520045bfe8",
   "metadata": {},
   "outputs": [],
   "source": [
    "# 환자 일련번호가 붙은 상태로 사용하는 보조기기를 한 칼럼에 중복나열\n",
    "df2=[]\n",
    "for j in range(0,len(df1)):\n",
    "    for i in range(1,len(df1.columns)-1):\n",
    "        if df1.iloc[j,i]!=\"\":\n",
    "            df2.append({\"일련번호\":j, \"GMFCS_Level\": df1.iloc[j,0],\"사용중인보조기기\" : df1.iloc[j,i]})"
   ]
  },
  {
   "cell_type": "code",
   "execution_count": 204,
   "id": "53dc5983-bfd2-467e-a1d4-90dc002f2f4c",
   "metadata": {},
   "outputs": [],
   "source": [
    "df3=pd.DataFrame(df2)\n",
    "df3.to_excel(\"GMFCS_Level별 사용중인보조기기.xlsx\")"
   ]
  },
  {
   "cell_type": "code",
   "execution_count": 214,
   "id": "73bf2832-f3bc-43d2-8a77-980330098be4",
   "metadata": {},
   "outputs": [
    {
     "data": {
      "text/html": [
       "<div>\n",
       "<style scoped>\n",
       "    .dataframe tbody tr th:only-of-type {\n",
       "        vertical-align: middle;\n",
       "    }\n",
       "\n",
       "    .dataframe tbody tr th {\n",
       "        vertical-align: top;\n",
       "    }\n",
       "\n",
       "    .dataframe thead th {\n",
       "        text-align: right;\n",
       "    }\n",
       "</style>\n",
       "<table border=\"1\" class=\"dataframe\">\n",
       "  <thead>\n",
       "    <tr style=\"text-align: right;\">\n",
       "      <th></th>\n",
       "      <th>GMFCS_Level</th>\n",
       "      <th>사용중인보조기기</th>\n",
       "    </tr>\n",
       "  </thead>\n",
       "  <tbody>\n",
       "    <tr>\n",
       "      <th>0</th>\n",
       "      <td>4</td>\n",
       "      <td>휠체어</td>\n",
       "    </tr>\n",
       "    <tr>\n",
       "      <th>1</th>\n",
       "      <td>4</td>\n",
       "      <td>전동휠체어</td>\n",
       "    </tr>\n",
       "    <tr>\n",
       "      <th>2</th>\n",
       "      <td>3</td>\n",
       "      <td>휠체어</td>\n",
       "    </tr>\n",
       "    <tr>\n",
       "      <th>3</th>\n",
       "      <td>3</td>\n",
       "      <td>워커</td>\n",
       "    </tr>\n",
       "    <tr>\n",
       "      <th>4</th>\n",
       "      <td>5</td>\n",
       "      <td>휠체어</td>\n",
       "    </tr>\n",
       "  </tbody>\n",
       "</table>\n",
       "</div>"
      ],
      "text/plain": [
       "  GMFCS_Level 사용중인보조기기\n",
       "0           4      휠체어\n",
       "1           4    전동휠체어\n",
       "2           3      휠체어\n",
       "3           3       워커\n",
       "4           5      휠체어"
      ]
     },
     "execution_count": 214,
     "metadata": {},
     "output_type": "execute_result"
    }
   ],
   "source": [
    "df4=df3.drop(['일련번호'],axis=1)\n",
    "df4.head()"
   ]
  },
  {
   "cell_type": "code",
   "execution_count": 215,
   "id": "676cb4fd-bfbe-4fe0-a8f2-27b2e660d9cd",
   "metadata": {},
   "outputs": [
    {
     "data": {
      "text/html": [
       "<div>\n",
       "<style scoped>\n",
       "    .dataframe tbody tr th:only-of-type {\n",
       "        vertical-align: middle;\n",
       "    }\n",
       "\n",
       "    .dataframe tbody tr th {\n",
       "        vertical-align: top;\n",
       "    }\n",
       "\n",
       "    .dataframe thead th {\n",
       "        text-align: right;\n",
       "    }\n",
       "</style>\n",
       "<table border=\"1\" class=\"dataframe\">\n",
       "  <thead>\n",
       "    <tr style=\"text-align: right;\">\n",
       "      <th>GMFCS_Level</th>\n",
       "      <th>3</th>\n",
       "      <th>4</th>\n",
       "      <th>5</th>\n",
       "    </tr>\n",
       "    <tr>\n",
       "      <th>사용중인보조기기</th>\n",
       "      <th></th>\n",
       "      <th></th>\n",
       "      <th></th>\n",
       "    </tr>\n",
       "  </thead>\n",
       "  <tbody>\n",
       "    <tr>\n",
       "      <th>다리 보조기</th>\n",
       "      <td>3</td>\n",
       "      <td>0</td>\n",
       "      <td>3</td>\n",
       "    </tr>\n",
       "    <tr>\n",
       "      <th>목욕의자</th>\n",
       "      <td>0</td>\n",
       "      <td>0</td>\n",
       "      <td>8</td>\n",
       "    </tr>\n",
       "    <tr>\n",
       "      <th>발 보조기</th>\n",
       "      <td>0</td>\n",
       "      <td>3</td>\n",
       "      <td>32</td>\n",
       "    </tr>\n",
       "    <tr>\n",
       "      <th>발 보조기(단하지)</th>\n",
       "      <td>0</td>\n",
       "      <td>1</td>\n",
       "      <td>0</td>\n",
       "    </tr>\n",
       "    <tr>\n",
       "      <th>발 보조기(발목)</th>\n",
       "      <td>3</td>\n",
       "      <td>7</td>\n",
       "      <td>20</td>\n",
       "    </tr>\n",
       "  </tbody>\n",
       "</table>\n",
       "</div>"
      ],
      "text/plain": [
       "GMFCS_Level  3  4   5\n",
       "사용중인보조기기             \n",
       "다리 보조기       3  0   3\n",
       "목욕의자         0  0   8\n",
       "발 보조기        0  3  32\n",
       "발 보조기(단하지)   0  1   0\n",
       "발 보조기(발목)    3  7  20"
      ]
     },
     "execution_count": 215,
     "metadata": {},
     "output_type": "execute_result"
    }
   ],
   "source": [
    "df5=df4.pivot_table(index='사용중인보조기기', columns='GMFCS_Level', \n",
    "                        aggfunc=len, fill_value=0)\n",
    "df5.head()"
   ]
  },
  {
   "cell_type": "code",
   "execution_count": null,
   "id": "3c3cc94d-451d-4841-a44d-17ff9999f689",
   "metadata": {},
   "outputs": [],
   "source": [
    "plt.rc('font', family = 'NanumGothic')"
   ]
  },
  {
   "cell_type": "code",
   "execution_count": 267,
   "id": "0db5f37e-03d0-4fb3-9241-8f1d695cd2c6",
   "metadata": {},
   "outputs": [
    {
     "name": "stderr",
     "output_type": "stream",
     "text": [
      "No handles with labels found to put in legend.\n"
     ]
    },
    {
     "data": {
      "image/png": "[encoded data removed]",
      "text/plain": [
       "<Figure size 720x720 with 2 Axes>"
      ]
     },
     "metadata": {
      "needs_background": "light"
     },
     "output_type": "display_data"
    }
   ],
   "source": [
    "plt.figure(figsize = (10,10))\n",
    "sns.heatmap(df5, annot=True, \n",
    "           linewidths=.5, cmap='YlGnBu')\n",
    "plt.title('GMFCS_Level별 사용중인보조기기',fontsize=15,y=1.03)\n",
    "plt.legend(title=\"단위: 명\",loc='upper right', bbox_to_anchor=(1.07, 1.07),fontsize=10)\n",
    "#plt.show() #얘 하고 나면 저장이 안돼\n",
    "#plt.savefig('GMFCS_Level별 사용중인보조기기.jpg', dpi=600) # 그래프 파일로 출력하기, 이 함수 이전에 plt.show 하면 빈 화면 출력되니 주의"
   ]
  },
  {
   "cell_type": "markdown",
   "id": "97126ba6-a85f-4a85-8796-23c0bda40e2f",
   "metadata": {},
   "source": [
    "---"
   ]
  },
  {
   "cell_type": "code",
   "execution_count": 190,
   "id": "f0c0f8e8-9b4f-4faf-8e13-5c59539a14cb",
   "metadata": {},
   "outputs": [
    {
     "data": {
      "text/html": [
       "<div>\n",
       "<style scoped>\n",
       "    .dataframe tbody tr th:only-of-type {\n",
       "        vertical-align: middle;\n",
       "    }\n",
       "\n",
       "    .dataframe tbody tr th {\n",
       "        vertical-align: top;\n",
       "    }\n",
       "\n",
       "    .dataframe thead th {\n",
       "        text-align: right;\n",
       "    }\n",
       "</style>\n",
       "<table border=\"1\" class=\"dataframe\">\n",
       "  <thead>\n",
       "    <tr style=\"text-align: right;\">\n",
       "      <th></th>\n",
       "      <th>일련번호</th>\n",
       "      <th>사용중인보조기기</th>\n",
       "    </tr>\n",
       "    <tr>\n",
       "      <th>GMFCS_Level</th>\n",
       "      <th></th>\n",
       "      <th></th>\n",
       "    </tr>\n",
       "  </thead>\n",
       "  <tbody>\n",
       "    <tr>\n",
       "      <th>5</th>\n",
       "      <td>147</td>\n",
       "      <td>이너</td>\n",
       "    </tr>\n",
       "    <tr>\n",
       "      <th>5</th>\n",
       "      <td>147</td>\n",
       "      <td>스탠더(기립기)</td>\n",
       "    </tr>\n",
       "    <tr>\n",
       "      <th>5</th>\n",
       "      <td>148</td>\n",
       "      <td>휠체어</td>\n",
       "    </tr>\n",
       "    <tr>\n",
       "      <th>5</th>\n",
       "      <td>148</td>\n",
       "      <td>전동휠체어</td>\n",
       "    </tr>\n",
       "    <tr>\n",
       "      <th>5</th>\n",
       "      <td>148</td>\n",
       "      <td>이너</td>\n",
       "    </tr>\n",
       "    <tr>\n",
       "      <th>4</th>\n",
       "      <td>149</td>\n",
       "      <td>워커</td>\n",
       "    </tr>\n",
       "    <tr>\n",
       "      <th>4</th>\n",
       "      <td>150</td>\n",
       "      <td>휠체어</td>\n",
       "    </tr>\n",
       "    <tr>\n",
       "      <th>4</th>\n",
       "      <td>151</td>\n",
       "      <td>전동휠체어</td>\n",
       "    </tr>\n",
       "    <tr>\n",
       "      <th>4</th>\n",
       "      <td>151</td>\n",
       "      <td>발 보조기(단하지)</td>\n",
       "    </tr>\n",
       "    <tr>\n",
       "      <th>5</th>\n",
       "      <td>152</td>\n",
       "      <td>신발보조기</td>\n",
       "    </tr>\n",
       "  </tbody>\n",
       "</table>\n",
       "</div>"
      ],
      "text/plain": [
       "             일련번호    사용중인보조기기\n",
       "GMFCS_Level                  \n",
       "5             147          이너\n",
       "5             147    스탠더(기립기)\n",
       "5             148         휠체어\n",
       "5             148       전동휠체어\n",
       "5             148          이너\n",
       "4             149          워커\n",
       "4             150         휠체어\n",
       "4             151       전동휠체어\n",
       "4             151  발 보조기(단하지)\n",
       "5             152       신발보조기"
      ]
     },
     "execution_count": 190,
     "metadata": {},
     "output_type": "execute_result"
    }
   ],
   "source": [
    "df4=df3.set_index('GMFCS_Level')\n",
    "df4.tail(10)"
   ]
  },
  {
   "cell_type": "code",
   "execution_count": 191,
   "id": "35f42e28-d233-4658-9ca9-9d7dbeb4acb8",
   "metadata": {},
   "outputs": [],
   "source": [
    "df4 = df3.sort_values(by=['GMFCS_Level'], ascending=True)"
   ]
  },
  {
   "cell_type": "code",
   "execution_count": 208,
   "id": "62ae52a8-a6ad-48dd-b081-bdf8462c44f6",
   "metadata": {},
   "outputs": [
    {
     "data": {
      "application/vnd.plotly.v1+json": {
       "config": {
        "plotlyServerURL": "https://plot.ly"
       },
       "data": [
        {
         "coloraxis": "coloraxis",
         "hovertemplate": "GMFCS_Level=%{x}<br>사용중인보조기기=%{y}<br>count=%{z}<extra></extra>",
         "name": "",
         "type": "histogram2d",
         "x": [
          "4",
          "4",
          "3",
          "3",
          "5",
          "5",
          "5",
          "5",
          "5",
          "5",
          "5",
          "5",
          "5",
          "5",
          "5",
          "5",
          "5",
          "5",
          "5",
          "5",
          "5",
          "5",
          "5",
          "3",
          "5",
          "5",
          "5",
          "5",
          "5",
          "5",
          "5",
          "5",
          "5",
          "5",
          "5",
          "5",
          "5",
          "5",
          "4",
          "4",
          "4",
          "5",
          "5",
          "3",
          "3",
          "5",
          "5",
          "5",
          "5",
          "5",
          "5",
          "5",
          "5",
          "5",
          "5",
          "5",
          "5",
          "5",
          "5",
          "5",
          "5",
          "5",
          "5",
          "5",
          "5",
          "3",
          "3",
          "3",
          "5",
          "5",
          "5",
          "5",
          "5",
          "5",
          "5",
          "5",
          "5",
          "5",
          "5",
          "5",
          "5",
          "5",
          "5",
          "5",
          "5",
          "5",
          "5",
          "5",
          "5",
          "5",
          "5",
          "5",
          "5",
          "5",
          "5",
          "5",
          "5",
          "5",
          "5",
          "5",
          "5",
          "5",
          "5",
          "5",
          "3",
          "5",
          "5",
          "5",
          "5",
          "5",
          "5",
          "5",
          "5",
          "5",
          "5",
          "5",
          "4",
          "4",
          "4",
          "5",
          "4",
          "3",
          "3",
          "5",
          "5",
          "5",
          "5",
          "5",
          "5",
          "5",
          "4",
          "4",
          "4",
          "4",
          "5",
          "5",
          "5",
          "5",
          "5",
          "5",
          "5",
          "5",
          "5",
          "5",
          "5",
          "5",
          "5",
          "5",
          "5",
          "3",
          "5",
          "5",
          "5",
          "5",
          "4",
          "4",
          "4",
          "4",
          "5",
          "5",
          "5",
          "5",
          "5",
          "5",
          "5",
          "5",
          "5",
          "5",
          "5",
          "5",
          "5",
          "5",
          "5",
          "5",
          "5",
          "4",
          "4",
          "4",
          "4",
          "4",
          "4",
          "5",
          "5",
          "5",
          "5",
          "5",
          "5",
          "4",
          "5",
          "5",
          "5",
          "5",
          "5",
          "5",
          "5",
          "5",
          "5",
          "5",
          "5",
          "5",
          "5",
          "5",
          "5",
          "5",
          "5",
          "5",
          "5",
          "5",
          "5",
          "5",
          "5",
          "5",
          "5",
          "5",
          "3",
          "3",
          "5",
          "5",
          "5",
          "3",
          "3",
          "5",
          "5",
          "5",
          "5",
          "5",
          "5",
          "5",
          "5",
          "5",
          "5",
          "5",
          "5",
          "5",
          "5",
          "5",
          "5",
          "5",
          "5",
          "5",
          "5",
          "5",
          "5",
          "5",
          "5",
          "3",
          "3",
          "3",
          "3",
          "5",
          "5",
          "5",
          "5",
          "5",
          "5",
          "5",
          "5",
          "5",
          "3",
          "5",
          "5",
          "5",
          "5",
          "5",
          "5",
          "5",
          "5",
          "5",
          "4",
          "4",
          "4",
          "4",
          "4",
          "4",
          "5",
          "5",
          "5",
          "5",
          "5",
          "5",
          "5",
          "5",
          "5",
          "5",
          "4",
          "3",
          "5",
          "5",
          "5",
          "5",
          "5",
          "5",
          "5",
          "5",
          "5",
          "3",
          "3",
          "4",
          "4",
          "4",
          "5",
          "5",
          "5",
          "5",
          "5",
          "5",
          "5",
          "5",
          "3",
          "5",
          "5",
          "5",
          "4",
          "4",
          "4",
          "5",
          "4",
          "4",
          "5",
          "5",
          "5",
          "3",
          "3",
          "3",
          "5",
          "5",
          "3",
          "5",
          "5",
          "5",
          "5",
          "5",
          "5",
          "5",
          "5",
          "5",
          "5",
          "4",
          "4",
          "4",
          "4",
          "5"
         ],
         "xaxis": "x",
         "xbingroup": "x",
         "y": [
          "휠체어",
          "전동휠체어",
          "휠체어",
          "워커",
          "휠체어",
          "유모차형 휠체어",
          "이너",
          "워커",
          "발 보조기(발목)",
          "스탠더",
          "휠체어",
          "유모차형 휠체어",
          "이너",
          "발 보조기(발목)",
          "발 보조기(발목)",
          "신발보조기(정형구두)",
          "유모차형 휠체어(장애인 유모차)",
          "이너",
          "발 보조기",
          "스탠더",
          "휠체어",
          "이너",
          "발 보조기",
          "신발보조기",
          "유모차형 휠체어",
          "스탠더",
          "유모차형 휠체어",
          "이너",
          "발 보조기",
          "피더시트",
          "휠체어",
          "이너",
          "다리 보조기",
          "휠체어",
          "이너",
          "발 보조기",
          "휠체어",
          "유모차형 휠체어",
          "휠체어",
          "이너",
          "유모차형 휠체어(장애인 유모차)",
          "휠체어",
          "발 보조기",
          "휠체어",
          "피더시트",
          "휠체어",
          "유모차형 휠체어",
          "이너",
          "발 보조기(발목)",
          "스탠더",
          "피더시트",
          "카시트",
          "목욕의자",
          "이너",
          "발 보조기",
          "스탠더",
          "피더시트",
          "카시트",
          "목욕의자",
          "이너",
          "이너",
          "휠체어",
          "발 보조기(발목)",
          "스탠더",
          "카시트",
          "휠체어",
          "이너",
          "워커",
          "휠체어",
          "이너",
          "발 보조기",
          "스탠더",
          "휠체어",
          "이너",
          "발 보조기",
          "스탠더",
          "피더시트",
          "발 보조기",
          "휠체어",
          "이너",
          "발 보조기(발목)",
          "스탠더",
          "카시트",
          "휠체어",
          "이너",
          "발 보조기(발목)",
          "신발보조기",
          "휠체어",
          "이너",
          "발 보조기",
          "스탠더",
          "발 보조기",
          "휠체어",
          "워커",
          "신발보조기",
          "유모차형 휠체어",
          "워커",
          "유모차형 휠체어",
          "이너",
          "유모차형 휠체어",
          "신발보조기",
          "휠체어",
          "유모차형 휠체어",
          "스탠더",
          "다리 보조기",
          "휠체어",
          "이너",
          "발 보조기",
          "휠체어",
          "이너",
          "발 보조기(발목)",
          "피더시트",
          "유모차형 휠체어",
          "이너",
          "피더시트",
          "휠체어",
          "휠체어",
          "스탠더",
          "신발보조기",
          "휠체어",
          "발 보조기(발목)",
          "유모차형 휠체어",
          "신발보조기",
          "휠체어",
          "유모차형 휠체어",
          "이너",
          "목욕의자",
          "발 보조기",
          "유모차형 휠체어(장애인 유모차)",
          "이너",
          "유모차형 휠체어(장애인 유모차)",
          "휠체어",
          "발 보조기(발목)",
          "스탠더",
          "휠체어",
          "이너",
          "발 보조기",
          "스탠더",
          "휠체어",
          "발 보조기",
          "휠체어",
          "워커",
          "휠체어",
          "워커",
          "스탠더",
          "유모차형 휠체어",
          "스탠더",
          "이너",
          "발 보조기(발목)",
          "휠체어",
          "휠체어",
          "이너",
          "발 보조기(발목)",
          "카시트",
          "휠체어",
          "전동휠체어",
          "이너",
          "발 보조기(발목)",
          "휠체어",
          "유모차형 휠체어",
          "이너",
          "피더시트",
          "휠체어",
          "이너",
          "다리 보조기",
          "휠체어",
          "유모차형 휠체어",
          "이너",
          "발 보조기(발목)",
          "유모차형 휠체어(장애인 유모차)",
          "발 보조기",
          "목욕의자",
          "휠체어",
          "전동휠체어",
          "워커",
          "휠체어",
          "전동휠체어",
          "휠체어",
          "워커",
          "발 보조기(발목)",
          "스탠더",
          "유모차형 휠체어",
          "이너",
          "발 보조기",
          "목욕의자",
          "휠체어",
          "스탠더",
          "발 보조기",
          "이너",
          "휠체어",
          "발 보조기",
          "이너",
          "이너",
          "발 보조기(발목)",
          "휠체어",
          "워커",
          "발 보조기",
          "스탠더",
          "발 보조기",
          "휠체어",
          "유모차형 휠체어(장애인 유모차)",
          "이너",
          "발 보조기(발목)",
          "스탠더",
          "피더시트",
          "발 보조기",
          "발 보조기",
          "휠체어",
          "이너",
          "휠체어",
          "이너",
          "발 보조기(발목)",
          "휠체어",
          "이너",
          "휠체어",
          "신발보조기",
          "유모차형 휠체어(장애인 유모차)",
          "발 보조기",
          "스탠더",
          "휠체어",
          "카시트",
          "유모차형 휠체어(장애인 유모차)",
          "발 보조기",
          "스탠더",
          "휠체어",
          "유모차형 휠체어",
          "이너",
          "카시트",
          "목욕의자",
          "휠체어",
          "목욕의자",
          "휠체어",
          "발 보조기(발목)",
          "휠체어",
          "이너",
          "발 보조기(발목)",
          "휠체어",
          "유모차형 휠체어",
          "이너",
          "휠체어",
          "유모차형 휠체어",
          "이너",
          "발 보조기",
          "스탠더(기립기)",
          "카시트",
          "휠체어",
          "유모차형 휠체어(장애인 유모차)",
          "스탠더",
          "신발보조기",
          "휠체어",
          "유모차형 휠체어",
          "이너",
          "스탠더",
          "카시트",
          "이너",
          "휠체어",
          "유모차형 휠체어",
          "카시트",
          "유모차형 휠체어",
          "휠체어",
          "목욕의자",
          "휠체어",
          "유모차형 휠체어",
          "피더시트",
          "유모차형 휠체어",
          "이너",
          "발 보조기",
          "피더시트",
          "유모차형 휠체어",
          "이너",
          "발 보조기",
          "피더시트",
          "카시트",
          "스탠더(기립기)",
          "휠체어",
          "이너",
          "발 보조기(발목)",
          "스탠더",
          "피더시트",
          "유모차형 휠체어",
          "이너",
          "발 보조기",
          "스탠더",
          "유모차형 휠체어",
          "발 보조기(발목)",
          "신발보조기",
          "휠체어",
          "이너",
          "발 보조기(발목)",
          "스탠더",
          "휠체어",
          "이너",
          "발 보조기",
          "휠체어",
          "카시트",
          "다리 보조기",
          "다리 보조기",
          "휠체어",
          "이너",
          "발 보조기",
          "이너",
          "발 보조기",
          "휠체어",
          "다리 보조기",
          "이너",
          "발 보조기",
          "신발보조기(정형구두)",
          "이너",
          "휠체어",
          "유모차형 휠체어",
          "스탠더(기립기)",
          "휠체어(가변형)",
          "휠체어",
          "워커",
          "발 보조기(발목)",
          "발 보조기",
          "신발보조기",
          "발 보조기(발목)",
          "휠체어",
          "이너",
          "발 보조기",
          "스탠더",
          "발 보조기(발목)",
          "발 보조기(발목)",
          "이너",
          "발 보조기(발목)",
          "발 보조기(발목)",
          "발 보조기(발목)",
          "휠체어",
          "이너",
          "신발보조기(정형구두)",
          "유모차형 휠체어",
          "이너",
          "스탠더(기립기)",
          "휠체어",
          "전동휠체어",
          "이너",
          "워커",
          "휠체어",
          "전동휠체어",
          "발 보조기(단하지)",
          "신발보조기"
         ],
         "yaxis": "y",
         "ybingroup": "y"
        }
       ],
       "layout": {
        "autosize": true,
        "coloraxis": {
         "colorbar": {
          "title": {
           "text": "count"
          }
         },
         "colorscale": [
          [
           0,
           "purple"
          ],
          [
           0.2,
           "blue"
          ],
          [
           0.4,
           "green"
          ],
          [
           0.6,
           "yellow"
          ],
          [
           0.8,
           "orange"
          ],
          [
           1,
           "red"
          ]
         ]
        },
        "legend": {
         "tracegroupgap": 0
        },
        "margin": {
         "t": 60
        },
        "template": {
         "data": {
          "bar": [
           {
            "error_x": {
             "color": "#2a3f5f"
            },
            "error_y": {
             "color": "#2a3f5f"
            },
            "marker": {
             "line": {
              "color": "#E5ECF6",
              "width": 0.5
             },
             "pattern": {
              "fillmode": "overlay",
              "size": 10,
              "solidity": 0.2
             }
            },
            "type": "bar"
           }
          ],
          "barpolar": [
           {
            "marker": {
             "line": {
              "color": "#E5ECF6",
              "width": 0.5
             },
             "pattern": {
              "fillmode": "overlay",
              "size": 10,
              "solidity": 0.2
             }
            },
            "type": "barpolar"
           }
          ],
          "carpet": [
           {
            "aaxis": {
             "endlinecolor": "#2a3f5f",
             "gridcolor": "white",
             "linecolor": "white",
             "minorgridcolor": "white",
             "startlinecolor": "#2a3f5f"
            },
            "baxis": {
             "endlinecolor": "#2a3f5f",
             "gridcolor": "white",
             "linecolor": "white",
             "minorgridcolor": "white",
             "startlinecolor": "#2a3f5f"
            },
            "type": "carpet"
           }
          ],
          "choropleth": [
           {
            "colorbar": {
             "outlinewidth": 0,
             "ticks": ""
            },
            "type": "choropleth"
           }
          ],
          "contour": [
           {
            "colorbar": {
             "outlinewidth": 0,
             "ticks": ""
            },
            "colorscale": [
             [
              0,
              "#0d0887"
             ],
             [
              0.1111111111111111,
              "#46039f"
             ],
             [
              0.2222222222222222,
              "#7201a8"
             ],
             [
              0.3333333333333333,
              "#9c179e"
             ],
             [
              0.4444444444444444,
              "#bd3786"
             ],
             [
              0.5555555555555556,
              "#d8576b"
             ],
             [
              0.6666666666666666,
              "#ed7953"
             ],
             [
              0.7777777777777778,
              "#fb9f3a"
             ],
             [
              0.8888888888888888,
              "#fdca26"
             ],
             [
              1,
              "#f0f921"
             ]
            ],
            "type": "contour"
           }
          ],
          "contourcarpet": [
           {
            "colorbar": {
             "outlinewidth": 0,
             "ticks": ""
            },
            "type": "contourcarpet"
           }
          ],
          "heatmap": [
           {
            "colorbar": {
             "outlinewidth": 0,
             "ticks": ""
            },
            "colorscale": [
             [
              0,
              "#0d0887"
             ],
             [
              0.1111111111111111,
              "#46039f"
             ],
             [
              0.2222222222222222,
              "#7201a8"
             ],
             [
              0.3333333333333333,
              "#9c179e"
             ],
             [
              0.4444444444444444,
              "#bd3786"
             ],
             [
              0.5555555555555556,
              "#d8576b"
             ],
             [
              0.6666666666666666,
              "#ed7953"
             ],
             [
              0.7777777777777778,
              "#fb9f3a"
             ],
             [
              0.8888888888888888,
              "#fdca26"
             ],
             [
              1,
              "#f0f921"
             ]
            ],
            "type": "heatmap"
           }
          ],
          "heatmapgl": [
           {
            "colorbar": {
             "outlinewidth": 0,
             "ticks": ""
            },
            "colorscale": [
             [
              0,
              "#0d0887"
             ],
             [
              0.1111111111111111,
              "#46039f"
             ],
             [
              0.2222222222222222,
              "#7201a8"
             ],
             [
              0.3333333333333333,
              "#9c179e"
             ],
             [
              0.4444444444444444,
              "#bd3786"
             ],
             [
              0.5555555555555556,
              "#d8576b"
             ],
             [
              0.6666666666666666,
              "#ed7953"
             ],
             [
              0.7777777777777778,
              "#fb9f3a"
             ],
             [
              0.8888888888888888,
              "#fdca26"
             ],
             [
              1,
              "#f0f921"
             ]
            ],
            "type": "heatmapgl"
           }
          ],
          "histogram": [
           {
            "marker": {
             "pattern": {
              "fillmode": "overlay",
              "size": 10,
              "solidity": 0.2
             }
            },
            "type": "histogram"
           }
          ],
          "histogram2d": [
           {
            "colorbar": {
             "outlinewidth": 0,
             "ticks": ""
            },
            "colorscale": [
             [
              0,
              "#0d0887"
             ],
             [
              0.1111111111111111,
              "#46039f"
             ],
             [
              0.2222222222222222,
              "#7201a8"
             ],
             [
              0.3333333333333333,
              "#9c179e"
             ],
             [
              0.4444444444444444,
              "#bd3786"
             ],
             [
              0.5555555555555556,
              "#d8576b"
             ],
             [
              0.6666666666666666,
              "#ed7953"
             ],
             [
              0.7777777777777778,
              "#fb9f3a"
             ],
             [
              0.8888888888888888,
              "#fdca26"
             ],
             [
              1,
              "#f0f921"
             ]
            ],
            "type": "histogram2d"
           }
          ],
          "histogram2dcontour": [
           {
            "colorbar": {
             "outlinewidth": 0,
             "ticks": ""
            },
            "colorscale": [
             [
              0,
              "#0d0887"
             ],
             [
              0.1111111111111111,
              "#46039f"
             ],
             [
              0.2222222222222222,
              "#7201a8"
             ],
             [
              0.3333333333333333,
              "#9c179e"
             ],
             [
              0.4444444444444444,
              "#bd3786"
             ],
             [
              0.5555555555555556,
              "#d8576b"
             ],
             [
              0.6666666666666666,
              "#ed7953"
             ],
             [
              0.7777777777777778,
              "#fb9f3a"
             ],
             [
              0.8888888888888888,
              "#fdca26"
             ],
             [
              1,
              "#f0f921"
             ]
            ],
            "type": "histogram2dcontour"
           }
          ],
          "mesh3d": [
           {
            "colorbar": {
             "outlinewidth": 0,
             "ticks": ""
            },
            "type": "mesh3d"
           }
          ],
          "parcoords": [
           {
            "line": {
             "colorbar": {
              "outlinewidth": 0,
              "ticks": ""
             }
            },
            "type": "parcoords"
           }
          ],
          "pie": [
           {
            "automargin": true,
            "type": "pie"
           }
          ],
          "scatter": [
           {
            "marker": {
             "colorbar": {
              "outlinewidth": 0,
              "ticks": ""
             }
            },
            "type": "scatter"
           }
          ],
          "scatter3d": [
           {
            "line": {
             "colorbar": {
              "outlinewidth": 0,
              "ticks": ""
             }
            },
            "marker": {
             "colorbar": {
              "outlinewidth": 0,
              "ticks": ""
             }
            },
            "type": "scatter3d"
           }
          ],
          "scattercarpet": [
           {
            "marker": {
             "colorbar": {
              "outlinewidth": 0,
              "ticks": ""
             }
            },
            "type": "scattercarpet"
           }
          ],
          "scattergeo": [
           {
            "marker": {
             "colorbar": {
              "outlinewidth": 0,
              "ticks": ""
             }
            },
            "type": "scattergeo"
           }
          ],
          "scattergl": [
           {
            "marker": {
             "colorbar": {
              "outlinewidth": 0,
              "ticks": ""
             }
            },
            "type": "scattergl"
           }
          ],
          "scattermapbox": [
           {
            "marker": {
             "colorbar": {
              "outlinewidth": 0,
              "ticks": ""
             }
            },
            "type": "scattermapbox"
           }
          ],
          "scatterpolar": [
           {
            "marker": {
             "colorbar": {
              "outlinewidth": 0,
              "ticks": ""
             }
            },
            "type": "scatterpolar"
           }
          ],
          "scatterpolargl": [
           {
            "marker": {
             "colorbar": {
              "outlinewidth": 0,
              "ticks": ""
             }
            },
            "type": "scatterpolargl"
           }
          ],
          "scatterternary": [
           {
            "marker": {
             "colorbar": {
              "outlinewidth": 0,
              "ticks": ""
             }
            },
            "type": "scatterternary"
           }
          ],
          "surface": [
           {
            "colorbar": {
             "outlinewidth": 0,
             "ticks": ""
            },
            "colorscale": [
             [
              0,
              "#0d0887"
             ],
             [
              0.1111111111111111,
              "#46039f"
             ],
             [
              0.2222222222222222,
              "#7201a8"
             ],
             [
              0.3333333333333333,
              "#9c179e"
             ],
             [
              0.4444444444444444,
              "#bd3786"
             ],
             [
              0.5555555555555556,
              "#d8576b"
             ],
             [
              0.6666666666666666,
              "#ed7953"
             ],
             [
              0.7777777777777778,
              "#fb9f3a"
             ],
             [
              0.8888888888888888,
              "#fdca26"
             ],
             [
              1,
              "#f0f921"
             ]
            ],
            "type": "surface"
           }
          ],
          "table": [
           {
            "cells": {
             "fill": {
              "color": "#EBF0F8"
             },
             "line": {
              "color": "white"
             }
            },
            "header": {
             "fill": {
              "color": "#C8D4E3"
             },
             "line": {
              "color": "white"
             }
            },
            "type": "table"
           }
          ]
         },
         "layout": {
          "annotationdefaults": {
           "arrowcolor": "#2a3f5f",
           "arrowhead": 0,
           "arrowwidth": 1
          },
          "autotypenumbers": "strict",
          "coloraxis": {
           "colorbar": {
            "outlinewidth": 0,
            "ticks": ""
           }
          },
          "colorscale": {
           "diverging": [
            [
             0,
             "#8e0152"
            ],
            [
             0.1,
             "#c51b7d"
            ],
            [
             0.2,
             "#de77ae"
            ],
            [
             0.3,
             "#f1b6da"
            ],
            [
             0.4,
             "#fde0ef"
            ],
            [
             0.5,
             "#f7f7f7"
            ],
            [
             0.6,
             "#e6f5d0"
            ],
            [
             0.7,
             "#b8e186"
            ],
            [
             0.8,
             "#7fbc41"
            ],
            [
             0.9,
             "#4d9221"
            ],
            [
             1,
             "#276419"
            ]
           ],
           "sequential": [
            [
             0,
             "#0d0887"
            ],
            [
             0.1111111111111111,
             "#46039f"
            ],
            [
             0.2222222222222222,
             "#7201a8"
            ],
            [
             0.3333333333333333,
             "#9c179e"
            ],
            [
             0.4444444444444444,
             "#bd3786"
            ],
            [
             0.5555555555555556,
             "#d8576b"
            ],
            [
             0.6666666666666666,
             "#ed7953"
            ],
            [
             0.7777777777777778,
             "#fb9f3a"
            ],
            [
             0.8888888888888888,
             "#fdca26"
            ],
            [
             1,
             "#f0f921"
            ]
           ],
           "sequentialminus": [
            [
             0,
             "#0d0887"
            ],
            [
             0.1111111111111111,
             "#46039f"
            ],
            [
             0.2222222222222222,
             "#7201a8"
            ],
            [
             0.3333333333333333,
             "#9c179e"
            ],
            [
             0.4444444444444444,
             "#bd3786"
            ],
            [
             0.5555555555555556,
             "#d8576b"
            ],
            [
             0.6666666666666666,
             "#ed7953"
            ],
            [
             0.7777777777777778,
             "#fb9f3a"
            ],
            [
             0.8888888888888888,
             "#fdca26"
            ],
            [
             1,
             "#f0f921"
            ]
           ]
          },
          "colorway": [
           "#636efa",
           "#EF553B",
           "#00cc96",
           "#ab63fa",
           "#FFA15A",
           "#19d3f3",
           "#FF6692",
           "#B6E880",
           "#FF97FF",
           "#FECB52"
          ],
          "font": {
           "color": "#2a3f5f"
          },
          "geo": {
           "bgcolor": "white",
           "lakecolor": "white",
           "landcolor": "#E5ECF6",
           "showlakes": true,
           "showland": true,
           "subunitcolor": "white"
          },
          "hoverlabel": {
           "align": "left"
          },
          "hovermode": "closest",
          "mapbox": {
           "style": "light"
          },
          "paper_bgcolor": "white",
          "plot_bgcolor": "#E5ECF6",
          "polar": {
           "angularaxis": {
            "gridcolor": "white",
            "linecolor": "white",
            "ticks": ""
           },
           "bgcolor": "#E5ECF6",
           "radialaxis": {
            "gridcolor": "white",
            "linecolor": "white",
            "ticks": ""
           }
          },
          "scene": {
           "xaxis": {
            "backgroundcolor": "#E5ECF6",
            "gridcolor": "white",
            "gridwidth": 2,
            "linecolor": "white",
            "showbackground": true,
            "ticks": "",
            "zerolinecolor": "white"
           },
           "yaxis": {
            "backgroundcolor": "#E5ECF6",
            "gridcolor": "white",
            "gridwidth": 2,
            "linecolor": "white",
            "showbackground": true,
            "ticks": "",
            "zerolinecolor": "white"
           },
           "zaxis": {
            "backgroundcolor": "#E5ECF6",
            "gridcolor": "white",
            "gridwidth": 2,
            "linecolor": "white",
            "showbackground": true,
            "ticks": "",
            "zerolinecolor": "white"
           }
          },
          "shapedefaults": {
           "line": {
            "color": "#2a3f5f"
           }
          },
          "ternary": {
           "aaxis": {
            "gridcolor": "white",
            "linecolor": "white",
            "ticks": ""
           },
           "baxis": {
            "gridcolor": "white",
            "linecolor": "white",
            "ticks": ""
           },
           "bgcolor": "#E5ECF6",
           "caxis": {
            "gridcolor": "white",
            "linecolor": "white",
            "ticks": ""
           }
          },
          "title": {
           "x": 0.05
          },
          "xaxis": {
           "automargin": true,
           "gridcolor": "white",
           "linecolor": "white",
           "ticks": "",
           "title": {
            "standoff": 15
           },
           "zerolinecolor": "white",
           "zerolinewidth": 2
          },
          "yaxis": {
           "automargin": true,
           "gridcolor": "white",
           "linecolor": "white",
           "ticks": "",
           "title": {
            "standoff": 15
           },
           "zerolinecolor": "white",
           "zerolinewidth": 2
          }
         }
        },
        "xaxis": {
         "anchor": "y",
         "autorange": true,
         "domain": [
          0,
          1
         ],
         "range": [
          -0.5,
          2.5
         ],
         "title": {
          "text": "GMFCS_Level"
         },
         "type": "category"
        },
        "yaxis": {
         "anchor": "x",
         "autorange": true,
         "domain": [
          0,
          1
         ],
         "range": [
          -0.5,
          17.5
         ],
         "title": {
          "text": "사용중인보조기기"
         },
         "type": "category"
        }
       }
      },
      "image/png": "[encoded data removed]",
      "text/html": [
       "<div>                            <div id=\"7e99e42b-f32c-4d77-a1f7-63216c8e5b09\" class=\"plotly-graph-div\" style=\"height:525px; width:100%;\"></div>            <script type=\"text/javascript\">                require([\"plotly\"], function(Plotly) {                    window.PLOTLYENV=window.PLOTLYENV || {};                                    if (document.getElementById(\"7e99e42b-f32c-4d77-a1f7-63216c8e5b09\")) {                    Plotly.newPlot(                        \"7e99e42b-f32c-4d77-a1f7-63216c8e5b09\",                        [{\"coloraxis\":\"coloraxis\",\"hovertemplate\":\"GMFCS_Level=%{x}<br>\\uc0ac\\uc6a9\\uc911\\uc778\\ubcf4\\uc870\\uae30\\uae30=%{y}<br>count=%{z}<extra></extra>\",\"name\":\"\",\"type\":\"histogram2d\",\"x\":[\"4\",\"4\",\"3\",\"3\",\"5\",\"5\",\"5\",\"5\",\"5\",\"5\",\"5\",\"5\",\"5\",\"5\",\"5\",\"5\",\"5\",\"5\",\"5\",\"5\",\"5\",\"5\",\"5\",\"3\",\"5\",\"5\",\"5\",\"5\",\"5\",\"5\",\"5\",\"5\",\"5\",\"5\",\"5\",\"5\",\"5\",\"5\",\"4\",\"4\",\"4\",\"5\",\"5\",\"3\",\"3\",\"5\",\"5\",\"5\",\"5\",\"5\",\"5\",\"5\",\"5\",\"5\",\"5\",\"5\",\"5\",\"5\",\"5\",\"5\",\"5\",\"5\",\"5\",\"5\",\"5\",\"3\",\"3\",\"3\",\"5\",\"5\",\"5\",\"5\",\"5\",\"5\",\"5\",\"5\",\"5\",\"5\",\"5\",\"5\",\"5\",\"5\",\"5\",\"5\",\"5\",\"5\",\"5\",\"5\",\"5\",\"5\",\"5\",\"5\",\"5\",\"5\",\"5\",\"5\",\"5\",\"5\",\"5\",\"5\",\"5\",\"5\",\"5\",\"5\",\"3\",\"5\",\"5\",\"5\",\"5\",\"5\",\"5\",\"5\",\"5\",\"5\",\"5\",\"5\",\"4\",\"4\",\"4\",\"5\",\"4\",\"3\",\"3\",\"5\",\"5\",\"5\",\"5\",\"5\",\"5\",\"5\",\"4\",\"4\",\"4\",\"4\",\"5\",\"5\",\"5\",\"5\",\"5\",\"5\",\"5\",\"5\",\"5\",\"5\",\"5\",\"5\",\"5\",\"5\",\"5\",\"3\",\"5\",\"5\",\"5\",\"5\",\"4\",\"4\",\"4\",\"4\",\"5\",\"5\",\"5\",\"5\",\"5\",\"5\",\"5\",\"5\",\"5\",\"5\",\"5\",\"5\",\"5\",\"5\",\"5\",\"5\",\"5\",\"4\",\"4\",\"4\",\"4\",\"4\",\"4\",\"5\",\"5\",\"5\",\"5\",\"5\",\"5\",\"4\",\"5\",\"5\",\"5\",\"5\",\"5\",\"5\",\"5\",\"5\",\"5\",\"5\",\"5\",\"5\",\"5\",\"5\",\"5\",\"5\",\"5\",\"5\",\"5\",\"5\",\"5\",\"5\",\"5\",\"5\",\"5\",\"5\",\"3\",\"3\",\"5\",\"5\",\"5\",\"3\",\"3\",\"5\",\"5\",\"5\",\"5\",\"5\",\"5\",\"5\",\"5\",\"5\",\"5\",\"5\",\"5\",\"5\",\"5\",\"5\",\"5\",\"5\",\"5\",\"5\",\"5\",\"5\",\"5\",\"5\",\"5\",\"3\",\"3\",\"3\",\"3\",\"5\",\"5\",\"5\",\"5\",\"5\",\"5\",\"5\",\"5\",\"5\",\"3\",\"5\",\"5\",\"5\",\"5\",\"5\",\"5\",\"5\",\"5\",\"5\",\"4\",\"4\",\"4\",\"4\",\"4\",\"4\",\"5\",\"5\",\"5\",\"5\",\"5\",\"5\",\"5\",\"5\",\"5\",\"5\",\"4\",\"3\",\"5\",\"5\",\"5\",\"5\",\"5\",\"5\",\"5\",\"5\",\"5\",\"3\",\"3\",\"4\",\"4\",\"4\",\"5\",\"5\",\"5\",\"5\",\"5\",\"5\",\"5\",\"5\",\"3\",\"5\",\"5\",\"5\",\"4\",\"4\",\"4\",\"5\",\"4\",\"4\",\"5\",\"5\",\"5\",\"3\",\"3\",\"3\",\"5\",\"5\",\"3\",\"5\",\"5\",\"5\",\"5\",\"5\",\"5\",\"5\",\"5\",\"5\",\"5\",\"4\",\"4\",\"4\",\"4\",\"5\"],\"xaxis\":\"x\",\"xbingroup\":\"x\",\"y\":[\"\\ud720\\uccb4\\uc5b4\",\"\\uc804\\ub3d9\\ud720\\uccb4\\uc5b4\",\"\\ud720\\uccb4\\uc5b4\",\"\\uc6cc\\ucee4\",\"\\ud720\\uccb4\\uc5b4\",\"\\uc720\\ubaa8\\ucc28\\ud615 \\ud720\\uccb4\\uc5b4\",\"\\uc774\\ub108\",\"\\uc6cc\\ucee4\",\"\\ubc1c \\ubcf4\\uc870\\uae30(\\ubc1c\\ubaa9)\",\"\\uc2a4\\ud0e0\\ub354\",\"\\ud720\\uccb4\\uc5b4\",\"\\uc720\\ubaa8\\ucc28\\ud615 \\ud720\\uccb4\\uc5b4\",\"\\uc774\\ub108\",\"\\ubc1c \\ubcf4\\uc870\\uae30(\\ubc1c\\ubaa9)\",\"\\ubc1c \\ubcf4\\uc870\\uae30(\\ubc1c\\ubaa9)\",\"\\uc2e0\\ubc1c\\ubcf4\\uc870\\uae30(\\uc815\\ud615\\uad6c\\ub450)\",\"\\uc720\\ubaa8\\ucc28\\ud615 \\ud720\\uccb4\\uc5b4(\\uc7a5\\uc560\\uc778 \\uc720\\ubaa8\\ucc28)\",\"\\uc774\\ub108\",\"\\ubc1c \\ubcf4\\uc870\\uae30\",\"\\uc2a4\\ud0e0\\ub354\",\"\\ud720\\uccb4\\uc5b4\",\"\\uc774\\ub108\",\"\\ubc1c \\ubcf4\\uc870\\uae30\",\"\\uc2e0\\ubc1c\\ubcf4\\uc870\\uae30\",\"\\uc720\\ubaa8\\ucc28\\ud615 \\ud720\\uccb4\\uc5b4\",\"\\uc2a4\\ud0e0\\ub354\",\"\\uc720\\ubaa8\\ucc28\\ud615 \\ud720\\uccb4\\uc5b4\",\"\\uc774\\ub108\",\"\\ubc1c \\ubcf4\\uc870\\uae30\",\"\\ud53c\\ub354\\uc2dc\\ud2b8\",\"\\ud720\\uccb4\\uc5b4\",\"\\uc774\\ub108\",\"\\ub2e4\\ub9ac \\ubcf4\\uc870\\uae30\",\"\\ud720\\uccb4\\uc5b4\",\"\\uc774\\ub108\",\"\\ubc1c \\ubcf4\\uc870\\uae30\",\"\\ud720\\uccb4\\uc5b4\",\"\\uc720\\ubaa8\\ucc28\\ud615 \\ud720\\uccb4\\uc5b4\",\"\\ud720\\uccb4\\uc5b4\",\"\\uc774\\ub108\",\"\\uc720\\ubaa8\\ucc28\\ud615 \\ud720\\uccb4\\uc5b4(\\uc7a5\\uc560\\uc778 \\uc720\\ubaa8\\ucc28)\",\"\\ud720\\uccb4\\uc5b4\",\"\\ubc1c \\ubcf4\\uc870\\uae30\",\"\\ud720\\uccb4\\uc5b4\",\"\\ud53c\\ub354\\uc2dc\\ud2b8\",\"\\ud720\\uccb4\\uc5b4\",\"\\uc720\\ubaa8\\ucc28\\ud615 \\ud720\\uccb4\\uc5b4\",\"\\uc774\\ub108\",\"\\ubc1c \\ubcf4\\uc870\\uae30(\\ubc1c\\ubaa9)\",\"\\uc2a4\\ud0e0\\ub354\",\"\\ud53c\\ub354\\uc2dc\\ud2b8\",\"\\uce74\\uc2dc\\ud2b8\",\"\\ubaa9\\uc695\\uc758\\uc790\",\"\\uc774\\ub108\",\"\\ubc1c \\ubcf4\\uc870\\uae30\",\"\\uc2a4\\ud0e0\\ub354\",\"\\ud53c\\ub354\\uc2dc\\ud2b8\",\"\\uce74\\uc2dc\\ud2b8\",\"\\ubaa9\\uc695\\uc758\\uc790\",\"\\uc774\\ub108\",\"\\uc774\\ub108\",\"\\ud720\\uccb4\\uc5b4\",\"\\ubc1c \\ubcf4\\uc870\\uae30(\\ubc1c\\ubaa9)\",\"\\uc2a4\\ud0e0\\ub354\",\"\\uce74\\uc2dc\\ud2b8\",\"\\ud720\\uccb4\\uc5b4\",\"\\uc774\\ub108\",\"\\uc6cc\\ucee4\",\"\\ud720\\uccb4\\uc5b4\",\"\\uc774\\ub108\",\"\\ubc1c \\ubcf4\\uc870\\uae30\",\"\\uc2a4\\ud0e0\\ub354\",\"\\ud720\\uccb4\\uc5b4\",\"\\uc774\\ub108\",\"\\ubc1c \\ubcf4\\uc870\\uae30\",\"\\uc2a4\\ud0e0\\ub354\",\"\\ud53c\\ub354\\uc2dc\\ud2b8\",\"\\ubc1c \\ubcf4\\uc870\\uae30\",\"\\ud720\\uccb4\\uc5b4\",\"\\uc774\\ub108\",\"\\ubc1c \\ubcf4\\uc870\\uae30(\\ubc1c\\ubaa9)\",\"\\uc2a4\\ud0e0\\ub354\",\"\\uce74\\uc2dc\\ud2b8\",\"\\ud720\\uccb4\\uc5b4\",\"\\uc774\\ub108\",\"\\ubc1c \\ubcf4\\uc870\\uae30(\\ubc1c\\ubaa9)\",\"\\uc2e0\\ubc1c\\ubcf4\\uc870\\uae30\",\"\\ud720\\uccb4\\uc5b4\",\"\\uc774\\ub108\",\"\\ubc1c \\ubcf4\\uc870\\uae30\",\"\\uc2a4\\ud0e0\\ub354\",\"\\ubc1c \\ubcf4\\uc870\\uae30\",\"\\ud720\\uccb4\\uc5b4\",\"\\uc6cc\\ucee4\",\"\\uc2e0\\ubc1c\\ubcf4\\uc870\\uae30\",\"\\uc720\\ubaa8\\ucc28\\ud615 \\ud720\\uccb4\\uc5b4\",\"\\uc6cc\\ucee4\",\"\\uc720\\ubaa8\\ucc28\\ud615 \\ud720\\uccb4\\uc5b4\",\"\\uc774\\ub108\",\"\\uc720\\ubaa8\\ucc28\\ud615 \\ud720\\uccb4\\uc5b4\",\"\\uc2e0\\ubc1c\\ubcf4\\uc870\\uae30\",\"\\ud720\\uccb4\\uc5b4\",\"\\uc720\\ubaa8\\ucc28\\ud615 \\ud720\\uccb4\\uc5b4\",\"\\uc2a4\\ud0e0\\ub354\",\"\\ub2e4\\ub9ac \\ubcf4\\uc870\\uae30\",\"\\ud720\\uccb4\\uc5b4\",\"\\uc774\\ub108\",\"\\ubc1c \\ubcf4\\uc870\\uae30\",\"\\ud720\\uccb4\\uc5b4\",\"\\uc774\\ub108\",\"\\ubc1c \\ubcf4\\uc870\\uae30(\\ubc1c\\ubaa9)\",\"\\ud53c\\ub354\\uc2dc\\ud2b8\",\"\\uc720\\ubaa8\\ucc28\\ud615 \\ud720\\uccb4\\uc5b4\",\"\\uc774\\ub108\",\"\\ud53c\\ub354\\uc2dc\\ud2b8\",\"\\ud720\\uccb4\\uc5b4\",\"\\ud720\\uccb4\\uc5b4\",\"\\uc2a4\\ud0e0\\ub354\",\"\\uc2e0\\ubc1c\\ubcf4\\uc870\\uae30\",\"\\ud720\\uccb4\\uc5b4\",\"\\ubc1c \\ubcf4\\uc870\\uae30(\\ubc1c\\ubaa9)\",\"\\uc720\\ubaa8\\ucc28\\ud615 \\ud720\\uccb4\\uc5b4\",\"\\uc2e0\\ubc1c\\ubcf4\\uc870\\uae30\",\"\\ud720\\uccb4\\uc5b4\",\"\\uc720\\ubaa8\\ucc28\\ud615 \\ud720\\uccb4\\uc5b4\",\"\\uc774\\ub108\",\"\\ubaa9\\uc695\\uc758\\uc790\",\"\\ubc1c \\ubcf4\\uc870\\uae30\",\"\\uc720\\ubaa8\\ucc28\\ud615 \\ud720\\uccb4\\uc5b4(\\uc7a5\\uc560\\uc778 \\uc720\\ubaa8\\ucc28)\",\"\\uc774\\ub108\",\"\\uc720\\ubaa8\\ucc28\\ud615 \\ud720\\uccb4\\uc5b4(\\uc7a5\\uc560\\uc778 \\uc720\\ubaa8\\ucc28)\",\"\\ud720\\uccb4\\uc5b4\",\"\\ubc1c \\ubcf4\\uc870\\uae30(\\ubc1c\\ubaa9)\",\"\\uc2a4\\ud0e0\\ub354\",\"\\ud720\\uccb4\\uc5b4\",\"\\uc774\\ub108\",\"\\ubc1c \\ubcf4\\uc870\\uae30\",\"\\uc2a4\\ud0e0\\ub354\",\"\\ud720\\uccb4\\uc5b4\",\"\\ubc1c \\ubcf4\\uc870\\uae30\",\"\\ud720\\uccb4\\uc5b4\",\"\\uc6cc\\ucee4\",\"\\ud720\\uccb4\\uc5b4\",\"\\uc6cc\\ucee4\",\"\\uc2a4\\ud0e0\\ub354\",\"\\uc720\\ubaa8\\ucc28\\ud615 \\ud720\\uccb4\\uc5b4\",\"\\uc2a4\\ud0e0\\ub354\",\"\\uc774\\ub108\",\"\\ubc1c \\ubcf4\\uc870\\uae30(\\ubc1c\\ubaa9)\",\"\\ud720\\uccb4\\uc5b4\",\"\\ud720\\uccb4\\uc5b4\",\"\\uc774\\ub108\",\"\\ubc1c \\ubcf4\\uc870\\uae30(\\ubc1c\\ubaa9)\",\"\\uce74\\uc2dc\\ud2b8\",\"\\ud720\\uccb4\\uc5b4\",\"\\uc804\\ub3d9\\ud720\\uccb4\\uc5b4\",\"\\uc774\\ub108\",\"\\ubc1c \\ubcf4\\uc870\\uae30(\\ubc1c\\ubaa9)\",\"\\ud720\\uccb4\\uc5b4\",\"\\uc720\\ubaa8\\ucc28\\ud615 \\ud720\\uccb4\\uc5b4\",\"\\uc774\\ub108\",\"\\ud53c\\ub354\\uc2dc\\ud2b8\",\"\\ud720\\uccb4\\uc5b4\",\"\\uc774\\ub108\",\"\\ub2e4\\ub9ac \\ubcf4\\uc870\\uae30\",\"\\ud720\\uccb4\\uc5b4\",\"\\uc720\\ubaa8\\ucc28\\ud615 \\ud720\\uccb4\\uc5b4\",\"\\uc774\\ub108\",\"\\ubc1c \\ubcf4\\uc870\\uae30(\\ubc1c\\ubaa9)\",\"\\uc720\\ubaa8\\ucc28\\ud615 \\ud720\\uccb4\\uc5b4(\\uc7a5\\uc560\\uc778 \\uc720\\ubaa8\\ucc28)\",\"\\ubc1c \\ubcf4\\uc870\\uae30\",\"\\ubaa9\\uc695\\uc758\\uc790\",\"\\ud720\\uccb4\\uc5b4\",\"\\uc804\\ub3d9\\ud720\\uccb4\\uc5b4\",\"\\uc6cc\\ucee4\",\"\\ud720\\uccb4\\uc5b4\",\"\\uc804\\ub3d9\\ud720\\uccb4\\uc5b4\",\"\\ud720\\uccb4\\uc5b4\",\"\\uc6cc\\ucee4\",\"\\ubc1c \\ubcf4\\uc870\\uae30(\\ubc1c\\ubaa9)\",\"\\uc2a4\\ud0e0\\ub354\",\"\\uc720\\ubaa8\\ucc28\\ud615 \\ud720\\uccb4\\uc5b4\",\"\\uc774\\ub108\",\"\\ubc1c \\ubcf4\\uc870\\uae30\",\"\\ubaa9\\uc695\\uc758\\uc790\",\"\\ud720\\uccb4\\uc5b4\",\"\\uc2a4\\ud0e0\\ub354\",\"\\ubc1c \\ubcf4\\uc870\\uae30\",\"\\uc774\\ub108\",\"\\ud720\\uccb4\\uc5b4\",\"\\ubc1c \\ubcf4\\uc870\\uae30\",\"\\uc774\\ub108\",\"\\uc774\\ub108\",\"\\ubc1c \\ubcf4\\uc870\\uae30(\\ubc1c\\ubaa9)\",\"\\ud720\\uccb4\\uc5b4\",\"\\uc6cc\\ucee4\",\"\\ubc1c \\ubcf4\\uc870\\uae30\",\"\\uc2a4\\ud0e0\\ub354\",\"\\ubc1c \\ubcf4\\uc870\\uae30\",\"\\ud720\\uccb4\\uc5b4\",\"\\uc720\\ubaa8\\ucc28\\ud615 \\ud720\\uccb4\\uc5b4(\\uc7a5\\uc560\\uc778 \\uc720\\ubaa8\\ucc28)\",\"\\uc774\\ub108\",\"\\ubc1c \\ubcf4\\uc870\\uae30(\\ubc1c\\ubaa9)\",\"\\uc2a4\\ud0e0\\ub354\",\"\\ud53c\\ub354\\uc2dc\\ud2b8\",\"\\ubc1c \\ubcf4\\uc870\\uae30\",\"\\ubc1c \\ubcf4\\uc870\\uae30\",\"\\ud720\\uccb4\\uc5b4\",\"\\uc774\\ub108\",\"\\ud720\\uccb4\\uc5b4\",\"\\uc774\\ub108\",\"\\ubc1c \\ubcf4\\uc870\\uae30(\\ubc1c\\ubaa9)\",\"\\ud720\\uccb4\\uc5b4\",\"\\uc774\\ub108\",\"\\ud720\\uccb4\\uc5b4\",\"\\uc2e0\\ubc1c\\ubcf4\\uc870\\uae30\",\"\\uc720\\ubaa8\\ucc28\\ud615 \\ud720\\uccb4\\uc5b4(\\uc7a5\\uc560\\uc778 \\uc720\\ubaa8\\ucc28)\",\"\\ubc1c \\ubcf4\\uc870\\uae30\",\"\\uc2a4\\ud0e0\\ub354\",\"\\ud720\\uccb4\\uc5b4\",\"\\uce74\\uc2dc\\ud2b8\",\"\\uc720\\ubaa8\\ucc28\\ud615 \\ud720\\uccb4\\uc5b4(\\uc7a5\\uc560\\uc778 \\uc720\\ubaa8\\ucc28)\",\"\\ubc1c \\ubcf4\\uc870\\uae30\",\"\\uc2a4\\ud0e0\\ub354\",\"\\ud720\\uccb4\\uc5b4\",\"\\uc720\\ubaa8\\ucc28\\ud615 \\ud720\\uccb4\\uc5b4\",\"\\uc774\\ub108\",\"\\uce74\\uc2dc\\ud2b8\",\"\\ubaa9\\uc695\\uc758\\uc790\",\"\\ud720\\uccb4\\uc5b4\",\"\\ubaa9\\uc695\\uc758\\uc790\",\"\\ud720\\uccb4\\uc5b4\",\"\\ubc1c \\ubcf4\\uc870\\uae30(\\ubc1c\\ubaa9)\",\"\\ud720\\uccb4\\uc5b4\",\"\\uc774\\ub108\",\"\\ubc1c \\ubcf4\\uc870\\uae30(\\ubc1c\\ubaa9)\",\"\\ud720\\uccb4\\uc5b4\",\"\\uc720\\ubaa8\\ucc28\\ud615 \\ud720\\uccb4\\uc5b4\",\"\\uc774\\ub108\",\"\\ud720\\uccb4\\uc5b4\",\"\\uc720\\ubaa8\\ucc28\\ud615 \\ud720\\uccb4\\uc5b4\",\"\\uc774\\ub108\",\"\\ubc1c \\ubcf4\\uc870\\uae30\",\"\\uc2a4\\ud0e0\\ub354(\\uae30\\ub9bd\\uae30)\",\"\\uce74\\uc2dc\\ud2b8\",\"\\ud720\\uccb4\\uc5b4\",\"\\uc720\\ubaa8\\ucc28\\ud615 \\ud720\\uccb4\\uc5b4(\\uc7a5\\uc560\\uc778 \\uc720\\ubaa8\\ucc28)\",\"\\uc2a4\\ud0e0\\ub354\",\"\\uc2e0\\ubc1c\\ubcf4\\uc870\\uae30\",\"\\ud720\\uccb4\\uc5b4\",\"\\uc720\\ubaa8\\ucc28\\ud615 \\ud720\\uccb4\\uc5b4\",\"\\uc774\\ub108\",\"\\uc2a4\\ud0e0\\ub354\",\"\\uce74\\uc2dc\\ud2b8\",\"\\uc774\\ub108\",\"\\ud720\\uccb4\\uc5b4\",\"\\uc720\\ubaa8\\ucc28\\ud615 \\ud720\\uccb4\\uc5b4\",\"\\uce74\\uc2dc\\ud2b8\",\"\\uc720\\ubaa8\\ucc28\\ud615 \\ud720\\uccb4\\uc5b4\",\"\\ud720\\uccb4\\uc5b4\",\"\\ubaa9\\uc695\\uc758\\uc790\",\"\\ud720\\uccb4\\uc5b4\",\"\\uc720\\ubaa8\\ucc28\\ud615 \\ud720\\uccb4\\uc5b4\",\"\\ud53c\\ub354\\uc2dc\\ud2b8\",\"\\uc720\\ubaa8\\ucc28\\ud615 \\ud720\\uccb4\\uc5b4\",\"\\uc774\\ub108\",\"\\ubc1c \\ubcf4\\uc870\\uae30\",\"\\ud53c\\ub354\\uc2dc\\ud2b8\",\"\\uc720\\ubaa8\\ucc28\\ud615 \\ud720\\uccb4\\uc5b4\",\"\\uc774\\ub108\",\"\\ubc1c \\ubcf4\\uc870\\uae30\",\"\\ud53c\\ub354\\uc2dc\\ud2b8\",\"\\uce74\\uc2dc\\ud2b8\",\"\\uc2a4\\ud0e0\\ub354(\\uae30\\ub9bd\\uae30)\",\"\\ud720\\uccb4\\uc5b4\",\"\\uc774\\ub108\",\"\\ubc1c \\ubcf4\\uc870\\uae30(\\ubc1c\\ubaa9)\",\"\\uc2a4\\ud0e0\\ub354\",\"\\ud53c\\ub354\\uc2dc\\ud2b8\",\"\\uc720\\ubaa8\\ucc28\\ud615 \\ud720\\uccb4\\uc5b4\",\"\\uc774\\ub108\",\"\\ubc1c \\ubcf4\\uc870\\uae30\",\"\\uc2a4\\ud0e0\\ub354\",\"\\uc720\\ubaa8\\ucc28\\ud615 \\ud720\\uccb4\\uc5b4\",\"\\ubc1c \\ubcf4\\uc870\\uae30(\\ubc1c\\ubaa9)\",\"\\uc2e0\\ubc1c\\ubcf4\\uc870\\uae30\",\"\\ud720\\uccb4\\uc5b4\",\"\\uc774\\ub108\",\"\\ubc1c \\ubcf4\\uc870\\uae30(\\ubc1c\\ubaa9)\",\"\\uc2a4\\ud0e0\\ub354\",\"\\ud720\\uccb4\\uc5b4\",\"\\uc774\\ub108\",\"\\ubc1c \\ubcf4\\uc870\\uae30\",\"\\ud720\\uccb4\\uc5b4\",\"\\uce74\\uc2dc\\ud2b8\",\"\\ub2e4\\ub9ac \\ubcf4\\uc870\\uae30\",\"\\ub2e4\\ub9ac \\ubcf4\\uc870\\uae30\",\"\\ud720\\uccb4\\uc5b4\",\"\\uc774\\ub108\",\"\\ubc1c \\ubcf4\\uc870\\uae30\",\"\\uc774\\ub108\",\"\\ubc1c \\ubcf4\\uc870\\uae30\",\"\\ud720\\uccb4\\uc5b4\",\"\\ub2e4\\ub9ac \\ubcf4\\uc870\\uae30\",\"\\uc774\\ub108\",\"\\ubc1c \\ubcf4\\uc870\\uae30\",\"\\uc2e0\\ubc1c\\ubcf4\\uc870\\uae30(\\uc815\\ud615\\uad6c\\ub450)\",\"\\uc774\\ub108\",\"\\ud720\\uccb4\\uc5b4\",\"\\uc720\\ubaa8\\ucc28\\ud615 \\ud720\\uccb4\\uc5b4\",\"\\uc2a4\\ud0e0\\ub354(\\uae30\\ub9bd\\uae30)\",\"\\ud720\\uccb4\\uc5b4(\\uac00\\ubcc0\\ud615)\",\"\\ud720\\uccb4\\uc5b4\",\"\\uc6cc\\ucee4\",\"\\ubc1c \\ubcf4\\uc870\\uae30(\\ubc1c\\ubaa9)\",\"\\ubc1c \\ubcf4\\uc870\\uae30\",\"\\uc2e0\\ubc1c\\ubcf4\\uc870\\uae30\",\"\\ubc1c \\ubcf4\\uc870\\uae30(\\ubc1c\\ubaa9)\",\"\\ud720\\uccb4\\uc5b4\",\"\\uc774\\ub108\",\"\\ubc1c \\ubcf4\\uc870\\uae30\",\"\\uc2a4\\ud0e0\\ub354\",\"\\ubc1c \\ubcf4\\uc870\\uae30(\\ubc1c\\ubaa9)\",\"\\ubc1c \\ubcf4\\uc870\\uae30(\\ubc1c\\ubaa9)\",\"\\uc774\\ub108\",\"\\ubc1c \\ubcf4\\uc870\\uae30(\\ubc1c\\ubaa9)\",\"\\ubc1c \\ubcf4\\uc870\\uae30(\\ubc1c\\ubaa9)\",\"\\ubc1c \\ubcf4\\uc870\\uae30(\\ubc1c\\ubaa9)\",\"\\ud720\\uccb4\\uc5b4\",\"\\uc774\\ub108\",\"\\uc2e0\\ubc1c\\ubcf4\\uc870\\uae30(\\uc815\\ud615\\uad6c\\ub450)\",\"\\uc720\\ubaa8\\ucc28\\ud615 \\ud720\\uccb4\\uc5b4\",\"\\uc774\\ub108\",\"\\uc2a4\\ud0e0\\ub354(\\uae30\\ub9bd\\uae30)\",\"\\ud720\\uccb4\\uc5b4\",\"\\uc804\\ub3d9\\ud720\\uccb4\\uc5b4\",\"\\uc774\\ub108\",\"\\uc6cc\\ucee4\",\"\\ud720\\uccb4\\uc5b4\",\"\\uc804\\ub3d9\\ud720\\uccb4\\uc5b4\",\"\\ubc1c \\ubcf4\\uc870\\uae30(\\ub2e8\\ud558\\uc9c0)\",\"\\uc2e0\\ubc1c\\ubcf4\\uc870\\uae30\"],\"yaxis\":\"y\",\"ybingroup\":\"y\"}],                        {\"coloraxis\":{\"colorbar\":{\"title\":{\"text\":\"count\"}},\"colorscale\":[[0,\"purple\"],[0.2,\"blue\"],[0.4,\"green\"],[0.6,\"yellow\"],[0.8,\"orange\"],[1,\"red\"]]},\"legend\":{\"tracegroupgap\":0},\"margin\":{\"t\":60},\"template\":{\"data\":{\"bar\":[{\"error_x\":{\"color\":\"#2a3f5f\"},\"error_y\":{\"color\":\"#2a3f5f\"},\"marker\":{\"line\":{\"color\":\"#E5ECF6\",\"width\":0.5},\"pattern\":{\"fillmode\":\"overlay\",\"size\":10,\"solidity\":0.2}},\"type\":\"bar\"}],\"barpolar\":[{\"marker\":{\"line\":{\"color\":\"#E5ECF6\",\"width\":0.5},\"pattern\":{\"fillmode\":\"overlay\",\"size\":10,\"solidity\":0.2}},\"type\":\"barpolar\"}],\"carpet\":[{\"aaxis\":{\"endlinecolor\":\"#2a3f5f\",\"gridcolor\":\"white\",\"linecolor\":\"white\",\"minorgridcolor\":\"white\",\"startlinecolor\":\"#2a3f5f\"},\"baxis\":{\"endlinecolor\":\"#2a3f5f\",\"gridcolor\":\"white\",\"linecolor\":\"white\",\"minorgridcolor\":\"white\",\"startlinecolor\":\"#2a3f5f\"},\"type\":\"carpet\"}],\"choropleth\":[{\"colorbar\":{\"outlinewidth\":0,\"ticks\":\"\"},\"type\":\"choropleth\"}],\"contour\":[{\"colorbar\":{\"outlinewidth\":0,\"ticks\":\"\"},\"colorscale\":[[0.0,\"#0d0887\"],[0.1111111111111111,\"#46039f\"],[0.2222222222222222,\"#7201a8\"],[0.3333333333333333,\"#9c179e\"],[0.4444444444444444,\"#bd3786\"],[0.5555555555555556,\"#d8576b\"],[0.6666666666666666,\"#ed7953\"],[0.7777777777777778,\"#fb9f3a\"],[0.8888888888888888,\"#fdca26\"],[1.0,\"#f0f921\"]],\"type\":\"contour\"}],\"contourcarpet\":[{\"colorbar\":{\"outlinewidth\":0,\"ticks\":\"\"},\"type\":\"contourcarpet\"}],\"heatmap\":[{\"colorbar\":{\"outlinewidth\":0,\"ticks\":\"\"},\"colorscale\":[[0.0,\"#0d0887\"],[0.1111111111111111,\"#46039f\"],[0.2222222222222222,\"#7201a8\"],[0.3333333333333333,\"#9c179e\"],[0.4444444444444444,\"#bd3786\"],[0.5555555555555556,\"#d8576b\"],[0.6666666666666666,\"#ed7953\"],[0.7777777777777778,\"#fb9f3a\"],[0.8888888888888888,\"#fdca26\"],[1.0,\"#f0f921\"]],\"type\":\"heatmap\"}],\"heatmapgl\":[{\"colorbar\":{\"outlinewidth\":0,\"ticks\":\"\"},\"colorscale\":[[0.0,\"#0d0887\"],[0.1111111111111111,\"#46039f\"],[0.2222222222222222,\"#7201a8\"],[0.3333333333333333,\"#9c179e\"],[0.4444444444444444,\"#bd3786\"],[0.5555555555555556,\"#d8576b\"],[0.6666666666666666,\"#ed7953\"],[0.7777777777777778,\"#fb9f3a\"],[0.8888888888888888,\"#fdca26\"],[1.0,\"#f0f921\"]],\"type\":\"heatmapgl\"}],\"histogram\":[{\"marker\":{\"pattern\":{\"fillmode\":\"overlay\",\"size\":10,\"solidity\":0.2}},\"type\":\"histogram\"}],\"histogram2d\":[{\"colorbar\":{\"outlinewidth\":0,\"ticks\":\"\"},\"colorscale\":[[0.0,\"#0d0887\"],[0.1111111111111111,\"#46039f\"],[0.2222222222222222,\"#7201a8\"],[0.3333333333333333,\"#9c179e\"],[0.4444444444444444,\"#bd3786\"],[0.5555555555555556,\"#d8576b\"],[0.6666666666666666,\"#ed7953\"],[0.7777777777777778,\"#fb9f3a\"],[0.8888888888888888,\"#fdca26\"],[1.0,\"#f0f921\"]],\"type\":\"histogram2d\"}],\"histogram2dcontour\":[{\"colorbar\":{\"outlinewidth\":0,\"ticks\":\"\"},\"colorscale\":[[0.0,\"#0d0887\"],[0.1111111111111111,\"#46039f\"],[0.2222222222222222,\"#7201a8\"],[0.3333333333333333,\"#9c179e\"],[0.4444444444444444,\"#bd3786\"],[0.5555555555555556,\"#d8576b\"],[0.6666666666666666,\"#ed7953\"],[0.7777777777777778,\"#fb9f3a\"],[0.8888888888888888,\"#fdca26\"],[1.0,\"#f0f921\"]],\"type\":\"histogram2dcontour\"}],\"mesh3d\":[{\"colorbar\":{\"outlinewidth\":0,\"ticks\":\"\"},\"type\":\"mesh3d\"}],\"parcoords\":[{\"line\":{\"colorbar\":{\"outlinewidth\":0,\"ticks\":\"\"}},\"type\":\"parcoords\"}],\"pie\":[{\"automargin\":true,\"type\":\"pie\"}],\"scatter\":[{\"marker\":{\"colorbar\":{\"outlinewidth\":0,\"ticks\":\"\"}},\"type\":\"scatter\"}],\"scatter3d\":[{\"line\":{\"colorbar\":{\"outlinewidth\":0,\"ticks\":\"\"}},\"marker\":{\"colorbar\":{\"outlinewidth\":0,\"ticks\":\"\"}},\"type\":\"scatter3d\"}],\"scattercarpet\":[{\"marker\":{\"colorbar\":{\"outlinewidth\":0,\"ticks\":\"\"}},\"type\":\"scattercarpet\"}],\"scattergeo\":[{\"marker\":{\"colorbar\":{\"outlinewidth\":0,\"ticks\":\"\"}},\"type\":\"scattergeo\"}],\"scattergl\":[{\"marker\":{\"colorbar\":{\"outlinewidth\":0,\"ticks\":\"\"}},\"type\":\"scattergl\"}],\"scattermapbox\":[{\"marker\":{\"colorbar\":{\"outlinewidth\":0,\"ticks\":\"\"}},\"type\":\"scattermapbox\"}],\"scatterpolar\":[{\"marker\":{\"colorbar\":{\"outlinewidth\":0,\"ticks\":\"\"}},\"type\":\"scatterpolar\"}],\"scatterpolargl\":[{\"marker\":{\"colorbar\":{\"outlinewidth\":0,\"ticks\":\"\"}},\"type\":\"scatterpolargl\"}],\"scatterternary\":[{\"marker\":{\"colorbar\":{\"outlinewidth\":0,\"ticks\":\"\"}},\"type\":\"scatterternary\"}],\"surface\":[{\"colorbar\":{\"outlinewidth\":0,\"ticks\":\"\"},\"colorscale\":[[0.0,\"#0d0887\"],[0.1111111111111111,\"#46039f\"],[0.2222222222222222,\"#7201a8\"],[0.3333333333333333,\"#9c179e\"],[0.4444444444444444,\"#bd3786\"],[0.5555555555555556,\"#d8576b\"],[0.6666666666666666,\"#ed7953\"],[0.7777777777777778,\"#fb9f3a\"],[0.8888888888888888,\"#fdca26\"],[1.0,\"#f0f921\"]],\"type\":\"surface\"}],\"table\":[{\"cells\":{\"fill\":{\"color\":\"#EBF0F8\"},\"line\":{\"color\":\"white\"}},\"header\":{\"fill\":{\"color\":\"#C8D4E3\"},\"line\":{\"color\":\"white\"}},\"type\":\"table\"}]},\"layout\":{\"annotationdefaults\":{\"arrowcolor\":\"#2a3f5f\",\"arrowhead\":0,\"arrowwidth\":1},\"autotypenumbers\":\"strict\",\"coloraxis\":{\"colorbar\":{\"outlinewidth\":0,\"ticks\":\"\"}},\"colorscale\":{\"diverging\":[[0,\"#8e0152\"],[0.1,\"#c51b7d\"],[0.2,\"#de77ae\"],[0.3,\"#f1b6da\"],[0.4,\"#fde0ef\"],[0.5,\"#f7f7f7\"],[0.6,\"#e6f5d0\"],[0.7,\"#b8e186\"],[0.8,\"#7fbc41\"],[0.9,\"#4d9221\"],[1,\"#276419\"]],\"sequential\":[[0.0,\"#0d0887\"],[0.1111111111111111,\"#46039f\"],[0.2222222222222222,\"#7201a8\"],[0.3333333333333333,\"#9c179e\"],[0.4444444444444444,\"#bd3786\"],[0.5555555555555556,\"#d8576b\"],[0.6666666666666666,\"#ed7953\"],[0.7777777777777778,\"#fb9f3a\"],[0.8888888888888888,\"#fdca26\"],[1.0,\"#f0f921\"]],\"sequentialminus\":[[0.0,\"#0d0887\"],[0.1111111111111111,\"#46039f\"],[0.2222222222222222,\"#7201a8\"],[0.3333333333333333,\"#9c179e\"],[0.4444444444444444,\"#bd3786\"],[0.5555555555555556,\"#d8576b\"],[0.6666666666666666,\"#ed7953\"],[0.7777777777777778,\"#fb9f3a\"],[0.8888888888888888,\"#fdca26\"],[1.0,\"#f0f921\"]]},\"colorway\":[\"#636efa\",\"#EF553B\",\"#00cc96\",\"#ab63fa\",\"#FFA15A\",\"#19d3f3\",\"#FF6692\",\"#B6E880\",\"#FF97FF\",\"#FECB52\"],\"font\":{\"color\":\"#2a3f5f\"},\"geo\":{\"bgcolor\":\"white\",\"lakecolor\":\"white\",\"landcolor\":\"#E5ECF6\",\"showlakes\":true,\"showland\":true,\"subunitcolor\":\"white\"},\"hoverlabel\":{\"align\":\"left\"},\"hovermode\":\"closest\",\"mapbox\":{\"style\":\"light\"},\"paper_bgcolor\":\"white\",\"plot_bgcolor\":\"#E5ECF6\",\"polar\":{\"angularaxis\":{\"gridcolor\":\"white\",\"linecolor\":\"white\",\"ticks\":\"\"},\"bgcolor\":\"#E5ECF6\",\"radialaxis\":{\"gridcolor\":\"white\",\"linecolor\":\"white\",\"ticks\":\"\"}},\"scene\":{\"xaxis\":{\"backgroundcolor\":\"#E5ECF6\",\"gridcolor\":\"white\",\"gridwidth\":2,\"linecolor\":\"white\",\"showbackground\":true,\"ticks\":\"\",\"zerolinecolor\":\"white\"},\"yaxis\":{\"backgroundcolor\":\"#E5ECF6\",\"gridcolor\":\"white\",\"gridwidth\":2,\"linecolor\":\"white\",\"showbackground\":true,\"ticks\":\"\",\"zerolinecolor\":\"white\"},\"zaxis\":{\"backgroundcolor\":\"#E5ECF6\",\"gridcolor\":\"white\",\"gridwidth\":2,\"linecolor\":\"white\",\"showbackground\":true,\"ticks\":\"\",\"zerolinecolor\":\"white\"}},\"shapedefaults\":{\"line\":{\"color\":\"#2a3f5f\"}},\"ternary\":{\"aaxis\":{\"gridcolor\":\"white\",\"linecolor\":\"white\",\"ticks\":\"\"},\"baxis\":{\"gridcolor\":\"white\",\"linecolor\":\"white\",\"ticks\":\"\"},\"bgcolor\":\"#E5ECF6\",\"caxis\":{\"gridcolor\":\"white\",\"linecolor\":\"white\",\"ticks\":\"\"}},\"title\":{\"x\":0.05},\"xaxis\":{\"automargin\":true,\"gridcolor\":\"white\",\"linecolor\":\"white\",\"ticks\":\"\",\"title\":{\"standoff\":15},\"zerolinecolor\":\"white\",\"zerolinewidth\":2},\"yaxis\":{\"automargin\":true,\"gridcolor\":\"white\",\"linecolor\":\"white\",\"ticks\":\"\",\"title\":{\"standoff\":15},\"zerolinecolor\":\"white\",\"zerolinewidth\":2}}},\"xaxis\":{\"anchor\":\"y\",\"domain\":[0.0,1.0],\"title\":{\"text\":\"GMFCS_Level\"}},\"yaxis\":{\"anchor\":\"x\",\"domain\":[0.0,1.0],\"title\":{\"text\":\"\\uc0ac\\uc6a9\\uc911\\uc778\\ubcf4\\uc870\\uae30\\uae30\"}}},                        {\"responsive\": true}                    ).then(function(){\n",
       "                            \n",
       "var gd = document.getElementById('7e99e42b-f32c-4d77-a1f7-63216c8e5b09');\n",
       "var x = new MutationObserver(function (mutations, observer) {{\n",
       "        var display = window.getComputedStyle(gd).display;\n",
       "        if (!display || display === 'none') {{\n",
       "            console.log([gd, 'removed!']);\n",
       "            Plotly.purge(gd);\n",
       "            observer.disconnect();\n",
       "        }}\n",
       "}});\n",
       "\n",
       "// Listen for the removal of the full notebook cells\n",
       "var notebookContainer = gd.closest('#notebook-container');\n",
       "if (notebookContainer) {{\n",
       "    x.observe(notebookContainer, {childList: true});\n",
       "}}\n",
       "\n",
       "// Listen for the clearing of the current output cell\n",
       "var outputEl = gd.closest('.output');\n",
       "if (outputEl) {{\n",
       "    x.observe(outputEl, {childList: true});\n",
       "}}\n",
       "\n",
       "                        })                };                });            </script>        </div>"
      ]
     },
     "metadata": {},
     "output_type": "display_data"
    }
   ],
   "source": [
    "import plotly.express as px\n",
    "\n",
    "fig = px.density_heatmap(df3, x=\"GMFCS_Level\", y=\"사용중인보조기기\",\n",
    "    color_continuous_scale= [(0,\"purple\"), (0.2,\"blue\"),(0.4,\"green\"),(0.6,\"yellow\"),(0.8,\"orange\"),(1,\"red\")]  )\n",
    "fig.show()"
   ]
  },
  {
   "cell_type": "markdown",
   "id": "3548f01a-364c-4167-9053-f7aa4f7c41a7",
   "metadata": {},
   "source": [
    "---"
   ]
  },
  {
   "cell_type": "code",
   "execution_count": 250,
   "id": "aca54e13-1f16-4887-99c7-a4c53c851530",
   "metadata": {},
   "outputs": [
    {
     "data": {
      "text/html": [
       "<div>\n",
       "<style scoped>\n",
       "    .dataframe tbody tr th:only-of-type {\n",
       "        vertical-align: middle;\n",
       "    }\n",
       "\n",
       "    .dataframe tbody tr th {\n",
       "        vertical-align: top;\n",
       "    }\n",
       "\n",
       "    .dataframe thead th {\n",
       "        text-align: right;\n",
       "    }\n",
       "</style>\n",
       "<table border=\"1\" class=\"dataframe\">\n",
       "  <thead>\n",
       "    <tr style=\"text-align: right;\">\n",
       "      <th></th>\n",
       "      <th>GMFCS_Level</th>\n",
       "      <th>통합</th>\n",
       "    </tr>\n",
       "  </thead>\n",
       "  <tbody>\n",
       "    <tr>\n",
       "      <th>0</th>\n",
       "      <td>4</td>\n",
       "      <td>전동휠체어/휠체어</td>\n",
       "    </tr>\n",
       "    <tr>\n",
       "      <th>1</th>\n",
       "      <td>3</td>\n",
       "      <td>워커/휠체어</td>\n",
       "    </tr>\n",
       "    <tr>\n",
       "      <th>2</th>\n",
       "      <td>5</td>\n",
       "      <td>스탠더/발 보조기(발목)/워커/이너/유모차형 휠체어/휠체어</td>\n",
       "    </tr>\n",
       "    <tr>\n",
       "      <th>3</th>\n",
       "      <td>5</td>\n",
       "      <td>발 보조기(발목)/이너/유모차형 휠체어/휠체어</td>\n",
       "    </tr>\n",
       "    <tr>\n",
       "      <th>4</th>\n",
       "      <td>5</td>\n",
       "      <td>신발보조기(정형구두)/발 보조기(발목)</td>\n",
       "    </tr>\n",
       "  </tbody>\n",
       "</table>\n",
       "</div>"
      ],
      "text/plain": [
       "   GMFCS_Level                                통합\n",
       "0            4                         전동휠체어/휠체어\n",
       "1            3                            워커/휠체어\n",
       "2            5  스탠더/발 보조기(발목)/워커/이너/유모차형 휠체어/휠체어\n",
       "3            5         발 보조기(발목)/이너/유모차형 휠체어/휠체어\n",
       "4            5             신발보조기(정형구두)/발 보조기(발목)"
      ]
     },
     "execution_count": 250,
     "metadata": {},
     "output_type": "execute_result"
    }
   ],
   "source": [
    "df6=pd.read_excel(\"CP_전처리 작업2.xlsx\",sheet_name=5)\n",
    "df7=df6[['GMFCS_Level',\"통합\"]]\n",
    "df7.head()"
   ]
  },
  {
   "cell_type": "code",
   "execution_count": 251,
   "id": "fe97acaa-c9a7-4f5d-9827-eaa57d884aaa",
   "metadata": {},
   "outputs": [
    {
     "data": {
      "text/html": [
       "<div>\n",
       "<style scoped>\n",
       "    .dataframe tbody tr th:only-of-type {\n",
       "        vertical-align: middle;\n",
       "    }\n",
       "\n",
       "    .dataframe tbody tr th {\n",
       "        vertical-align: top;\n",
       "    }\n",
       "\n",
       "    .dataframe thead th {\n",
       "        text-align: right;\n",
       "    }\n",
       "</style>\n",
       "<table border=\"1\" class=\"dataframe\">\n",
       "  <thead>\n",
       "    <tr style=\"text-align: right;\">\n",
       "      <th>GMFCS_Level</th>\n",
       "      <th>3</th>\n",
       "      <th>4</th>\n",
       "      <th>5</th>\n",
       "    </tr>\n",
       "    <tr>\n",
       "      <th>통합</th>\n",
       "      <th></th>\n",
       "      <th></th>\n",
       "      <th></th>\n",
       "    </tr>\n",
       "  </thead>\n",
       "  <tbody>\n",
       "    <tr>\n",
       "      <th>다리 보조기</th>\n",
       "      <td>3</td>\n",
       "      <td>0</td>\n",
       "      <td>0</td>\n",
       "    </tr>\n",
       "    <tr>\n",
       "      <th>다리 보조기/이너/휠체어</th>\n",
       "      <td>0</td>\n",
       "      <td>0</td>\n",
       "      <td>2</td>\n",
       "    </tr>\n",
       "    <tr>\n",
       "      <th>다리 보조기/휠체어</th>\n",
       "      <td>0</td>\n",
       "      <td>0</td>\n",
       "      <td>1</td>\n",
       "    </tr>\n",
       "    <tr>\n",
       "      <th>목욕의자/발 보조기/유모차형 휠체어(장애인 유모차)</th>\n",
       "      <td>0</td>\n",
       "      <td>0</td>\n",
       "      <td>1</td>\n",
       "    </tr>\n",
       "    <tr>\n",
       "      <th>목욕의자/발 보조기/이너/유모차형 휠체어</th>\n",
       "      <td>0</td>\n",
       "      <td>0</td>\n",
       "      <td>1</td>\n",
       "    </tr>\n",
       "  </tbody>\n",
       "</table>\n",
       "</div>"
      ],
      "text/plain": [
       "GMFCS_Level                   3  4  5\n",
       "통합                                   \n",
       "다리 보조기                        3  0  0\n",
       "다리 보조기/이너/휠체어                 0  0  2\n",
       "다리 보조기/휠체어                    0  0  1\n",
       "목욕의자/발 보조기/유모차형 휠체어(장애인 유모차)  0  0  1\n",
       "목욕의자/발 보조기/이너/유모차형 휠체어        0  0  1"
      ]
     },
     "execution_count": 251,
     "metadata": {},
     "output_type": "execute_result"
    }
   ],
   "source": [
    "df8=df7.pivot_table(index='통합', columns='GMFCS_Level', \n",
    "                        aggfunc=len, fill_value=0)\n",
    "df8.head()"
   ]
  },
  {
   "cell_type": "code",
   "execution_count": 252,
   "id": "2dc7746f-46f6-458c-a10b-5d47d8d1ac14",
   "metadata": {},
   "outputs": [],
   "source": [
    "plt.rc('font', family = 'NanumGothic')"
   ]
  },
  {
   "cell_type": "code",
   "execution_count": 274,
   "id": "ab283c22-b653-46aa-a324-3297bfd8b551",
   "metadata": {},
   "outputs": [
    {
     "name": "stderr",
     "output_type": "stream",
     "text": [
      "No handles with labels found to put in legend.\n"
     ]
    },
    {
     "data": {
      "image/png": "[encoded data removed]",
      "text/plain": [
       "<Figure size 2880x1440 with 2 Axes>"
      ]
     },
     "metadata": {
      "needs_background": "light"
     },
     "output_type": "display_data"
    }
   ],
   "source": [
    "plt.figure(figsize = (40,20))\n",
    "sns.heatmap(df8, annot=True, \n",
    "           linewidths=2, cmap='YlGnBu')\n",
    "plt.title('GMFCS_Level별 사용중인보조기기(통합)',fontsize=15,y=1.03)\n",
    "#plt.show() #얘 하면 저장이 하얗게 됨 \n",
    "#plt.savefig('GMFCS_Level별 사용중인보조기기(통합).jpg', dpi=1000) # 그래프 파일로 출력하기, 이 함수 이전에 plt.show 하면 빈 화면 출력되니 주의"
   ]
  },
  {
   "cell_type": "code",
   "execution_count": null,
   "id": "484aa060-7d34-46e9-920f-65814b54f12e",
   "metadata": {},
   "outputs": [],
   "source": []
  }
 ],
 "metadata": {
  "kernelspec": {
   "display_name": "Python 3 (ipykernel)",
   "language": "python",
   "name": "python3"
  },
  "language_info": {
   "codemirror_mode": {
    "name": "ipython",
    "version": 3
   },
   "file_extension": ".py",
   "mimetype": "text/x-python",
   "name": "python",
   "nbconvert_exporter": "python",
   "pygments_lexer": "ipython3",
   "version": "3.8.8"
  }
 },
 "nbformat": 4,
 "nbformat_minor": 5
}
