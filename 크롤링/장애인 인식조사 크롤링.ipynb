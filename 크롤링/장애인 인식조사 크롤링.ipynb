{
 "cells": [
  {
   "cell_type": "markdown",
   "id": "1d0a9e0a-31e4-489f-b9f8-02c7a592b27b",
   "metadata": {},
   "source": [
    "## 장애인 인식조사 크롤링"
   ]
  },
  {
   "cell_type": "code",
   "execution_count": 22,
   "id": "7921f9e5-35fb-441a-8228-da31f9d0f28c",
   "metadata": {},
   "outputs": [],
   "source": [
    "import urllib.request\n",
    "from selenium import webdriver\n",
    "import time"
   ]
  },
  {
   "cell_type": "code",
   "execution_count": 23,
   "id": "39d47c7a-d6e1-47d3-8143-59a61f543403",
   "metadata": {},
   "outputs": [],
   "source": [
    "# 드라이버를 실행하여, 웹페이지 열기\n",
    "# view+카페일반글+관련도순+3개년(2018.10.19~2021.10.19)+검색어 : \"장애인 재활\"\n",
    "driver = webdriver.Chrome('chromedriver')\n",
    "driver.get('https://search.naver.com/search.naver?where=articleg&ie=utf8&query=%EC%9E%A5%EC%95%A0%EC%9D%B8+%EC%9E%AC%ED%99%9C&prdtype=0&t=0&st=rel&srchby=text&dup_remove=1&cafe_url=&without_cafe_url=&sm=tab_opt&nso=so:r,p:from20181019to20211019,a:all&nso_open=1&rev=44')"
   ]
  },
  {
   "cell_type": "code",
   "execution_count": 24,
   "id": "59d486f3-9add-45d1-980f-991220ee2438",
   "metadata": {},
   "outputs": [],
   "source": [
    "from selenium.webdriver.common.keys import Keys"
   ]
  },
  {
   "cell_type": "code",
   "execution_count": 25,
   "id": "1f299d3a-2299-4ee3-b46d-c94dad9c61c5",
   "metadata": {},
   "outputs": [],
   "source": [
    "title_list = [] # 제목\n",
    "sentence_list = [] # 내용\n",
    "day_list = [] # 작성일\n",
    "cafe_list=[] #카페명"
   ]
  },
  {
   "cell_type": "code",
   "execution_count": 18,
   "id": "42a2b3bd-3af2-40c1-8699-a6612e47db96",
   "metadata": {},
   "outputs": [],
   "source": [
    "for i in range(1,1001):\n",
    "    title = driver.find_element_by_xpath('//*[@id=\"_view_review_body_html\"]/div/more-contents/div/ul/li['+str(i)+']/div[1]/div/a')\n",
    "    title_list.append(title.text)\n",
    "\n",
    "# 내용 출력\n",
    "    sentence = driver.find_element_by_xpath('//*[@id=\"_view_review_body_html\"]/div/more-contents/div/ul/li['+str(i)+']/div[1]/div/div[2]/div/a/div')\n",
    "    sentence_list.append(sentence.text)\n",
    "\n",
    "# 작성일 출력\n",
    "    day = driver.find_element_by_xpath('//*[@id=\"_view_review_body_html\"]/div/more-contents/div/ul/li['+str(i)+']/div/div/div[1]/div[2]/span/span/span[1]/span')\n",
    "    day_list.append(day.text)\n",
    "\n",
    "\n",
    "# 카페명 출력\n",
    "    cafe = driver.find_element_by_xpath('//*[@id=\"_view_review_body_html\"]/div/more-contents/div/ul/li['+str(i)+']/div[1]/div/div[1]/div[2]/span/span/span[2]/a')\n",
    "    cafe_list.append(cafe.text)\n",
    "\n",
    "    if i%7==1: # 스크롤 주기 설정(임의)\n",
    "        driver.find_element_by_tag_name('body').send_keys(Keys.PAGE_DOWN) # 스크롤 다운\n",
    "        driver.find_element_by_tag_name('body').send_keys(Keys.PAGE_DOWN)\n",
    "        driver.find_element_by_tag_name('body').send_keys(Keys.PAGE_DOWN)\n",
    "        time.sleep(1)\n",
    "    else:\n",
    "        pass\n"
   ]
  },
  {
   "cell_type": "code",
   "execution_count": 19,
   "id": "cbecc74f-b255-4a59-986a-a1c9494bcd51",
   "metadata": {},
   "outputs": [
    {
     "data": {
      "text/html": [
       "<div>\n",
       "<style scoped>\n",
       "    .dataframe tbody tr th:only-of-type {\n",
       "        vertical-align: middle;\n",
       "    }\n",
       "\n",
       "    .dataframe tbody tr th {\n",
       "        vertical-align: top;\n",
       "    }\n",
       "\n",
       "    .dataframe thead th {\n",
       "        text-align: right;\n",
       "    }\n",
       "</style>\n",
       "<table border=\"1\" class=\"dataframe\">\n",
       "  <thead>\n",
       "    <tr style=\"text-align: right;\">\n",
       "      <th></th>\n",
       "      <th>제목</th>\n",
       "      <th>내용</th>\n",
       "      <th>작성일</th>\n",
       "      <th>카페명</th>\n",
       "    </tr>\n",
       "  </thead>\n",
       "  <tbody>\n",
       "    <tr>\n",
       "      <th>0</th>\n",
       "      <td>장애인재활상담사 자격증은 사회복지사 연계자격증으로 취득하자...</td>\n",
       "      <td>장애인재활상담사 자격증은 사회복지사 연계자격증으로 취득하자! 장애인재활상담사 자격증...</td>\n",
       "      <td>2021.10.01.</td>\n",
       "      <td>학은모-학점은행제,사회복지사2급...</td>\n",
       "    </tr>\n",
       "    <tr>\n",
       "      <th>1</th>\n",
       "      <td>장애인재활상담사 시작은 학점은행제 사회복지2급자격증으로!</td>\n",
       "      <td>장애인재활상담사 시작은 학점은행제 사회복지2급자격증으로! 장애인재활상담사 시작은 학...</td>\n",
       "      <td>2021.08.11.</td>\n",
       "      <td>학은모-학점은행제,사회복지사2급...</td>\n",
       "    </tr>\n",
       "    <tr>\n",
       "      <th>2</th>\n",
       "      <td>혹시 장애인재활상담사 2급 기출문제 가지고 계신 분 계신가요 ?</td>\n",
       "      <td>현재 장애인재활상담사 준비하는 직장인입니다. 혹시 장애인재활상담사 국가시험문제 가지...</td>\n",
       "      <td>2021.09.24.</td>\n",
       "      <td>임상완복지센터</td>\n",
       "    </tr>\n",
       "    <tr>\n",
       "      <th>3</th>\n",
       "      <td>장애인재활상담사, 사회복지사2급자격증으로 취득 가능해요!</td>\n",
       "      <td>장애인재활상담사, 사회복지사2급자격증으로 취득 가능해요! 장애인재활상담사, 사회복지...</td>\n",
       "      <td>2021.01.14.</td>\n",
       "      <td>학은모-학점은행제,사회복지사2급...</td>\n",
       "    </tr>\n",
       "    <tr>\n",
       "      <th>4</th>\n",
       "      <td>혹시 장애인 재활상담사 교재 있으신분?</td>\n",
       "      <td>요근래들어 장애인 재활상담사 자격증에 괸심이가서요~ 근데 교재 가격이 만만치 않네요...</td>\n",
       "      <td>2021.08.17.</td>\n",
       "      <td>임상완복지센터</td>\n",
       "    </tr>\n",
       "    <tr>\n",
       "      <th>...</th>\n",
       "      <td>...</td>\n",
       "      <td>...</td>\n",
       "      <td>...</td>\n",
       "      <td>...</td>\n",
       "    </tr>\n",
       "    <tr>\n",
       "      <th>995</th>\n",
       "      <td>장애인재활협회, ‘바리스타 인턴십’ 참여자 모집</td>\n",
       "      <td>장애인재활협회, ‘바리스타 인턴십’ 참여자 모집 에이블뉴스, 기사작성일 : 2021...</td>\n",
       "      <td>2021.03.05.</td>\n",
       "      <td>새빛장애인자립생활센터</td>\n",
       "    </tr>\n",
       "    <tr>\n",
       "      <th>996</th>\n",
       "      <td>【 2019 SK C&amp;C 장애 청(소)년 IT꿈지원 『행복장학금 』 신규 모...</td>\n",
       "      <td>1. 지원대상 ∙ 연령기준 : IT분야의 꿈을 가진 장애가정 고등학교 및 대학(원)...</td>\n",
       "      <td>2019.01.30.</td>\n",
       "      <td>글로벌한부모센터</td>\n",
       "    </tr>\n",
       "    <tr>\n",
       "      <th>997</th>\n",
       "      <td>장애알기 14 -장애인의 날</td>\n",
       "      <td>1970년 한국장애인재활협회 이사회와 총회에서는 4월 20일을 장애인의 날로 지킬 ...</td>\n",
       "      <td>2019.04.02.</td>\n",
       "      <td>보리수아래</td>\n",
       "    </tr>\n",
       "    <tr>\n",
       "      <th>998</th>\n",
       "      <td>물리치료 현직분들 질문 있습니다</td>\n",
       "      <td>보건소 사업을 보니 많은 곳들이 뇌병변이나 장애인 재활치료 사업을 하시던데요.......</td>\n",
       "      <td>2020.08.23.</td>\n",
       "      <td>[맨살모임]간호직/보건직/의료기술직/보건진...</td>\n",
       "    </tr>\n",
       "    <tr>\n",
       "      <th>999</th>\n",
       "      <td>남해 사랑의 집 생활지도원 채용 공고(경남 남해군)</td>\n",
       "      <td>보육교사자격증, 장애인재활상담사자격증 중 1개 이상 자격증 소지자 - 사회복지사업법...</td>\n",
       "      <td>2020.01.14.</td>\n",
       "      <td>사복톡톡(사회복지 종사자들의 소통공간)</td>\n",
       "    </tr>\n",
       "  </tbody>\n",
       "</table>\n",
       "<p>1000 rows × 4 columns</p>\n",
       "</div>"
      ],
      "text/plain": [
       "                                                제목  \\\n",
       "0              장애인재활상담사 자격증은 사회복지사 연계자격증으로 취득하자...   \n",
       "1                  장애인재활상담사 시작은 학점은행제 사회복지2급자격증으로!   \n",
       "2              혹시 장애인재활상담사 2급 기출문제 가지고 계신 분 계신가요 ?   \n",
       "3                  장애인재활상담사, 사회복지사2급자격증으로 취득 가능해요!   \n",
       "4                            혹시 장애인 재활상담사 교재 있으신분?   \n",
       "..                                             ...   \n",
       "995                     장애인재활협회, ‘바리스타 인턴십’ 참여자 모집   \n",
       "996  【 2019 SK C&C 장애 청(소)년 IT꿈지원 『행복장학금 』 신규 모...   \n",
       "997                                장애알기 14 -장애인의 날   \n",
       "998                              물리치료 현직분들 질문 있습니다   \n",
       "999                   남해 사랑의 집 생활지도원 채용 공고(경남 남해군)   \n",
       "\n",
       "                                                    내용          작성일  \\\n",
       "0    장애인재활상담사 자격증은 사회복지사 연계자격증으로 취득하자! 장애인재활상담사 자격증...  2021.10.01.   \n",
       "1    장애인재활상담사 시작은 학점은행제 사회복지2급자격증으로! 장애인재활상담사 시작은 학...  2021.08.11.   \n",
       "2    현재 장애인재활상담사 준비하는 직장인입니다. 혹시 장애인재활상담사 국가시험문제 가지...  2021.09.24.   \n",
       "3    장애인재활상담사, 사회복지사2급자격증으로 취득 가능해요! 장애인재활상담사, 사회복지...  2021.01.14.   \n",
       "4    요근래들어 장애인 재활상담사 자격증에 괸심이가서요~ 근데 교재 가격이 만만치 않네요...  2021.08.17.   \n",
       "..                                                 ...          ...   \n",
       "995  장애인재활협회, ‘바리스타 인턴십’ 참여자 모집 에이블뉴스, 기사작성일 : 2021...  2021.03.05.   \n",
       "996  1. 지원대상 ∙ 연령기준 : IT분야의 꿈을 가진 장애가정 고등학교 및 대학(원)...  2019.01.30.   \n",
       "997  1970년 한국장애인재활협회 이사회와 총회에서는 4월 20일을 장애인의 날로 지킬 ...  2019.04.02.   \n",
       "998  보건소 사업을 보니 많은 곳들이 뇌병변이나 장애인 재활치료 사업을 하시던데요.......  2020.08.23.   \n",
       "999  보육교사자격증, 장애인재활상담사자격증 중 1개 이상 자격증 소지자 - 사회복지사업법...  2020.01.14.   \n",
       "\n",
       "                            카페명  \n",
       "0          학은모-학점은행제,사회복지사2급...  \n",
       "1          학은모-학점은행제,사회복지사2급...  \n",
       "2                       임상완복지센터  \n",
       "3          학은모-학점은행제,사회복지사2급...  \n",
       "4                       임상완복지센터  \n",
       "..                          ...  \n",
       "995                 새빛장애인자립생활센터  \n",
       "996                    글로벌한부모센터  \n",
       "997                       보리수아래  \n",
       "998  [맨살모임]간호직/보건직/의료기술직/보건진...  \n",
       "999       사복톡톡(사회복지 종사자들의 소통공간)  \n",
       "\n",
       "[1000 rows x 4 columns]"
      ]
     },
     "execution_count": 19,
     "metadata": {},
     "output_type": "execute_result"
    }
   ],
   "source": [
    "# 데이터 프레임 변환\n",
    "import pandas as pd\n",
    "\n",
    "df= pd.DataFrame({'제목':title_list,'내용':sentence_list, '작성일':day_list,'카페명':cafe_list}  )\n",
    "df"
   ]
  },
  {
   "cell_type": "code",
   "execution_count": 20,
   "id": "50bd12ef-f976-4362-a505-ad8cd80402bf",
   "metadata": {},
   "outputs": [
    {
     "name": "stdout",
     "output_type": "stream",
     "text": [
      "Requirement already satisfied: openpyxl in c:\\users\\user\\anaconda3\\lib\\site-packages (3.0.7)\n",
      "Requirement already satisfied: et-xmlfile in c:\\users\\user\\anaconda3\\lib\\site-packages (from openpyxl) (1.0.1)\n"
     ]
    }
   ],
   "source": [
    "# !pip install openpyxl\n",
    "import openpyxl\n",
    "\n",
    "# 엑셀 파일 저장\n",
    "df.to_excel(\"장애인 재활 크롤링(2018.10.19-2021.10.19).xlsx\")"
   ]
  }
 ],
 "metadata": {
  "kernelspec": {
   "display_name": "Python 3",
   "language": "python",
   "name": "python3"
  },
  "language_info": {
   "codemirror_mode": {
    "name": "ipython",
    "version": 3
   },
   "file_extension": ".py",
   "mimetype": "text/x-python",
   "name": "python",
   "nbconvert_exporter": "python",
   "pygments_lexer": "ipython3",
   "version": "3.8.8"
  }
 },
 "nbformat": 4,
 "nbformat_minor": 5
}
