{
 "cells": [
  {
   "cell_type": "markdown",
   "id": "3ce581fd-e381-4ac0-ab69-ae04bc1a0347",
   "metadata": {},
   "source": [
    "## 장애인 콜택시 후기 게시글 크롤링\n",
    "\n",
    "**[방법]**\n",
    "\n",
    "1. 홈페이지 접속(1페이지 접속)\n",
    "1. 첫 게시글의 작성일(day) 추출 후 저장\n",
    "1. 첫 게시글 접속\n",
    "1. 첫 게시글의 제목(title) 추출 후 리스트 저장\n",
    "1. 첫 게시글 내용(content) 추출 후 리스트 저장\n",
    "1. 목록 이동\n",
    "1. 두 번째 게시글도 이와 같은 방법\n",
    "1. 1페이지 완료 후 2페이지 이동\n",
    "1. 1~8 반복"
   ]
  },
  {
   "cell_type": "markdown",
   "id": "b6c182e8-9f28-4b7e-a4c6-7d9a9c719984",
   "metadata": {},
   "source": [
    "### 제목(규칙 존재)\n",
    "\n",
    "1. 1번째 제목. //*[@id=\"detail_con\"]/div[3]/table/tbody/tr[**1**]/td[2]/a\n",
    "2. 2번째 제목. //*[@id=\"detail_con\"]/div[3]/table/tbody/tr[**2**]/td[2]/a\n",
    "\n",
    "...\n",
    "\n",
    "10. 10번째 제목. //*[@id=\"detail_con\"]/div[3]/table/tbody/tr[**10**]/td[2]/a"
   ]
  },
  {
   "cell_type": "markdown",
   "id": "f95cadd1-d55f-4d67-b73b-7b4c65fa5b7a",
   "metadata": {},
   "source": [
    "### 게시글(규칙 존재)\n",
    "\n",
    "1번째 게시글. //*[@id=\"detail_con\"]/div[3]/table/tbody/tr[**1**]/td[2]/a  \n",
    "2번째 게시글.  //*[@id=\"detail_con\"]/div[3]/table/tbody/tr[**2**]/td[2]/a  \n",
    "\n",
    "...\n",
    "\n",
    "9번째 게시글. //*[@id=\"detail_con\"]/div[3]/table/tbody/tr[**9**]/td[2]/a  \n",
    "10번째 게시글. //*[@id=\"detail_con\"]/div[3]/table/tbody/tr[**10**]/td[2]/a"
   ]
  },
  {
   "cell_type": "markdown",
   "id": "b12401b1-aa62-465f-85c5-6aa5ad5ab533",
   "metadata": {},
   "source": [
    "### 작성일(규칙 존재)\n",
    "\n",
    "1번째 게시글 작성일. //*[@id=\"detail_con\"]/div[3]/table/tbody/tr[1]/td[3]   \n",
    "2번째 게시글 작성일. //*[@id=\"detail_con\"]/div[3]/table/tbody/tr[2]/td[3] \n",
    "\n",
    "...\n",
    "\n",
    "10번째 게시글 작성일. //*[@id=\"detail_con\"]/div[3]/table/tbody/tr[10]/td[3] "
   ]
  },
  {
   "cell_type": "markdown",
   "id": "da2cea9c-35f4-41c1-952f-0a1e635d24ad",
   "metadata": {},
   "source": [
    "### 페이지(규칙 존재) >> 올해 게시글만 (10페이지까지)\n",
    "\n",
    "2 페이지. //*[@id=\"detail_con\"]/div[3]/div/ul/li[**4**]/a  \n",
    "3 페이지. //*[@id=\"detail_con\"]/div[3]/div/ul/li[**5**]/a  \n",
    "4 페이지. //*[@id=\"detail_con\"]/div[3]/div/ul/li[**6**]/a \n",
    "\n",
    "...\n",
    "\n",
    "10 페이지. //*[@id=\"detail_con\"]/div[3]/div/ul/li[**12**]/a "
   ]
  },
  {
   "cell_type": "markdown",
   "id": "83189258-0092-4174-b64e-cb397b7e82ec",
   "metadata": {},
   "source": [
    "---"
   ]
  },
  {
   "cell_type": "markdown",
   "id": "18f9fd04-e3c2-4d00-b249-ca4d4c9e9b3b",
   "metadata": {},
   "source": [
    "### 알고리즘\n",
    "\n",
    "1페이지 1번째 게시글 크롤링 구동 확인"
   ]
  },
  {
   "cell_type": "code",
   "execution_count": 74,
   "id": "ac52b55b-ea53-4682-bbe3-3262ee5d46b0",
   "metadata": {},
   "outputs": [],
   "source": [
    "import urllib.request\n",
    "from selenium import webdriver\n",
    "import time"
   ]
  },
  {
   "cell_type": "code",
   "execution_count": 110,
   "id": "22e7563f-cb26-472b-9728-603bdeab5e71",
   "metadata": {},
   "outputs": [],
   "source": [
    "# 드라이버를 실행하여, 웹페이지 열기\n",
    "driver = webdriver.Chrome('chromedriver')\n",
    "driver.get('https://www.sisul.or.kr/open_content/calltaxi/community/citizen.jsp')"
   ]
  },
  {
   "cell_type": "code",
   "execution_count": 111,
   "id": "8396a0b5-6942-43e8-a73d-8244bf48f735",
   "metadata": {},
   "outputs": [
    {
     "data": {
      "text/plain": [
       "'2021.09.07'"
      ]
     },
     "execution_count": 111,
     "metadata": {},
     "output_type": "execute_result"
    }
   ],
   "source": [
    "# 날짜 출력\n",
    "day = driver.find_element_by_xpath('//*[@id=\"detail_con\"]/div[3]/table/tbody/tr[1]/td[3]')\n",
    "day.text"
   ]
  },
  {
   "cell_type": "code",
   "execution_count": 112,
   "id": "13430301-7f93-4228-8778-3eeaf961f1c2",
   "metadata": {},
   "outputs": [],
   "source": [
    "# 1페이지 1번째 게시글 접속\n",
    "driver.find_element_by_xpath('//*[@id=\"detail_con\"]/div[3]/table/tbody/tr[1]/td[2]/a').click()"
   ]
  },
  {
   "cell_type": "code",
   "execution_count": 113,
   "id": "74c0276a-c3ab-46cd-b089-90831490c223",
   "metadata": {},
   "outputs": [
    {
     "data": {
      "text/plain": [
       "'71우8049면목차고지박상민주임님을칭찬합니다'"
      ]
     },
     "execution_count": 113,
     "metadata": {},
     "output_type": "execute_result"
    }
   ],
   "source": [
    "# 제목 출력\n",
    "title = driver.find_element_by_xpath('//*[@id=\"detail_con\"]/div[2]/table[1]/thead/tr/td')\n",
    "title.text"
   ]
  },
  {
   "cell_type": "code",
   "execution_count": 114,
   "id": "6afafdc0-be74-4e33-98f3-e47b9a541f53",
   "metadata": {},
   "outputs": [
    {
     "data": {
      "text/plain": [
       "'2021년8월16일월요일에 휘경동삼육서울병원에서 집에갈때배차가안돼는데\\n첫번째는김경희주임님이올라오셔서 차배차됐는지물어봐서 배차가안됐다고했는데\\n김경희주임님이 고객태우고가셔는데\\n71버0817이배차돼어기다리고있는데\\n71우8049면목차고지박상민주임님이\\n차배차됐냐고해서 배차됐다고했는데\\n박상민주임님께서 아이아깝네 배차안됐으면 경유콜를해줄려고했는데라고해서\\n고마워서칭찬합니다.'"
      ]
     },
     "execution_count": 114,
     "metadata": {},
     "output_type": "execute_result"
    }
   ],
   "source": [
    "# 내용 출력\n",
    "sentence = driver.find_element_by_xpath('//*[@id=\"detail_con\"]/div[2]/table[1]/tbody/tr[3]/td')\n",
    "sentence.text"
   ]
  },
  {
   "cell_type": "code",
   "execution_count": 115,
   "id": "f40daf5e-8753-4bbd-9249-dc8fb9e58caf",
   "metadata": {},
   "outputs": [],
   "source": [
    "# 목록 이동\n",
    "driver.find_element_by_xpath('//*[@id=\"detail_con\"]/div[2]/p/a').click()"
   ]
  },
  {
   "cell_type": "markdown",
   "id": "c77e57a3-fe6b-44b3-9cb2-62efa815e123",
   "metadata": {},
   "source": [
    "---"
   ]
  },
  {
   "cell_type": "markdown",
   "id": "fa5482fd-c578-45b9-ae71-cf94d6eb8613",
   "metadata": {},
   "source": [
    "### 크롤링 실전(for문 사용)"
   ]
  },
  {
   "cell_type": "code",
   "execution_count": 44,
   "id": "298468c7-a51f-44a1-9a6e-d7140a2e81a3",
   "metadata": {},
   "outputs": [],
   "source": [
    "import urllib.request\n",
    "from selenium import webdriver\n",
    "import time"
   ]
  },
  {
   "cell_type": "code",
   "execution_count": 94,
   "id": "6531a903-110b-4660-943a-b041aec543fc",
   "metadata": {},
   "outputs": [],
   "source": [
    "# 드라이버를 실행하여, 웹페이지 열기\n",
    "driver = webdriver.Chrome('chromedriver')\n",
    "driver.get('https://www.sisul.or.kr/open_content/calltaxi/community/citizen.jsp')"
   ]
  },
  {
   "cell_type": "code",
   "execution_count": 95,
   "id": "9e536877-93c2-4fd1-9905-bdaa6ad94aad",
   "metadata": {},
   "outputs": [],
   "source": [
    "title_list = [] # 제목\n",
    "content_list = [] # 내용\n",
    "day_list = [] # 작성날짜\n",
    "\n",
    "for j in range(1, 11): # 페이지 for문\n",
    "    for i in range(1, 11): # 게시글 for문\n",
    "        day = driver.find_element_by_xpath('//*[@id=\"detail_con\"]/div[3]/table/tbody/tr['+str(i)+']/td[3]') # 작성일 복사\n",
    "        day_list.append(day.text) # 작성일 저장\n",
    "        driver.implicitly_wait(10)\n",
    "        driver.find_element_by_xpath('//*[@id=\"detail_con\"]/div[3]/table/tbody/tr['+str(i)+']/td[2]/a').click() # 게시글 선택\n",
    "        title = driver.find_element_by_xpath('//*[@id=\"detail_con\"]/div[2]/table[1]/thead/tr/td') # 제목 복사\n",
    "        sentence = driver.find_element_by_xpath('//*[@id=\"detail_con\"]/div[2]/table[1]/tbody/tr[3]/td') # 내용 복사\n",
    "        driver.implicitly_wait(10)\n",
    "        title_list.append(title.text) # 제목 저장\n",
    "        content_list.append(sentence.text) # 내용 저장\n",
    "        driver.find_element_by_xpath('//*[@id=\"detail_con\"]/div[2]/p/a').click() # 목록 이동\n",
    "    driver.find_element_by_xpath('//*[@id=\"detail_con\"]/div[3]/div/ul/li['+str(j+3)+']/a').click() # 페이지 선택(4 ~ 12)\n",
    "    driver.implicitly_wait(10)"
   ]
  },
  {
   "cell_type": "code",
   "execution_count": 96,
   "id": "f6bc9dfa-ecfd-44a7-aa0d-9c39e0dcf63c",
   "metadata": {},
   "outputs": [
    {
     "data": {
      "text/html": [
       "<div>\n",
       "<style scoped>\n",
       "    .dataframe tbody tr th:only-of-type {\n",
       "        vertical-align: middle;\n",
       "    }\n",
       "\n",
       "    .dataframe tbody tr th {\n",
       "        vertical-align: top;\n",
       "    }\n",
       "\n",
       "    .dataframe thead th {\n",
       "        text-align: right;\n",
       "    }\n",
       "</style>\n",
       "<table border=\"1\" class=\"dataframe\">\n",
       "  <thead>\n",
       "    <tr style=\"text-align: right;\">\n",
       "      <th></th>\n",
       "      <th>작성일</th>\n",
       "      <th>제목</th>\n",
       "      <th>내용</th>\n",
       "    </tr>\n",
       "  </thead>\n",
       "  <tbody>\n",
       "    <tr>\n",
       "      <th>0</th>\n",
       "      <td>2021.09.07</td>\n",
       "      <td>71우8049면목차고지박상민주임님을칭찬합니다</td>\n",
       "      <td>2021년8월16일월요일에 휘경동삼육서울병원에서 집에갈때배차가안돼는데\\n첫번째는김경...</td>\n",
       "    </tr>\n",
       "    <tr>\n",
       "      <th>1</th>\n",
       "      <td>2021.09.05</td>\n",
       "      <td>첫 차 운행 시간 좀 가르쳐주세요</td>\n",
       "      <td>장애인 콜택시 첫 차 시간좀 가르쳐주세요 부탁드릴게요</td>\n",
       "    </tr>\n",
       "    <tr>\n",
       "      <th>2</th>\n",
       "      <td>2021.09.03</td>\n",
       "      <td>8038 김정훈기사님을 칭찬합니다.</td>\n",
       "      <td>장애인콜택시를 매일 이용하는 이용인입니다. 이용을 하다보면 때론 본의 아니게 짜증이...</td>\n",
       "    </tr>\n",
       "    <tr>\n",
       "      <th>3</th>\n",
       "      <td>2021.09.01</td>\n",
       "      <td>면목차고지 이석진 주임을 칭찬합니다</td>\n",
       "      <td>오늘 칭찬 대상분은 면목차고지 이석진주임을 칭찬합니다\\n평소에 자주 뵙진 못했지만 ...</td>\n",
       "    </tr>\n",
       "    <tr>\n",
       "      <th>4</th>\n",
       "      <td>2021.08.26</td>\n",
       "      <td>10분대기</td>\n",
       "      <td>콜택시가 목적지 도착 후 10분 대기 시간이 있는데도 불구하고 전화로 왜 안나오는지...</td>\n",
       "    </tr>\n",
       "  </tbody>\n",
       "</table>\n",
       "</div>"
      ],
      "text/plain": [
       "          작성일                        제목  \\\n",
       "0  2021.09.07  71우8049면목차고지박상민주임님을칭찬합니다   \n",
       "1  2021.09.05        첫 차 운행 시간 좀 가르쳐주세요   \n",
       "2  2021.09.03       8038 김정훈기사님을 칭찬합니다.   \n",
       "3  2021.09.01       면목차고지 이석진 주임을 칭찬합니다   \n",
       "4  2021.08.26                     10분대기   \n",
       "\n",
       "                                                  내용  \n",
       "0  2021년8월16일월요일에 휘경동삼육서울병원에서 집에갈때배차가안돼는데\\n첫번째는김경...  \n",
       "1                      장애인 콜택시 첫 차 시간좀 가르쳐주세요 부탁드릴게요  \n",
       "2  장애인콜택시를 매일 이용하는 이용인입니다. 이용을 하다보면 때론 본의 아니게 짜증이...  \n",
       "3  오늘 칭찬 대상분은 면목차고지 이석진주임을 칭찬합니다\\n평소에 자주 뵙진 못했지만 ...  \n",
       "4  콜택시가 목적지 도착 후 10분 대기 시간이 있는데도 불구하고 전화로 왜 안나오는지...  "
      ]
     },
     "execution_count": 96,
     "metadata": {},
     "output_type": "execute_result"
    }
   ],
   "source": [
    "import pandas as pd\n",
    "\n",
    "df1 = pd.DataFrame({'작성일':day_list, '제목':title_list, '내용':content_list})\n",
    "df1.head()"
   ]
  },
  {
   "cell_type": "code",
   "execution_count": 98,
   "id": "7886f8b8-804d-434b-a393-3eb7351e93ab",
   "metadata": {},
   "outputs": [],
   "source": [
    "# excel 파일 저장\n",
    "df1.to_excel('장애인 콜택시 후기.xlsx', encoding = 'cp949', index = False)"
   ]
  }
 ],
 "metadata": {
  "kernelspec": {
   "display_name": "Python 3",
   "language": "python",
   "name": "python3"
  },
  "language_info": {
   "codemirror_mode": {
    "name": "ipython",
    "version": 3
   },
   "file_extension": ".py",
   "mimetype": "text/x-python",
   "name": "python",
   "nbconvert_exporter": "python",
   "pygments_lexer": "ipython3",
   "version": "3.8.8"
  }
 },
 "nbformat": 4,
 "nbformat_minor": 5
}
